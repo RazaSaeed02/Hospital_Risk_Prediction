{
 "cells": [
  {
   "cell_type": "code",
   "execution_count": 314,
   "id": "dcda650b",
   "metadata": {},
   "outputs": [],
   "source": [
    "# Import Libraries\n",
    "import numpy as np\n",
    "import pandas as pd\n",
    "pd.set_option('display.max_columns', None)\n",
    "pd.set_option('display.max_rows', None)\n",
    "pd.set_option('display.float_format', '{:.2f}'.format)\n",
    "\n",
    "import warnings\n",
    "warnings.filterwarnings('ignore')"
   ]
  },
  {
   "cell_type": "code",
   "execution_count": 315,
   "id": "00630329",
   "metadata": {},
   "outputs": [],
   "source": [
    "cols = ['PatientId', 'Age', 'Gender', 'weight', 'Diseases', 'BodyTemperature', 'OxygenLevel',\n",
    "        'BloodSugar', 'HRV', 'HeartRate', 'Systolic', 'Diasystolic', 'StepCount', 'TimeInBed',\n",
    "        'RespiratoryRate', 'StressLevel', 'FallAccur', 'BMI']"
   ]
  },
  {
   "cell_type": "code",
   "execution_count": 316,
   "id": "158e113c",
   "metadata": {
    "scrolled": false
   },
   "outputs": [
    {
     "data": {
      "text/html": [
       "<div>\n",
       "<style scoped>\n",
       "    .dataframe tbody tr th:only-of-type {\n",
       "        vertical-align: middle;\n",
       "    }\n",
       "\n",
       "    .dataframe tbody tr th {\n",
       "        vertical-align: top;\n",
       "    }\n",
       "\n",
       "    .dataframe thead th {\n",
       "        text-align: right;\n",
       "    }\n",
       "</style>\n",
       "<table border=\"1\" class=\"dataframe\">\n",
       "  <thead>\n",
       "    <tr style=\"text-align: right;\">\n",
       "      <th></th>\n",
       "      <th>PatientId</th>\n",
       "      <th>Age</th>\n",
       "      <th>Gender</th>\n",
       "      <th>weight</th>\n",
       "      <th>Diseases</th>\n",
       "      <th>BodyTemperature</th>\n",
       "      <th>OxygenLevel</th>\n",
       "      <th>BloodSugar</th>\n",
       "      <th>HRV</th>\n",
       "      <th>HeartRate</th>\n",
       "      <th>Systolic</th>\n",
       "      <th>Diasystolic</th>\n",
       "      <th>StepCount</th>\n",
       "      <th>TimeInBed</th>\n",
       "      <th>RespiratoryRate</th>\n",
       "      <th>StressLevel</th>\n",
       "      <th>FallAccur</th>\n",
       "      <th>BMI</th>\n",
       "    </tr>\n",
       "  </thead>\n",
       "  <tbody>\n",
       "    <tr>\n",
       "      <th>0</th>\n",
       "      <td>303</td>\n",
       "      <td>88.00</td>\n",
       "      <td>Female</td>\n",
       "      <td>89.00</td>\n",
       "      <td>NaN</td>\n",
       "      <td>NaN</td>\n",
       "      <td>NaN</td>\n",
       "      <td>NaN</td>\n",
       "      <td>NaN</td>\n",
       "      <td>NaN</td>\n",
       "      <td>NaN</td>\n",
       "      <td>NaN</td>\n",
       "      <td>NaN</td>\n",
       "      <td>NaN</td>\n",
       "      <td>NaN</td>\n",
       "      <td>NaN</td>\n",
       "      <td>NaN</td>\n",
       "      <td>NaN</td>\n",
       "    </tr>\n",
       "    <tr>\n",
       "      <th>1</th>\n",
       "      <td>386</td>\n",
       "      <td>20.00</td>\n",
       "      <td>Male</td>\n",
       "      <td>66.00</td>\n",
       "      <td>NaN</td>\n",
       "      <td>NaN</td>\n",
       "      <td>NaN</td>\n",
       "      <td>NaN</td>\n",
       "      <td>NaN</td>\n",
       "      <td>NaN</td>\n",
       "      <td>NaN</td>\n",
       "      <td>NaN</td>\n",
       "      <td>NaN</td>\n",
       "      <td>NaN</td>\n",
       "      <td>NaN</td>\n",
       "      <td>NaN</td>\n",
       "      <td>NaN</td>\n",
       "      <td>NaN</td>\n",
       "    </tr>\n",
       "    <tr>\n",
       "      <th>2</th>\n",
       "      <td>385</td>\n",
       "      <td>21.00</td>\n",
       "      <td>Female</td>\n",
       "      <td>80.00</td>\n",
       "      <td>NaN</td>\n",
       "      <td>NaN</td>\n",
       "      <td>NaN</td>\n",
       "      <td>NaN</td>\n",
       "      <td>NaN</td>\n",
       "      <td>NaN</td>\n",
       "      <td>NaN</td>\n",
       "      <td>NaN</td>\n",
       "      <td>NaN</td>\n",
       "      <td>NaN</td>\n",
       "      <td>NaN</td>\n",
       "      <td>NaN</td>\n",
       "      <td>NaN</td>\n",
       "      <td>NaN</td>\n",
       "    </tr>\n",
       "    <tr>\n",
       "      <th>3</th>\n",
       "      <td>379</td>\n",
       "      <td>81.00</td>\n",
       "      <td>Male</td>\n",
       "      <td>90.25</td>\n",
       "      <td>NaN</td>\n",
       "      <td>NaN</td>\n",
       "      <td>NaN</td>\n",
       "      <td>NaN</td>\n",
       "      <td>NaN</td>\n",
       "      <td>NaN</td>\n",
       "      <td>NaN</td>\n",
       "      <td>NaN</td>\n",
       "      <td>NaN</td>\n",
       "      <td>NaN</td>\n",
       "      <td>NaN</td>\n",
       "      <td>NaN</td>\n",
       "      <td>NaN</td>\n",
       "      <td>NaN</td>\n",
       "    </tr>\n",
       "    <tr>\n",
       "      <th>4</th>\n",
       "      <td>376</td>\n",
       "      <td>42.00</td>\n",
       "      <td>Female</td>\n",
       "      <td>0.00</td>\n",
       "      <td>NaN</td>\n",
       "      <td>NaN</td>\n",
       "      <td>NaN</td>\n",
       "      <td>NaN</td>\n",
       "      <td>NaN</td>\n",
       "      <td>NaN</td>\n",
       "      <td>NaN</td>\n",
       "      <td>NaN</td>\n",
       "      <td>NaN</td>\n",
       "      <td>NaN</td>\n",
       "      <td>NaN</td>\n",
       "      <td>NaN</td>\n",
       "      <td>NaN</td>\n",
       "      <td>NaN</td>\n",
       "    </tr>\n",
       "  </tbody>\n",
       "</table>\n",
       "</div>"
      ],
      "text/plain": [
       "   PatientId   Age  Gender  weight Diseases  BodyTemperature  OxygenLevel  \\\n",
       "0        303 88.00  Female   89.00      NaN              NaN          NaN   \n",
       "1        386 20.00    Male   66.00      NaN              NaN          NaN   \n",
       "2        385 21.00  Female   80.00      NaN              NaN          NaN   \n",
       "3        379 81.00    Male   90.25      NaN              NaN          NaN   \n",
       "4        376 42.00  Female    0.00      NaN              NaN          NaN   \n",
       "\n",
       "   BloodSugar  HRV  HeartRate  Systolic  Diasystolic  StepCount  TimeInBed  \\\n",
       "0         NaN  NaN        NaN       NaN          NaN        NaN        NaN   \n",
       "1         NaN  NaN        NaN       NaN          NaN        NaN        NaN   \n",
       "2         NaN  NaN        NaN       NaN          NaN        NaN        NaN   \n",
       "3         NaN  NaN        NaN       NaN          NaN        NaN        NaN   \n",
       "4         NaN  NaN        NaN       NaN          NaN        NaN        NaN   \n",
       "\n",
       "   RespiratoryRate  StressLevel  FallAccur  BMI  \n",
       "0              NaN          NaN        NaN  NaN  \n",
       "1              NaN          NaN        NaN  NaN  \n",
       "2              NaN          NaN        NaN  NaN  \n",
       "3              NaN          NaN        NaN  NaN  \n",
       "4              NaN          NaN        NaN  NaN  "
      ]
     },
     "execution_count": 316,
     "metadata": {},
     "output_type": "execute_result"
    }
   ],
   "source": [
    "# Read in data\n",
    "df = pd.read_excel('SensightPatientsInFlatFile.xlsx',\n",
    "                   usecols = cols)\n",
    "\n",
    "df.head()"
   ]
  },
  {
   "cell_type": "code",
   "execution_count": 317,
   "id": "59f890df",
   "metadata": {},
   "outputs": [
    {
     "data": {
      "text/plain": [
       "(220233, 18)"
      ]
     },
     "execution_count": 317,
     "metadata": {},
     "output_type": "execute_result"
    }
   ],
   "source": [
    "# Check shape of data\n",
    "df.shape"
   ]
  },
  {
   "cell_type": "code",
   "execution_count": 318,
   "id": "3a10e2f8",
   "metadata": {
    "scrolled": false
   },
   "outputs": [
    {
     "name": "stdout",
     "output_type": "stream",
     "text": [
      "<class 'pandas.core.frame.DataFrame'>\n",
      "RangeIndex: 220233 entries, 0 to 220232\n",
      "Data columns (total 18 columns):\n",
      " #   Column           Non-Null Count   Dtype  \n",
      "---  ------           --------------   -----  \n",
      " 0   PatientId        220233 non-null  int64  \n",
      " 1   Age              181770 non-null  float64\n",
      " 2   Gender           160428 non-null  object \n",
      " 3   weight           178932 non-null  float64\n",
      " 4   Diseases         24323 non-null   object \n",
      " 5   BodyTemperature  5198 non-null    float64\n",
      " 6   OxygenLevel      7309 non-null    float64\n",
      " 7   BloodSugar       2449 non-null    float64\n",
      " 8   HRV              6827 non-null    float64\n",
      " 9   HeartRate        8053 non-null    float64\n",
      " 10  Systolic         6560 non-null    float64\n",
      " 11  Diasystolic      6552 non-null    float64\n",
      " 12  StepCount        6225 non-null    float64\n",
      " 13  TimeInBed        2179 non-null    float64\n",
      " 14  RespiratoryRate  4111 non-null    float64\n",
      " 15  StressLevel      2025 non-null    float64\n",
      " 16  FallAccur        25517 non-null   float64\n",
      " 17  BMI              2120 non-null    float64\n",
      "dtypes: float64(15), int64(1), object(2)\n",
      "memory usage: 30.2+ MB\n"
     ]
    }
   ],
   "source": [
    "# Info about each column\n",
    "df.info()"
   ]
  },
  {
   "cell_type": "code",
   "execution_count": 319,
   "id": "9ba605f1",
   "metadata": {},
   "outputs": [
    {
     "data": {
      "text/html": [
       "<div>\n",
       "<style scoped>\n",
       "    .dataframe tbody tr th:only-of-type {\n",
       "        vertical-align: middle;\n",
       "    }\n",
       "\n",
       "    .dataframe tbody tr th {\n",
       "        vertical-align: top;\n",
       "    }\n",
       "\n",
       "    .dataframe thead th {\n",
       "        text-align: right;\n",
       "    }\n",
       "</style>\n",
       "<table border=\"1\" class=\"dataframe\">\n",
       "  <thead>\n",
       "    <tr style=\"text-align: right;\">\n",
       "      <th></th>\n",
       "      <th>PatientId</th>\n",
       "      <th>Age</th>\n",
       "      <th>weight</th>\n",
       "      <th>BodyTemperature</th>\n",
       "      <th>OxygenLevel</th>\n",
       "      <th>BloodSugar</th>\n",
       "      <th>HRV</th>\n",
       "      <th>HeartRate</th>\n",
       "      <th>Systolic</th>\n",
       "      <th>Diasystolic</th>\n",
       "      <th>StepCount</th>\n",
       "      <th>TimeInBed</th>\n",
       "      <th>RespiratoryRate</th>\n",
       "      <th>StressLevel</th>\n",
       "      <th>FallAccur</th>\n",
       "      <th>BMI</th>\n",
       "    </tr>\n",
       "  </thead>\n",
       "  <tbody>\n",
       "    <tr>\n",
       "      <th>count</th>\n",
       "      <td>220233.00</td>\n",
       "      <td>181770.00</td>\n",
       "      <td>178932.00</td>\n",
       "      <td>5198.00</td>\n",
       "      <td>7309.00</td>\n",
       "      <td>2449.00</td>\n",
       "      <td>6827.00</td>\n",
       "      <td>8053.00</td>\n",
       "      <td>6560.00</td>\n",
       "      <td>6552.00</td>\n",
       "      <td>6225.00</td>\n",
       "      <td>2179.00</td>\n",
       "      <td>4111.00</td>\n",
       "      <td>2025.00</td>\n",
       "      <td>25517.00</td>\n",
       "      <td>2120.00</td>\n",
       "    </tr>\n",
       "    <tr>\n",
       "      <th>mean</th>\n",
       "      <td>1708.65</td>\n",
       "      <td>267.13</td>\n",
       "      <td>35.29</td>\n",
       "      <td>63.91</td>\n",
       "      <td>95.59</td>\n",
       "      <td>126.89</td>\n",
       "      <td>71.80</td>\n",
       "      <td>76.39</td>\n",
       "      <td>136.97</td>\n",
       "      <td>75.37</td>\n",
       "      <td>4289.74</td>\n",
       "      <td>421.97</td>\n",
       "      <td>2246.15</td>\n",
       "      <td>0.43</td>\n",
       "      <td>1.00</td>\n",
       "      <td>170.94</td>\n",
       "    </tr>\n",
       "    <tr>\n",
       "      <th>std</th>\n",
       "      <td>1469.31</td>\n",
       "      <td>624.68</td>\n",
       "      <td>58.81</td>\n",
       "      <td>37.03</td>\n",
       "      <td>23.34</td>\n",
       "      <td>122.03</td>\n",
       "      <td>32.44</td>\n",
       "      <td>30.85</td>\n",
       "      <td>63.81</td>\n",
       "      <td>37.63</td>\n",
       "      <td>4340.52</td>\n",
       "      <td>135.81</td>\n",
       "      <td>134272.29</td>\n",
       "      <td>2.98</td>\n",
       "      <td>0.00</td>\n",
       "      <td>858.21</td>\n",
       "    </tr>\n",
       "    <tr>\n",
       "      <th>min</th>\n",
       "      <td>1.00</td>\n",
       "      <td>2.00</td>\n",
       "      <td>0.00</td>\n",
       "      <td>-17.00</td>\n",
       "      <td>0.00</td>\n",
       "      <td>0.00</td>\n",
       "      <td>0.00</td>\n",
       "      <td>0.00</td>\n",
       "      <td>0.00</td>\n",
       "      <td>0.00</td>\n",
       "      <td>0.00</td>\n",
       "      <td>0.00</td>\n",
       "      <td>0.00</td>\n",
       "      <td>-1.00</td>\n",
       "      <td>1.00</td>\n",
       "      <td>0.00</td>\n",
       "    </tr>\n",
       "    <tr>\n",
       "      <th>25%</th>\n",
       "      <td>325.00</td>\n",
       "      <td>22.00</td>\n",
       "      <td>0.00</td>\n",
       "      <td>36.00</td>\n",
       "      <td>96.00</td>\n",
       "      <td>105.00</td>\n",
       "      <td>44.00</td>\n",
       "      <td>68.00</td>\n",
       "      <td>115.00</td>\n",
       "      <td>66.00</td>\n",
       "      <td>129.00</td>\n",
       "      <td>331.00</td>\n",
       "      <td>10.00</td>\n",
       "      <td>-1.00</td>\n",
       "      <td>1.00</td>\n",
       "      <td>83.00</td>\n",
       "    </tr>\n",
       "    <tr>\n",
       "      <th>50%</th>\n",
       "      <td>633.00</td>\n",
       "      <td>36.00</td>\n",
       "      <td>0.00</td>\n",
       "      <td>39.00</td>\n",
       "      <td>98.00</td>\n",
       "      <td>136.00</td>\n",
       "      <td>72.00</td>\n",
       "      <td>80.00</td>\n",
       "      <td>122.00</td>\n",
       "      <td>72.00</td>\n",
       "      <td>3776.71</td>\n",
       "      <td>420.00</td>\n",
       "      <td>13.00</td>\n",
       "      <td>0.00</td>\n",
       "      <td>1.00</td>\n",
       "      <td>123.00</td>\n",
       "    </tr>\n",
       "    <tr>\n",
       "      <th>75%</th>\n",
       "      <td>2997.00</td>\n",
       "      <td>77.00</td>\n",
       "      <td>66.00</td>\n",
       "      <td>100.00</td>\n",
       "      <td>99.00</td>\n",
       "      <td>170.00</td>\n",
       "      <td>95.00</td>\n",
       "      <td>91.00</td>\n",
       "      <td>140.00</td>\n",
       "      <td>79.00</td>\n",
       "      <td>7749.00</td>\n",
       "      <td>507.50</td>\n",
       "      <td>17.00</td>\n",
       "      <td>1.00</td>\n",
       "      <td>1.00</td>\n",
       "      <td>161.00</td>\n",
       "    </tr>\n",
       "    <tr>\n",
       "      <th>max</th>\n",
       "      <td>6273.00</td>\n",
       "      <td>2022.00</td>\n",
       "      <td>900.00</td>\n",
       "      <td>1234.00</td>\n",
       "      <td>1234.00</td>\n",
       "      <td>4264.20</td>\n",
       "      <td>1234.00</td>\n",
       "      <td>1234.00</td>\n",
       "      <td>2145.00</td>\n",
       "      <td>1384.00</td>\n",
       "      <td>35000.00</td>\n",
       "      <td>2400.00</td>\n",
       "      <td>8589888.00</td>\n",
       "      <td>100.00</td>\n",
       "      <td>1.00</td>\n",
       "      <td>19669.42</td>\n",
       "    </tr>\n",
       "  </tbody>\n",
       "</table>\n",
       "</div>"
      ],
      "text/plain": [
       "       PatientId       Age    weight  BodyTemperature  OxygenLevel  \\\n",
       "count  220233.00 181770.00 178932.00          5198.00      7309.00   \n",
       "mean     1708.65    267.13     35.29            63.91        95.59   \n",
       "std      1469.31    624.68     58.81            37.03        23.34   \n",
       "min         1.00      2.00      0.00           -17.00         0.00   \n",
       "25%       325.00     22.00      0.00            36.00        96.00   \n",
       "50%       633.00     36.00      0.00            39.00        98.00   \n",
       "75%      2997.00     77.00     66.00           100.00        99.00   \n",
       "max      6273.00   2022.00    900.00          1234.00      1234.00   \n",
       "\n",
       "       BloodSugar     HRV  HeartRate  Systolic  Diasystolic  StepCount  \\\n",
       "count     2449.00 6827.00    8053.00   6560.00      6552.00    6225.00   \n",
       "mean       126.89   71.80      76.39    136.97        75.37    4289.74   \n",
       "std        122.03   32.44      30.85     63.81        37.63    4340.52   \n",
       "min          0.00    0.00       0.00      0.00         0.00       0.00   \n",
       "25%        105.00   44.00      68.00    115.00        66.00     129.00   \n",
       "50%        136.00   72.00      80.00    122.00        72.00    3776.71   \n",
       "75%        170.00   95.00      91.00    140.00        79.00    7749.00   \n",
       "max       4264.20 1234.00    1234.00   2145.00      1384.00   35000.00   \n",
       "\n",
       "       TimeInBed  RespiratoryRate  StressLevel  FallAccur      BMI  \n",
       "count    2179.00          4111.00      2025.00   25517.00  2120.00  \n",
       "mean      421.97          2246.15         0.43       1.00   170.94  \n",
       "std       135.81        134272.29         2.98       0.00   858.21  \n",
       "min         0.00             0.00        -1.00       1.00     0.00  \n",
       "25%       331.00            10.00        -1.00       1.00    83.00  \n",
       "50%       420.00            13.00         0.00       1.00   123.00  \n",
       "75%       507.50            17.00         1.00       1.00   161.00  \n",
       "max      2400.00       8589888.00       100.00       1.00 19669.42  "
      ]
     },
     "execution_count": 319,
     "metadata": {},
     "output_type": "execute_result"
    }
   ],
   "source": [
    "# Summary of Statistics for each numerical colum\n",
    "df.describe()"
   ]
  },
  {
   "cell_type": "markdown",
   "id": "0943a37c",
   "metadata": {},
   "source": [
    "**Outliers will need to be dealt with in the following columns:**\n",
    "- Age\n",
    "- Weight\n",
    "- Body Temperature\n",
    "- Oxygen Level\n",
    "- Blood Sugar\n",
    "- Heart Rate Variability\n",
    "- Resting Heart Rate\n",
    "- Systolic BP\n",
    "- Diastolic BP\n",
    "- Step Count\n",
    "- Time in Bed\n",
    "- Respiratory Rate\n",
    "- Stress Level\n",
    "- BMI"
   ]
  },
  {
   "cell_type": "code",
   "execution_count": null,
   "id": "f2b17a29",
   "metadata": {},
   "outputs": [],
   "source": []
  },
  {
   "cell_type": "code",
   "execution_count": 320,
   "id": "6ac5ce7e",
   "metadata": {},
   "outputs": [
    {
     "data": {
      "text/html": [
       "<div>\n",
       "<style scoped>\n",
       "    .dataframe tbody tr th:only-of-type {\n",
       "        vertical-align: middle;\n",
       "    }\n",
       "\n",
       "    .dataframe tbody tr th {\n",
       "        vertical-align: top;\n",
       "    }\n",
       "\n",
       "    .dataframe thead th {\n",
       "        text-align: right;\n",
       "    }\n",
       "</style>\n",
       "<table border=\"1\" class=\"dataframe\">\n",
       "  <thead>\n",
       "    <tr style=\"text-align: right;\">\n",
       "      <th></th>\n",
       "      <th>count</th>\n",
       "      <th>unique</th>\n",
       "      <th>top</th>\n",
       "      <th>freq</th>\n",
       "    </tr>\n",
       "  </thead>\n",
       "  <tbody>\n",
       "    <tr>\n",
       "      <th>Gender</th>\n",
       "      <td>160428</td>\n",
       "      <td>6</td>\n",
       "      <td>Male</td>\n",
       "      <td>69736</td>\n",
       "    </tr>\n",
       "    <tr>\n",
       "      <th>Diseases</th>\n",
       "      <td>24323</td>\n",
       "      <td>38</td>\n",
       "      <td>Campylobacter Infection., Angina</td>\n",
       "      <td>13300</td>\n",
       "    </tr>\n",
       "  </tbody>\n",
       "</table>\n",
       "</div>"
      ],
      "text/plain": [
       "           count unique                               top   freq\n",
       "Gender    160428      6                              Male  69736\n",
       "Diseases   24323     38  Campylobacter Infection., Angina  13300"
      ]
     },
     "execution_count": 320,
     "metadata": {},
     "output_type": "execute_result"
    }
   ],
   "source": [
    "# Summary of statistics for each categorical variable\n",
    "df.describe(include=['object']).T"
   ]
  },
  {
   "cell_type": "markdown",
   "id": "e7b89bac",
   "metadata": {},
   "source": [
    "#### Observations"
   ]
  },
  {
   "cell_type": "markdown",
   "id": "3413e0ac",
   "metadata": {},
   "source": [
    "* 6 unique genders with male being the most with 69,736\n",
    "* 38 unique diseases"
   ]
  },
  {
   "cell_type": "code",
   "execution_count": 321,
   "id": "d0cd1770",
   "metadata": {
    "scrolled": true
   },
   "outputs": [],
   "source": [
    "# df.select_dtypes('object').head()"
   ]
  },
  {
   "cell_type": "markdown",
   "id": "3195c76a",
   "metadata": {},
   "source": [
    "#### Breakdown of Categorical Columns"
   ]
  },
  {
   "cell_type": "code",
   "execution_count": 322,
   "id": "b6acb034",
   "metadata": {},
   "outputs": [
    {
     "data": {
      "text/html": [
       "<div>\n",
       "<style scoped>\n",
       "    .dataframe tbody tr th:only-of-type {\n",
       "        vertical-align: middle;\n",
       "    }\n",
       "\n",
       "    .dataframe tbody tr th {\n",
       "        vertical-align: top;\n",
       "    }\n",
       "\n",
       "    .dataframe thead th {\n",
       "        text-align: right;\n",
       "    }\n",
       "</style>\n",
       "<table border=\"1\" class=\"dataframe\">\n",
       "  <thead>\n",
       "    <tr style=\"text-align: right;\">\n",
       "      <th></th>\n",
       "      <th>Gender</th>\n",
       "    </tr>\n",
       "  </thead>\n",
       "  <tbody>\n",
       "    <tr>\n",
       "      <th>Male</th>\n",
       "      <td>69736</td>\n",
       "    </tr>\n",
       "    <tr>\n",
       "      <th>Female</th>\n",
       "      <td>49027</td>\n",
       "    </tr>\n",
       "    <tr>\n",
       "      <th>Other</th>\n",
       "      <td>41555</td>\n",
       "    </tr>\n",
       "    <tr>\n",
       "      <th>Gender</th>\n",
       "      <td>55</td>\n",
       "    </tr>\n",
       "    <tr>\n",
       "      <th>male</th>\n",
       "      <td>38</td>\n",
       "    </tr>\n",
       "    <tr>\n",
       "      <th>female</th>\n",
       "      <td>17</td>\n",
       "    </tr>\n",
       "  </tbody>\n",
       "</table>\n",
       "</div>"
      ],
      "text/plain": [
       "        Gender\n",
       "Male     69736\n",
       "Female   49027\n",
       "Other    41555\n",
       "Gender      55\n",
       "male        38\n",
       "female      17"
      ]
     },
     "metadata": {},
     "output_type": "display_data"
    },
    {
     "data": {
      "text/html": [
       "<div>\n",
       "<style scoped>\n",
       "    .dataframe tbody tr th:only-of-type {\n",
       "        vertical-align: middle;\n",
       "    }\n",
       "\n",
       "    .dataframe tbody tr th {\n",
       "        vertical-align: top;\n",
       "    }\n",
       "\n",
       "    .dataframe thead th {\n",
       "        text-align: right;\n",
       "    }\n",
       "</style>\n",
       "<table border=\"1\" class=\"dataframe\">\n",
       "  <thead>\n",
       "    <tr style=\"text-align: right;\">\n",
       "      <th></th>\n",
       "      <th>Diseases</th>\n",
       "    </tr>\n",
       "  </thead>\n",
       "  <tbody>\n",
       "    <tr>\n",
       "      <th>Campylobacter Infection., Angina</th>\n",
       "      <td>13300</td>\n",
       "    </tr>\n",
       "    <tr>\n",
       "      <th>Campylobacter Infection., Angina, Bipolar disorder</th>\n",
       "      <td>5982</td>\n",
       "    </tr>\n",
       "    <tr>\n",
       "      <th>Angina</th>\n",
       "      <td>1794</td>\n",
       "    </tr>\n",
       "    <tr>\n",
       "      <th>UTIs, Angina, Bipolar disorder, Arthritis, Asthma, Chronic obstructive pulmonary disease (COPD)</th>\n",
       "      <td>1561</td>\n",
       "    </tr>\n",
       "    <tr>\n",
       "      <th>Dementia, Depression, Diabetes</th>\n",
       "      <td>597</td>\n",
       "    </tr>\n",
       "    <tr>\n",
       "      <th>Bronchitis</th>\n",
       "      <td>149</td>\n",
       "    </tr>\n",
       "    <tr>\n",
       "      <th>Swine flu., Angina, Arthritis, Asthma</th>\n",
       "      <td>136</td>\n",
       "    </tr>\n",
       "    <tr>\n",
       "      <th>Cancer</th>\n",
       "      <td>134</td>\n",
       "    </tr>\n",
       "    <tr>\n",
       "      <th>Bronchitis, Angina</th>\n",
       "      <td>122</td>\n",
       "    </tr>\n",
       "    <tr>\n",
       "      <th>Bronchitis, Bipolar disorder</th>\n",
       "      <td>106</td>\n",
       "    </tr>\n",
       "    <tr>\n",
       "      <th>Stomach Aches</th>\n",
       "      <td>72</td>\n",
       "    </tr>\n",
       "    <tr>\n",
       "      <th>Stomach Aches, UTIs</th>\n",
       "      <td>72</td>\n",
       "    </tr>\n",
       "    <tr>\n",
       "      <th>Bronchitis, Campylobacter Infection., Cancer</th>\n",
       "      <td>53</td>\n",
       "    </tr>\n",
       "    <tr>\n",
       "      <th>Campylobacter Infection.</th>\n",
       "      <td>42</td>\n",
       "    </tr>\n",
       "    <tr>\n",
       "      <th>Diabetes</th>\n",
       "      <td>31</td>\n",
       "    </tr>\n",
       "    <tr>\n",
       "      <th>Mental Health</th>\n",
       "      <td>25</td>\n",
       "    </tr>\n",
       "    <tr>\n",
       "      <th>Hypertension</th>\n",
       "      <td>23</td>\n",
       "    </tr>\n",
       "    <tr>\n",
       "      <th>Bronchitis, Arthritis</th>\n",
       "      <td>23</td>\n",
       "    </tr>\n",
       "    <tr>\n",
       "      <th>Cardiovascular disease</th>\n",
       "      <td>18</td>\n",
       "    </tr>\n",
       "    <tr>\n",
       "      <th>Influenza (Flu)</th>\n",
       "      <td>14</td>\n",
       "    </tr>\n",
       "    <tr>\n",
       "      <th>ENT</th>\n",
       "      <td>12</td>\n",
       "    </tr>\n",
       "    <tr>\n",
       "      <th>Arthritis</th>\n",
       "      <td>10</td>\n",
       "    </tr>\n",
       "    <tr>\n",
       "      <th>Dementia, Influenza (Flu), Arthritis, Diabetes, Hypertension</th>\n",
       "      <td>8</td>\n",
       "    </tr>\n",
       "    <tr>\n",
       "      <th>Depression, Diabetes</th>\n",
       "      <td>6</td>\n",
       "    </tr>\n",
       "    <tr>\n",
       "      <th>Tightfight, Swine flu., Measles.</th>\n",
       "      <td>5</td>\n",
       "    </tr>\n",
       "    <tr>\n",
       "      <th>Bipolar disorder, Arthritis</th>\n",
       "      <td>5</td>\n",
       "    </tr>\n",
       "    <tr>\n",
       "      <th>Angina, Hypertension, Multiple sclerosis (MS)</th>\n",
       "      <td>4</td>\n",
       "    </tr>\n",
       "    <tr>\n",
       "      <th>Bipolar disorder</th>\n",
       "      <td>3</td>\n",
       "    </tr>\n",
       "    <tr>\n",
       "      <th>Bronchitis, Campylobacter Infection., Angina, Bipolar disorder, Arthritis, Asthma, Cancer, Cardiovascular disease</th>\n",
       "      <td>3</td>\n",
       "    </tr>\n",
       "    <tr>\n",
       "      <th>Bronchitis, Campylobacter Infection.</th>\n",
       "      <td>2</td>\n",
       "    </tr>\n",
       "    <tr>\n",
       "      <th>Tetanus</th>\n",
       "      <td>2</td>\n",
       "    </tr>\n",
       "    <tr>\n",
       "      <th>Campylobacter Infection., Bipolar disorder</th>\n",
       "      <td>2</td>\n",
       "    </tr>\n",
       "    <tr>\n",
       "      <th>Bronchitis, Campylobacter Infection., Bipolar disorder</th>\n",
       "      <td>2</td>\n",
       "    </tr>\n",
       "    <tr>\n",
       "      <th>Bipolar disorder, Asthma</th>\n",
       "      <td>1</td>\n",
       "    </tr>\n",
       "    <tr>\n",
       "      <th>Whooping Cough</th>\n",
       "      <td>1</td>\n",
       "    </tr>\n",
       "    <tr>\n",
       "      <th>UTIs</th>\n",
       "      <td>1</td>\n",
       "    </tr>\n",
       "    <tr>\n",
       "      <th>Stomach Aches, UTIs, Dementia, Influenza (Flu), Bronchitis, Hillociantion</th>\n",
       "      <td>1</td>\n",
       "    </tr>\n",
       "    <tr>\n",
       "      <th>Bronchitis, Campylobacter Infection., Cardiovascular disease</th>\n",
       "      <td>1</td>\n",
       "    </tr>\n",
       "  </tbody>\n",
       "</table>\n",
       "</div>"
      ],
      "text/plain": [
       "                                                    Diseases\n",
       "Campylobacter Infection., Angina                       13300\n",
       "Campylobacter Infection., Angina, Bipolar disorder      5982\n",
       "Angina                                                  1794\n",
       "UTIs, Angina, Bipolar disorder, Arthritis, Asth...      1561\n",
       "Dementia, Depression, Diabetes                           597\n",
       "Bronchitis                                               149\n",
       "Swine flu., Angina, Arthritis, Asthma                    136\n",
       "Cancer                                                   134\n",
       "Bronchitis, Angina                                       122\n",
       "Bronchitis, Bipolar disorder                             106\n",
       "Stomach Aches                                             72\n",
       "Stomach Aches, UTIs                                       72\n",
       "Bronchitis, Campylobacter Infection., Cancer              53\n",
       "Campylobacter Infection.                                  42\n",
       "Diabetes                                                  31\n",
       "Mental Health                                             25\n",
       "Hypertension                                              23\n",
       "Bronchitis, Arthritis                                     23\n",
       "Cardiovascular disease                                    18\n",
       "Influenza (Flu)                                           14\n",
       "ENT                                                       12\n",
       "Arthritis                                                 10\n",
       "Dementia, Influenza (Flu), Arthritis, Diabetes,...         8\n",
       "Depression, Diabetes                                       6\n",
       "Tightfight, Swine flu., Measles.                           5\n",
       "Bipolar disorder, Arthritis                                5\n",
       "Angina, Hypertension, Multiple sclerosis (MS)              4\n",
       "Bipolar disorder                                           3\n",
       "Bronchitis, Campylobacter Infection., Angina, B...         3\n",
       "Bronchitis, Campylobacter Infection.                       2\n",
       "Tetanus                                                    2\n",
       "Campylobacter Infection., Bipolar disorder                 2\n",
       "Bronchitis, Campylobacter Infection., Bipolar d...         2\n",
       "Bipolar disorder, Asthma                                   1\n",
       "Whooping Cough                                             1\n",
       "UTIs                                                       1\n",
       "Stomach Aches, UTIs, Dementia, Influenza (Flu),...         1\n",
       "Bronchitis, Campylobacter Infection., Cardiovas...         1"
      ]
     },
     "metadata": {},
     "output_type": "display_data"
    }
   ],
   "source": [
    "for i in df.select_dtypes(include = ['object']).columns:\n",
    "    display(pd.DataFrame(df[i].value_counts()))"
   ]
  },
  {
   "cell_type": "code",
   "execution_count": 323,
   "id": "4168c8a6",
   "metadata": {},
   "outputs": [],
   "source": [
    "numerical_columns = ['Age', 'weight', 'BodyTemperature', 'OxygenLevel', 'BloodSugar', 'HRV', 'HeartRate', 'Systolic', \n",
    "                     'Diasystolic', 'StepCount', 'TimeInBed', 'RespiratoryRate', 'StressLevel', 'FallAccur', 'BMI']"
   ]
  },
  {
   "cell_type": "code",
   "execution_count": 324,
   "id": "fc3496d5",
   "metadata": {},
   "outputs": [],
   "source": [
    "# num_df = df[numerical_columns]"
   ]
  },
  {
   "cell_type": "code",
   "execution_count": 325,
   "id": "2f5ef46c",
   "metadata": {},
   "outputs": [],
   "source": [
    "# num_df.head()"
   ]
  },
  {
   "cell_type": "code",
   "execution_count": 326,
   "id": "669aee84",
   "metadata": {},
   "outputs": [],
   "source": [
    "import matplotlib.pyplot as plt\n",
    "import seaborn as sns"
   ]
  },
  {
   "cell_type": "code",
   "execution_count": 327,
   "id": "37b16ed1",
   "metadata": {},
   "outputs": [],
   "source": [
    "# for column in num_df.columns:\n",
    "#    plt.figure(figsize=(6, 4))  # Adjust the figure size if needed\n",
    "#    sns.boxplot(num_df[column])\n",
    "#    plt.title(f'Boxplot of {column}')\n",
    "#    plt.ylabel(column)\n",
    "#    plt.show()"
   ]
  },
  {
   "cell_type": "code",
   "execution_count": 328,
   "id": "a86db9ca",
   "metadata": {},
   "outputs": [
    {
     "data": {
      "text/plain": [
       "PatientId          0.00\n",
       "Age               17.46\n",
       "Gender            27.16\n",
       "weight            18.75\n",
       "Diseases          88.96\n",
       "BodyTemperature   97.64\n",
       "OxygenLevel       96.68\n",
       "BloodSugar        98.89\n",
       "HRV               96.90\n",
       "HeartRate         96.34\n",
       "Systolic          97.02\n",
       "Diasystolic       97.02\n",
       "StepCount         97.17\n",
       "TimeInBed         99.01\n",
       "RespiratoryRate   98.13\n",
       "StressLevel       99.08\n",
       "FallAccur         88.41\n",
       "BMI               99.04\n",
       "dtype: float64"
      ]
     },
     "execution_count": 328,
     "metadata": {},
     "output_type": "execute_result"
    }
   ],
   "source": [
    "df.isna().sum() / df.shape[0] * 100"
   ]
  },
  {
   "cell_type": "markdown",
   "id": "2b94c82e",
   "metadata": {},
   "source": [
    "### Condensed Dataframe"
   ]
  },
  {
   "cell_type": "markdown",
   "id": "2cba9ee0",
   "metadata": {},
   "source": [
    "#### Choose which columns to use\n",
    "* Dropping Package Name, Marital Status, Postal Code, Upload Date, Latitude, Longitude"
   ]
  },
  {
   "cell_type": "code",
   "execution_count": 329,
   "id": "e9d4a1da",
   "metadata": {},
   "outputs": [],
   "source": [
    "# categorical columns\n",
    "categorical_columns = ['Gender', 'Diseases']"
   ]
  },
  {
   "cell_type": "code",
   "execution_count": 330,
   "id": "23583acd",
   "metadata": {},
   "outputs": [],
   "source": [
    "# avergae of numerical columns grouped by patient id\n",
    "numerical_df = df.groupby('PatientId')[numerical_columns].mean().reset_index()"
   ]
  },
  {
   "cell_type": "code",
   "execution_count": 331,
   "id": "3a4e2b50",
   "metadata": {},
   "outputs": [
    {
     "data": {
      "text/html": [
       "<div>\n",
       "<style scoped>\n",
       "    .dataframe tbody tr th:only-of-type {\n",
       "        vertical-align: middle;\n",
       "    }\n",
       "\n",
       "    .dataframe tbody tr th {\n",
       "        vertical-align: top;\n",
       "    }\n",
       "\n",
       "    .dataframe thead th {\n",
       "        text-align: right;\n",
       "    }\n",
       "</style>\n",
       "<table border=\"1\" class=\"dataframe\">\n",
       "  <thead>\n",
       "    <tr style=\"text-align: right;\">\n",
       "      <th></th>\n",
       "      <th>PatientId</th>\n",
       "      <th>Age</th>\n",
       "      <th>weight</th>\n",
       "      <th>BodyTemperature</th>\n",
       "      <th>OxygenLevel</th>\n",
       "      <th>BloodSugar</th>\n",
       "      <th>HRV</th>\n",
       "      <th>HeartRate</th>\n",
       "      <th>Systolic</th>\n",
       "      <th>Diasystolic</th>\n",
       "      <th>StepCount</th>\n",
       "      <th>TimeInBed</th>\n",
       "      <th>RespiratoryRate</th>\n",
       "      <th>StressLevel</th>\n",
       "      <th>FallAccur</th>\n",
       "      <th>BMI</th>\n",
       "    </tr>\n",
       "  </thead>\n",
       "  <tbody>\n",
       "    <tr>\n",
       "      <th>0</th>\n",
       "      <td>1</td>\n",
       "      <td>NaN</td>\n",
       "      <td>NaN</td>\n",
       "      <td>NaN</td>\n",
       "      <td>NaN</td>\n",
       "      <td>NaN</td>\n",
       "      <td>NaN</td>\n",
       "      <td>NaN</td>\n",
       "      <td>NaN</td>\n",
       "      <td>NaN</td>\n",
       "      <td>NaN</td>\n",
       "      <td>NaN</td>\n",
       "      <td>NaN</td>\n",
       "      <td>NaN</td>\n",
       "      <td>NaN</td>\n",
       "      <td>NaN</td>\n",
       "    </tr>\n",
       "    <tr>\n",
       "      <th>1</th>\n",
       "      <td>2</td>\n",
       "      <td>NaN</td>\n",
       "      <td>NaN</td>\n",
       "      <td>NaN</td>\n",
       "      <td>NaN</td>\n",
       "      <td>NaN</td>\n",
       "      <td>NaN</td>\n",
       "      <td>NaN</td>\n",
       "      <td>NaN</td>\n",
       "      <td>NaN</td>\n",
       "      <td>NaN</td>\n",
       "      <td>NaN</td>\n",
       "      <td>NaN</td>\n",
       "      <td>NaN</td>\n",
       "      <td>NaN</td>\n",
       "      <td>NaN</td>\n",
       "    </tr>\n",
       "    <tr>\n",
       "      <th>2</th>\n",
       "      <td>3</td>\n",
       "      <td>NaN</td>\n",
       "      <td>NaN</td>\n",
       "      <td>NaN</td>\n",
       "      <td>NaN</td>\n",
       "      <td>NaN</td>\n",
       "      <td>NaN</td>\n",
       "      <td>NaN</td>\n",
       "      <td>NaN</td>\n",
       "      <td>NaN</td>\n",
       "      <td>NaN</td>\n",
       "      <td>NaN</td>\n",
       "      <td>NaN</td>\n",
       "      <td>NaN</td>\n",
       "      <td>NaN</td>\n",
       "      <td>NaN</td>\n",
       "    </tr>\n",
       "    <tr>\n",
       "      <th>3</th>\n",
       "      <td>4</td>\n",
       "      <td>NaN</td>\n",
       "      <td>NaN</td>\n",
       "      <td>NaN</td>\n",
       "      <td>NaN</td>\n",
       "      <td>NaN</td>\n",
       "      <td>NaN</td>\n",
       "      <td>NaN</td>\n",
       "      <td>NaN</td>\n",
       "      <td>NaN</td>\n",
       "      <td>NaN</td>\n",
       "      <td>NaN</td>\n",
       "      <td>NaN</td>\n",
       "      <td>NaN</td>\n",
       "      <td>NaN</td>\n",
       "      <td>NaN</td>\n",
       "    </tr>\n",
       "    <tr>\n",
       "      <th>4</th>\n",
       "      <td>5</td>\n",
       "      <td>NaN</td>\n",
       "      <td>NaN</td>\n",
       "      <td>NaN</td>\n",
       "      <td>NaN</td>\n",
       "      <td>NaN</td>\n",
       "      <td>NaN</td>\n",
       "      <td>NaN</td>\n",
       "      <td>NaN</td>\n",
       "      <td>NaN</td>\n",
       "      <td>NaN</td>\n",
       "      <td>NaN</td>\n",
       "      <td>NaN</td>\n",
       "      <td>NaN</td>\n",
       "      <td>NaN</td>\n",
       "      <td>NaN</td>\n",
       "    </tr>\n",
       "  </tbody>\n",
       "</table>\n",
       "</div>"
      ],
      "text/plain": [
       "   PatientId  Age  weight  BodyTemperature  OxygenLevel  BloodSugar  HRV  \\\n",
       "0          1  NaN     NaN              NaN          NaN         NaN  NaN   \n",
       "1          2  NaN     NaN              NaN          NaN         NaN  NaN   \n",
       "2          3  NaN     NaN              NaN          NaN         NaN  NaN   \n",
       "3          4  NaN     NaN              NaN          NaN         NaN  NaN   \n",
       "4          5  NaN     NaN              NaN          NaN         NaN  NaN   \n",
       "\n",
       "   HeartRate  Systolic  Diasystolic  StepCount  TimeInBed  RespiratoryRate  \\\n",
       "0        NaN       NaN          NaN        NaN        NaN              NaN   \n",
       "1        NaN       NaN          NaN        NaN        NaN              NaN   \n",
       "2        NaN       NaN          NaN        NaN        NaN              NaN   \n",
       "3        NaN       NaN          NaN        NaN        NaN              NaN   \n",
       "4        NaN       NaN          NaN        NaN        NaN              NaN   \n",
       "\n",
       "   StressLevel  FallAccur  BMI  \n",
       "0          NaN        NaN  NaN  \n",
       "1          NaN        NaN  NaN  \n",
       "2          NaN        NaN  NaN  \n",
       "3          NaN        NaN  NaN  \n",
       "4          NaN        NaN  NaN  "
      ]
     },
     "execution_count": 331,
     "metadata": {},
     "output_type": "execute_result"
    }
   ],
   "source": [
    "# See first 5 rows, each row represents a different patient\n",
    "numerical_df.head()"
   ]
  },
  {
   "cell_type": "code",
   "execution_count": 332,
   "id": "7db37c1f",
   "metadata": {},
   "outputs": [],
   "source": [
    "# Create a new condensed dataframe where each row represents a different patient\n",
    "condensed_df = pd.merge(numerical_df, df[categorical_columns + ['PatientId']].drop_duplicates(), on='PatientId')"
   ]
  },
  {
   "cell_type": "code",
   "execution_count": 333,
   "id": "0bf85d15",
   "metadata": {
    "scrolled": false
   },
   "outputs": [
    {
     "data": {
      "text/html": [
       "<div>\n",
       "<style scoped>\n",
       "    .dataframe tbody tr th:only-of-type {\n",
       "        vertical-align: middle;\n",
       "    }\n",
       "\n",
       "    .dataframe tbody tr th {\n",
       "        vertical-align: top;\n",
       "    }\n",
       "\n",
       "    .dataframe thead th {\n",
       "        text-align: right;\n",
       "    }\n",
       "</style>\n",
       "<table border=\"1\" class=\"dataframe\">\n",
       "  <thead>\n",
       "    <tr style=\"text-align: right;\">\n",
       "      <th></th>\n",
       "      <th>PatientId</th>\n",
       "      <th>Age</th>\n",
       "      <th>weight</th>\n",
       "      <th>BodyTemperature</th>\n",
       "      <th>OxygenLevel</th>\n",
       "      <th>BloodSugar</th>\n",
       "      <th>HRV</th>\n",
       "      <th>HeartRate</th>\n",
       "      <th>Systolic</th>\n",
       "      <th>Diasystolic</th>\n",
       "      <th>StepCount</th>\n",
       "      <th>TimeInBed</th>\n",
       "      <th>RespiratoryRate</th>\n",
       "      <th>StressLevel</th>\n",
       "      <th>FallAccur</th>\n",
       "      <th>BMI</th>\n",
       "      <th>Gender</th>\n",
       "      <th>Diseases</th>\n",
       "    </tr>\n",
       "  </thead>\n",
       "  <tbody>\n",
       "    <tr>\n",
       "      <th>0</th>\n",
       "      <td>1</td>\n",
       "      <td>NaN</td>\n",
       "      <td>NaN</td>\n",
       "      <td>NaN</td>\n",
       "      <td>NaN</td>\n",
       "      <td>NaN</td>\n",
       "      <td>NaN</td>\n",
       "      <td>NaN</td>\n",
       "      <td>NaN</td>\n",
       "      <td>NaN</td>\n",
       "      <td>NaN</td>\n",
       "      <td>NaN</td>\n",
       "      <td>NaN</td>\n",
       "      <td>NaN</td>\n",
       "      <td>NaN</td>\n",
       "      <td>NaN</td>\n",
       "      <td>NaN</td>\n",
       "      <td>NaN</td>\n",
       "    </tr>\n",
       "    <tr>\n",
       "      <th>1</th>\n",
       "      <td>2</td>\n",
       "      <td>NaN</td>\n",
       "      <td>NaN</td>\n",
       "      <td>NaN</td>\n",
       "      <td>NaN</td>\n",
       "      <td>NaN</td>\n",
       "      <td>NaN</td>\n",
       "      <td>NaN</td>\n",
       "      <td>NaN</td>\n",
       "      <td>NaN</td>\n",
       "      <td>NaN</td>\n",
       "      <td>NaN</td>\n",
       "      <td>NaN</td>\n",
       "      <td>NaN</td>\n",
       "      <td>NaN</td>\n",
       "      <td>NaN</td>\n",
       "      <td>NaN</td>\n",
       "      <td>NaN</td>\n",
       "    </tr>\n",
       "    <tr>\n",
       "      <th>2</th>\n",
       "      <td>3</td>\n",
       "      <td>NaN</td>\n",
       "      <td>NaN</td>\n",
       "      <td>NaN</td>\n",
       "      <td>NaN</td>\n",
       "      <td>NaN</td>\n",
       "      <td>NaN</td>\n",
       "      <td>NaN</td>\n",
       "      <td>NaN</td>\n",
       "      <td>NaN</td>\n",
       "      <td>NaN</td>\n",
       "      <td>NaN</td>\n",
       "      <td>NaN</td>\n",
       "      <td>NaN</td>\n",
       "      <td>NaN</td>\n",
       "      <td>NaN</td>\n",
       "      <td>NaN</td>\n",
       "      <td>NaN</td>\n",
       "    </tr>\n",
       "    <tr>\n",
       "      <th>3</th>\n",
       "      <td>4</td>\n",
       "      <td>NaN</td>\n",
       "      <td>NaN</td>\n",
       "      <td>NaN</td>\n",
       "      <td>NaN</td>\n",
       "      <td>NaN</td>\n",
       "      <td>NaN</td>\n",
       "      <td>NaN</td>\n",
       "      <td>NaN</td>\n",
       "      <td>NaN</td>\n",
       "      <td>NaN</td>\n",
       "      <td>NaN</td>\n",
       "      <td>NaN</td>\n",
       "      <td>NaN</td>\n",
       "      <td>NaN</td>\n",
       "      <td>NaN</td>\n",
       "      <td>NaN</td>\n",
       "      <td>NaN</td>\n",
       "    </tr>\n",
       "    <tr>\n",
       "      <th>4</th>\n",
       "      <td>5</td>\n",
       "      <td>NaN</td>\n",
       "      <td>NaN</td>\n",
       "      <td>NaN</td>\n",
       "      <td>NaN</td>\n",
       "      <td>NaN</td>\n",
       "      <td>NaN</td>\n",
       "      <td>NaN</td>\n",
       "      <td>NaN</td>\n",
       "      <td>NaN</td>\n",
       "      <td>NaN</td>\n",
       "      <td>NaN</td>\n",
       "      <td>NaN</td>\n",
       "      <td>NaN</td>\n",
       "      <td>NaN</td>\n",
       "      <td>NaN</td>\n",
       "      <td>NaN</td>\n",
       "      <td>NaN</td>\n",
       "    </tr>\n",
       "  </tbody>\n",
       "</table>\n",
       "</div>"
      ],
      "text/plain": [
       "   PatientId  Age  weight  BodyTemperature  OxygenLevel  BloodSugar  HRV  \\\n",
       "0          1  NaN     NaN              NaN          NaN         NaN  NaN   \n",
       "1          2  NaN     NaN              NaN          NaN         NaN  NaN   \n",
       "2          3  NaN     NaN              NaN          NaN         NaN  NaN   \n",
       "3          4  NaN     NaN              NaN          NaN         NaN  NaN   \n",
       "4          5  NaN     NaN              NaN          NaN         NaN  NaN   \n",
       "\n",
       "   HeartRate  Systolic  Diasystolic  StepCount  TimeInBed  RespiratoryRate  \\\n",
       "0        NaN       NaN          NaN        NaN        NaN              NaN   \n",
       "1        NaN       NaN          NaN        NaN        NaN              NaN   \n",
       "2        NaN       NaN          NaN        NaN        NaN              NaN   \n",
       "3        NaN       NaN          NaN        NaN        NaN              NaN   \n",
       "4        NaN       NaN          NaN        NaN        NaN              NaN   \n",
       "\n",
       "   StressLevel  FallAccur  BMI Gender Diseases  \n",
       "0          NaN        NaN  NaN    NaN      NaN  \n",
       "1          NaN        NaN  NaN    NaN      NaN  \n",
       "2          NaN        NaN  NaN    NaN      NaN  \n",
       "3          NaN        NaN  NaN    NaN      NaN  \n",
       "4          NaN        NaN  NaN    NaN      NaN  "
      ]
     },
     "execution_count": 333,
     "metadata": {},
     "output_type": "execute_result"
    }
   ],
   "source": [
    "# See first five rows (Numerical variables to the left, categorical to the right)\n",
    "condensed_df.head()"
   ]
  },
  {
   "cell_type": "code",
   "execution_count": 334,
   "id": "f638c771",
   "metadata": {},
   "outputs": [
    {
     "data": {
      "text/plain": [
       "(1280, 18)"
      ]
     },
     "execution_count": 334,
     "metadata": {},
     "output_type": "execute_result"
    }
   ],
   "source": [
    "# Check shape of condensed dataframe\n",
    "condensed_df.shape"
   ]
  },
  {
   "cell_type": "code",
   "execution_count": 335,
   "id": "d70fea26",
   "metadata": {},
   "outputs": [
    {
     "name": "stdout",
     "output_type": "stream",
     "text": [
      "<class 'pandas.core.frame.DataFrame'>\n",
      "Int64Index: 1280 entries, 0 to 1279\n",
      "Data columns (total 18 columns):\n",
      " #   Column           Non-Null Count  Dtype  \n",
      "---  ------           --------------  -----  \n",
      " 0   PatientId        1280 non-null   int64  \n",
      " 1   Age              1084 non-null   float64\n",
      " 2   weight           569 non-null    float64\n",
      " 3   BodyTemperature  466 non-null    float64\n",
      " 4   OxygenLevel      752 non-null    float64\n",
      " 5   BloodSugar       326 non-null    float64\n",
      " 6   HRV              738 non-null    float64\n",
      " 7   HeartRate        769 non-null    float64\n",
      " 8   Systolic         721 non-null    float64\n",
      " 9   Diasystolic      721 non-null    float64\n",
      " 10  StepCount        458 non-null    float64\n",
      " 11  TimeInBed        330 non-null    float64\n",
      " 12  RespiratoryRate  680 non-null    float64\n",
      " 13  StressLevel      446 non-null    float64\n",
      " 14  FallAccur        303 non-null    float64\n",
      " 15  BMI              271 non-null    float64\n",
      " 16  Gender           803 non-null    object \n",
      " 17  Diseases         67 non-null     object \n",
      "dtypes: float64(15), int64(1), object(2)\n",
      "memory usage: 190.0+ KB\n"
     ]
    }
   ],
   "source": [
    "# Check info new dataframe\n",
    "condensed_df.info()"
   ]
  },
  {
   "cell_type": "code",
   "execution_count": 336,
   "id": "0fb57488",
   "metadata": {},
   "outputs": [
    {
     "data": {
      "text/plain": [
       "PatientId          0.00\n",
       "Age               15.31\n",
       "weight            55.55\n",
       "BodyTemperature   63.59\n",
       "OxygenLevel       41.25\n",
       "BloodSugar        74.53\n",
       "HRV               42.34\n",
       "HeartRate         39.92\n",
       "Systolic          43.67\n",
       "Diasystolic       43.67\n",
       "StepCount         64.22\n",
       "TimeInBed         74.22\n",
       "RespiratoryRate   46.88\n",
       "StressLevel       65.16\n",
       "FallAccur         76.33\n",
       "BMI               78.83\n",
       "Gender            37.27\n",
       "Diseases          94.77\n",
       "dtype: float64"
      ]
     },
     "execution_count": 336,
     "metadata": {},
     "output_type": "execute_result"
    }
   ],
   "source": [
    "# Check for null values in each column\n",
    "condensed_df.isna().sum() / condensed_df.shape[0] * 100.0"
   ]
  },
  {
   "cell_type": "code",
   "execution_count": 337,
   "id": "e47f074a",
   "metadata": {},
   "outputs": [
    {
     "data": {
      "text/html": [
       "<div>\n",
       "<style scoped>\n",
       "    .dataframe tbody tr th:only-of-type {\n",
       "        vertical-align: middle;\n",
       "    }\n",
       "\n",
       "    .dataframe tbody tr th {\n",
       "        vertical-align: top;\n",
       "    }\n",
       "\n",
       "    .dataframe thead th {\n",
       "        text-align: right;\n",
       "    }\n",
       "</style>\n",
       "<table border=\"1\" class=\"dataframe\">\n",
       "  <thead>\n",
       "    <tr style=\"text-align: right;\">\n",
       "      <th></th>\n",
       "      <th>Gender</th>\n",
       "    </tr>\n",
       "  </thead>\n",
       "  <tbody>\n",
       "    <tr>\n",
       "      <th>Other</th>\n",
       "      <td>457</td>\n",
       "    </tr>\n",
       "    <tr>\n",
       "      <th>Male</th>\n",
       "      <td>203</td>\n",
       "    </tr>\n",
       "    <tr>\n",
       "      <th>Female</th>\n",
       "      <td>128</td>\n",
       "    </tr>\n",
       "    <tr>\n",
       "      <th>male</th>\n",
       "      <td>7</td>\n",
       "    </tr>\n",
       "    <tr>\n",
       "      <th>female</th>\n",
       "      <td>7</td>\n",
       "    </tr>\n",
       "    <tr>\n",
       "      <th>Gender</th>\n",
       "      <td>1</td>\n",
       "    </tr>\n",
       "  </tbody>\n",
       "</table>\n",
       "</div>"
      ],
      "text/plain": [
       "        Gender\n",
       "Other      457\n",
       "Male       203\n",
       "Female     128\n",
       "male         7\n",
       "female       7\n",
       "Gender       1"
      ]
     },
     "metadata": {},
     "output_type": "display_data"
    },
    {
     "data": {
      "text/html": [
       "<div>\n",
       "<style scoped>\n",
       "    .dataframe tbody tr th:only-of-type {\n",
       "        vertical-align: middle;\n",
       "    }\n",
       "\n",
       "    .dataframe tbody tr th {\n",
       "        vertical-align: top;\n",
       "    }\n",
       "\n",
       "    .dataframe thead th {\n",
       "        text-align: right;\n",
       "    }\n",
       "</style>\n",
       "<table border=\"1\" class=\"dataframe\">\n",
       "  <thead>\n",
       "    <tr style=\"text-align: right;\">\n",
       "      <th></th>\n",
       "      <th>Diseases</th>\n",
       "    </tr>\n",
       "  </thead>\n",
       "  <tbody>\n",
       "    <tr>\n",
       "      <th>Bronchitis</th>\n",
       "      <td>5</td>\n",
       "    </tr>\n",
       "    <tr>\n",
       "      <th>Hypertension</th>\n",
       "      <td>4</td>\n",
       "    </tr>\n",
       "    <tr>\n",
       "      <th>Angina</th>\n",
       "      <td>4</td>\n",
       "    </tr>\n",
       "    <tr>\n",
       "      <th>Arthritis</th>\n",
       "      <td>4</td>\n",
       "    </tr>\n",
       "    <tr>\n",
       "      <th>Bronchitis, Bipolar disorder</th>\n",
       "      <td>4</td>\n",
       "    </tr>\n",
       "    <tr>\n",
       "      <th>Campylobacter Infection.</th>\n",
       "      <td>4</td>\n",
       "    </tr>\n",
       "    <tr>\n",
       "      <th>Campylobacter Infection., Angina, Bipolar disorder</th>\n",
       "      <td>3</td>\n",
       "    </tr>\n",
       "    <tr>\n",
       "      <th>Stomach Aches, UTIs</th>\n",
       "      <td>3</td>\n",
       "    </tr>\n",
       "    <tr>\n",
       "      <th>Cancer</th>\n",
       "      <td>2</td>\n",
       "    </tr>\n",
       "    <tr>\n",
       "      <th>Diabetes</th>\n",
       "      <td>2</td>\n",
       "    </tr>\n",
       "    <tr>\n",
       "      <th>Bronchitis, Campylobacter Infection., Bipolar disorder</th>\n",
       "      <td>2</td>\n",
       "    </tr>\n",
       "    <tr>\n",
       "      <th>Campylobacter Infection., Angina</th>\n",
       "      <td>2</td>\n",
       "    </tr>\n",
       "    <tr>\n",
       "      <th>Influenza (Flu)</th>\n",
       "      <td>2</td>\n",
       "    </tr>\n",
       "    <tr>\n",
       "      <th>Stomach Aches</th>\n",
       "      <td>2</td>\n",
       "    </tr>\n",
       "    <tr>\n",
       "      <th>Campylobacter Infection., Bipolar disorder</th>\n",
       "      <td>1</td>\n",
       "    </tr>\n",
       "    <tr>\n",
       "      <th>Bronchitis, Campylobacter Infection., Cancer</th>\n",
       "      <td>1</td>\n",
       "    </tr>\n",
       "    <tr>\n",
       "      <th>Bronchitis, Campylobacter Infection., Angina, Bipolar disorder, Arthritis, Asthma, Cancer, Cardiovascular disease</th>\n",
       "      <td>1</td>\n",
       "    </tr>\n",
       "    <tr>\n",
       "      <th>Mental Health</th>\n",
       "      <td>1</td>\n",
       "    </tr>\n",
       "    <tr>\n",
       "      <th>Bipolar disorder, Asthma</th>\n",
       "      <td>1</td>\n",
       "    </tr>\n",
       "    <tr>\n",
       "      <th>Dementia, Influenza (Flu), Arthritis, Diabetes, Hypertension</th>\n",
       "      <td>1</td>\n",
       "    </tr>\n",
       "    <tr>\n",
       "      <th>Depression, Diabetes</th>\n",
       "      <td>1</td>\n",
       "    </tr>\n",
       "    <tr>\n",
       "      <th>Bipolar disorder, Arthritis</th>\n",
       "      <td>1</td>\n",
       "    </tr>\n",
       "    <tr>\n",
       "      <th>Bronchitis, Arthritis</th>\n",
       "      <td>1</td>\n",
       "    </tr>\n",
       "    <tr>\n",
       "      <th>Bronchitis, Angina</th>\n",
       "      <td>1</td>\n",
       "    </tr>\n",
       "    <tr>\n",
       "      <th>Whooping Cough</th>\n",
       "      <td>1</td>\n",
       "    </tr>\n",
       "    <tr>\n",
       "      <th>ENT</th>\n",
       "      <td>1</td>\n",
       "    </tr>\n",
       "    <tr>\n",
       "      <th>Cardiovascular disease</th>\n",
       "      <td>1</td>\n",
       "    </tr>\n",
       "    <tr>\n",
       "      <th>Dementia, Depression, Diabetes</th>\n",
       "      <td>1</td>\n",
       "    </tr>\n",
       "    <tr>\n",
       "      <th>Bronchitis, Campylobacter Infection.</th>\n",
       "      <td>1</td>\n",
       "    </tr>\n",
       "    <tr>\n",
       "      <th>UTIs</th>\n",
       "      <td>1</td>\n",
       "    </tr>\n",
       "    <tr>\n",
       "      <th>Bipolar disorder</th>\n",
       "      <td>1</td>\n",
       "    </tr>\n",
       "    <tr>\n",
       "      <th>Angina, Hypertension, Multiple sclerosis (MS)</th>\n",
       "      <td>1</td>\n",
       "    </tr>\n",
       "    <tr>\n",
       "      <th>UTIs, Angina, Bipolar disorder, Arthritis, Asthma, Chronic obstructive pulmonary disease (COPD)</th>\n",
       "      <td>1</td>\n",
       "    </tr>\n",
       "    <tr>\n",
       "      <th>Tightfight, Swine flu., Measles.</th>\n",
       "      <td>1</td>\n",
       "    </tr>\n",
       "    <tr>\n",
       "      <th>Tetanus</th>\n",
       "      <td>1</td>\n",
       "    </tr>\n",
       "    <tr>\n",
       "      <th>Swine flu., Angina, Arthritis, Asthma</th>\n",
       "      <td>1</td>\n",
       "    </tr>\n",
       "    <tr>\n",
       "      <th>Stomach Aches, UTIs, Dementia, Influenza (Flu), Bronchitis, Hillociantion</th>\n",
       "      <td>1</td>\n",
       "    </tr>\n",
       "    <tr>\n",
       "      <th>Bronchitis, Campylobacter Infection., Cardiovascular disease</th>\n",
       "      <td>1</td>\n",
       "    </tr>\n",
       "  </tbody>\n",
       "</table>\n",
       "</div>"
      ],
      "text/plain": [
       "                                                    Diseases\n",
       "Bronchitis                                                 5\n",
       "Hypertension                                               4\n",
       "Angina                                                     4\n",
       "Arthritis                                                  4\n",
       "Bronchitis, Bipolar disorder                               4\n",
       "Campylobacter Infection.                                   4\n",
       "Campylobacter Infection., Angina, Bipolar disorder         3\n",
       "Stomach Aches, UTIs                                        3\n",
       "Cancer                                                     2\n",
       "Diabetes                                                   2\n",
       "Bronchitis, Campylobacter Infection., Bipolar d...         2\n",
       "Campylobacter Infection., Angina                           2\n",
       "Influenza (Flu)                                            2\n",
       "Stomach Aches                                              2\n",
       "Campylobacter Infection., Bipolar disorder                 1\n",
       "Bronchitis, Campylobacter Infection., Cancer               1\n",
       "Bronchitis, Campylobacter Infection., Angina, B...         1\n",
       "Mental Health                                              1\n",
       "Bipolar disorder, Asthma                                   1\n",
       "Dementia, Influenza (Flu), Arthritis, Diabetes,...         1\n",
       "Depression, Diabetes                                       1\n",
       "Bipolar disorder, Arthritis                                1\n",
       "Bronchitis, Arthritis                                      1\n",
       "Bronchitis, Angina                                         1\n",
       "Whooping Cough                                             1\n",
       "ENT                                                        1\n",
       "Cardiovascular disease                                     1\n",
       "Dementia, Depression, Diabetes                             1\n",
       "Bronchitis, Campylobacter Infection.                       1\n",
       "UTIs                                                       1\n",
       "Bipolar disorder                                           1\n",
       "Angina, Hypertension, Multiple sclerosis (MS)              1\n",
       "UTIs, Angina, Bipolar disorder, Arthritis, Asth...         1\n",
       "Tightfight, Swine flu., Measles.                           1\n",
       "Tetanus                                                    1\n",
       "Swine flu., Angina, Arthritis, Asthma                      1\n",
       "Stomach Aches, UTIs, Dementia, Influenza (Flu),...         1\n",
       "Bronchitis, Campylobacter Infection., Cardiovas...         1"
      ]
     },
     "metadata": {},
     "output_type": "display_data"
    }
   ],
   "source": [
    "for i in condensed_df.select_dtypes(include = ['object']).columns:\n",
    "    display(pd.DataFrame(condensed_df[i].value_counts()))"
   ]
  },
  {
   "cell_type": "code",
   "execution_count": null,
   "id": "8f11ca15",
   "metadata": {},
   "outputs": [],
   "source": []
  },
  {
   "cell_type": "markdown",
   "id": "91e2ef5d",
   "metadata": {},
   "source": [
    "### Filtered Dataframe"
   ]
  },
  {
   "cell_type": "markdown",
   "id": "6eac2659",
   "metadata": {},
   "source": [
    "#### Keep only the patients with at least 7 non-null values"
   ]
  },
  {
   "cell_type": "code",
   "execution_count": 338,
   "id": "779f675b",
   "metadata": {},
   "outputs": [],
   "source": [
    "filtered_df = condensed_df.dropna(thresh=7)"
   ]
  },
  {
   "cell_type": "code",
   "execution_count": 339,
   "id": "48d0fec8",
   "metadata": {},
   "outputs": [
    {
     "data": {
      "text/plain": [
       "(748, 18)"
      ]
     },
     "execution_count": 339,
     "metadata": {},
     "output_type": "execute_result"
    }
   ],
   "source": [
    "# See shape of filtered dataframe\n",
    "filtered_df.shape"
   ]
  },
  {
   "cell_type": "code",
   "execution_count": 340,
   "id": "19cb8807",
   "metadata": {},
   "outputs": [
    {
     "data": {
      "text/html": [
       "<div>\n",
       "<style scoped>\n",
       "    .dataframe tbody tr th:only-of-type {\n",
       "        vertical-align: middle;\n",
       "    }\n",
       "\n",
       "    .dataframe tbody tr th {\n",
       "        vertical-align: top;\n",
       "    }\n",
       "\n",
       "    .dataframe thead th {\n",
       "        text-align: right;\n",
       "    }\n",
       "</style>\n",
       "<table border=\"1\" class=\"dataframe\">\n",
       "  <thead>\n",
       "    <tr style=\"text-align: right;\">\n",
       "      <th></th>\n",
       "      <th>PatientId</th>\n",
       "      <th>Age</th>\n",
       "      <th>weight</th>\n",
       "      <th>BodyTemperature</th>\n",
       "      <th>OxygenLevel</th>\n",
       "      <th>BloodSugar</th>\n",
       "      <th>HRV</th>\n",
       "      <th>HeartRate</th>\n",
       "      <th>Systolic</th>\n",
       "      <th>Diasystolic</th>\n",
       "      <th>StepCount</th>\n",
       "      <th>TimeInBed</th>\n",
       "      <th>RespiratoryRate</th>\n",
       "      <th>StressLevel</th>\n",
       "      <th>FallAccur</th>\n",
       "      <th>BMI</th>\n",
       "      <th>Gender</th>\n",
       "      <th>Diseases</th>\n",
       "    </tr>\n",
       "  </thead>\n",
       "  <tbody>\n",
       "    <tr>\n",
       "      <th>11</th>\n",
       "      <td>49</td>\n",
       "      <td>NaN</td>\n",
       "      <td>NaN</td>\n",
       "      <td>NaN</td>\n",
       "      <td>97.50</td>\n",
       "      <td>NaN</td>\n",
       "      <td>85.00</td>\n",
       "      <td>76.50</td>\n",
       "      <td>109.50</td>\n",
       "      <td>69.50</td>\n",
       "      <td>NaN</td>\n",
       "      <td>NaN</td>\n",
       "      <td>13.00</td>\n",
       "      <td>0.00</td>\n",
       "      <td>NaN</td>\n",
       "      <td>NaN</td>\n",
       "      <td>NaN</td>\n",
       "      <td>NaN</td>\n",
       "    </tr>\n",
       "    <tr>\n",
       "      <th>23</th>\n",
       "      <td>134</td>\n",
       "      <td>2.00</td>\n",
       "      <td>0.00</td>\n",
       "      <td>35.08</td>\n",
       "      <td>95.67</td>\n",
       "      <td>8.00</td>\n",
       "      <td>113.20</td>\n",
       "      <td>76.94</td>\n",
       "      <td>100.00</td>\n",
       "      <td>100.00</td>\n",
       "      <td>143.06</td>\n",
       "      <td>391.07</td>\n",
       "      <td>13.67</td>\n",
       "      <td>2.00</td>\n",
       "      <td>1.00</td>\n",
       "      <td>NaN</td>\n",
       "      <td>Male</td>\n",
       "      <td>NaN</td>\n",
       "    </tr>\n",
       "    <tr>\n",
       "      <th>25</th>\n",
       "      <td>136</td>\n",
       "      <td>90.00</td>\n",
       "      <td>113.38</td>\n",
       "      <td>35.92</td>\n",
       "      <td>96.16</td>\n",
       "      <td>8.08</td>\n",
       "      <td>51.59</td>\n",
       "      <td>84.36</td>\n",
       "      <td>121.61</td>\n",
       "      <td>73.25</td>\n",
       "      <td>4292.04</td>\n",
       "      <td>627.69</td>\n",
       "      <td>15.01</td>\n",
       "      <td>0.47</td>\n",
       "      <td>1.00</td>\n",
       "      <td>11.38</td>\n",
       "      <td>Male</td>\n",
       "      <td>Campylobacter Infection., Angina</td>\n",
       "    </tr>\n",
       "    <tr>\n",
       "      <th>27</th>\n",
       "      <td>140</td>\n",
       "      <td>63.00</td>\n",
       "      <td>90.00</td>\n",
       "      <td>NaN</td>\n",
       "      <td>96.56</td>\n",
       "      <td>NaN</td>\n",
       "      <td>70.14</td>\n",
       "      <td>70.60</td>\n",
       "      <td>118.22</td>\n",
       "      <td>73.56</td>\n",
       "      <td>1508.00</td>\n",
       "      <td>NaN</td>\n",
       "      <td>12.89</td>\n",
       "      <td>-0.11</td>\n",
       "      <td>NaN</td>\n",
       "      <td>NaN</td>\n",
       "      <td>Gender</td>\n",
       "      <td>NaN</td>\n",
       "    </tr>\n",
       "    <tr>\n",
       "      <th>37</th>\n",
       "      <td>162</td>\n",
       "      <td>NaN</td>\n",
       "      <td>NaN</td>\n",
       "      <td>1234.00</td>\n",
       "      <td>1234.00</td>\n",
       "      <td>1233.00</td>\n",
       "      <td>1234.00</td>\n",
       "      <td>388.50</td>\n",
       "      <td>1234.00</td>\n",
       "      <td>1234.00</td>\n",
       "      <td>1234.00</td>\n",
       "      <td>690.00</td>\n",
       "      <td>NaN</td>\n",
       "      <td>NaN</td>\n",
       "      <td>1.00</td>\n",
       "      <td>NaN</td>\n",
       "      <td>NaN</td>\n",
       "      <td>NaN</td>\n",
       "    </tr>\n",
       "  </tbody>\n",
       "</table>\n",
       "</div>"
      ],
      "text/plain": [
       "    PatientId   Age  weight  BodyTemperature  OxygenLevel  BloodSugar     HRV  \\\n",
       "11         49   NaN     NaN              NaN        97.50         NaN   85.00   \n",
       "23        134  2.00    0.00            35.08        95.67        8.00  113.20   \n",
       "25        136 90.00  113.38            35.92        96.16        8.08   51.59   \n",
       "27        140 63.00   90.00              NaN        96.56         NaN   70.14   \n",
       "37        162   NaN     NaN          1234.00      1234.00     1233.00 1234.00   \n",
       "\n",
       "    HeartRate  Systolic  Diasystolic  StepCount  TimeInBed  RespiratoryRate  \\\n",
       "11      76.50    109.50        69.50        NaN        NaN            13.00   \n",
       "23      76.94    100.00       100.00     143.06     391.07            13.67   \n",
       "25      84.36    121.61        73.25    4292.04     627.69            15.01   \n",
       "27      70.60    118.22        73.56    1508.00        NaN            12.89   \n",
       "37     388.50   1234.00      1234.00    1234.00     690.00              NaN   \n",
       "\n",
       "    StressLevel  FallAccur   BMI  Gender                          Diseases  \n",
       "11         0.00        NaN   NaN     NaN                               NaN  \n",
       "23         2.00       1.00   NaN    Male                               NaN  \n",
       "25         0.47       1.00 11.38    Male  Campylobacter Infection., Angina  \n",
       "27        -0.11        NaN   NaN  Gender                               NaN  \n",
       "37          NaN       1.00   NaN     NaN                               NaN  "
      ]
     },
     "execution_count": 340,
     "metadata": {},
     "output_type": "execute_result"
    }
   ],
   "source": [
    "# See first five rows\n",
    "filtered_df.head()"
   ]
  },
  {
   "cell_type": "code",
   "execution_count": 341,
   "id": "4cea3728",
   "metadata": {},
   "outputs": [
    {
     "data": {
      "text/plain": [
       "PatientId          0.00\n",
       "Age                2.41\n",
       "weight            64.71\n",
       "BodyTemperature   42.25\n",
       "OxygenLevel        2.41\n",
       "BloodSugar        56.82\n",
       "HRV                2.14\n",
       "HeartRate          2.67\n",
       "Systolic           3.88\n",
       "Diasystolic        3.88\n",
       "StepCount         43.18\n",
       "TimeInBed         56.28\n",
       "RespiratoryRate    9.63\n",
       "StressLevel       40.64\n",
       "FallAccur         73.13\n",
       "BMI               64.04\n",
       "Gender            33.16\n",
       "Diseases          92.11\n",
       "dtype: float64"
      ]
     },
     "execution_count": 341,
     "metadata": {},
     "output_type": "execute_result"
    }
   ],
   "source": [
    "# Check percentage of each column which is null\n",
    "filtered_df.isna().sum() / filtered_df.shape[0] * 100.0"
   ]
  },
  {
   "cell_type": "code",
   "execution_count": 342,
   "id": "17977fcb",
   "metadata": {},
   "outputs": [
    {
     "name": "stdout",
     "output_type": "stream",
     "text": [
      "<class 'pandas.core.frame.DataFrame'>\n",
      "Int64Index: 748 entries, 11 to 1279\n",
      "Data columns (total 18 columns):\n",
      " #   Column           Non-Null Count  Dtype  \n",
      "---  ------           --------------  -----  \n",
      " 0   PatientId        748 non-null    int64  \n",
      " 1   Age              730 non-null    float64\n",
      " 2   weight           264 non-null    float64\n",
      " 3   BodyTemperature  432 non-null    float64\n",
      " 4   OxygenLevel      730 non-null    float64\n",
      " 5   BloodSugar       323 non-null    float64\n",
      " 6   HRV              732 non-null    float64\n",
      " 7   HeartRate        728 non-null    float64\n",
      " 8   Systolic         719 non-null    float64\n",
      " 9   Diasystolic      719 non-null    float64\n",
      " 10  StepCount        425 non-null    float64\n",
      " 11  TimeInBed        327 non-null    float64\n",
      " 12  RespiratoryRate  676 non-null    float64\n",
      " 13  StressLevel      444 non-null    float64\n",
      " 14  FallAccur        201 non-null    float64\n",
      " 15  BMI              269 non-null    float64\n",
      " 16  Gender           500 non-null    object \n",
      " 17  Diseases         59 non-null     object \n",
      "dtypes: float64(15), int64(1), object(2)\n",
      "memory usage: 111.0+ KB\n"
     ]
    }
   ],
   "source": [
    "# Check info for filtered dataframe\n",
    "filtered_df.info()"
   ]
  },
  {
   "cell_type": "code",
   "execution_count": 343,
   "id": "2a596758",
   "metadata": {
    "scrolled": true
   },
   "outputs": [
    {
     "data": {
      "text/html": [
       "<div>\n",
       "<style scoped>\n",
       "    .dataframe tbody tr th:only-of-type {\n",
       "        vertical-align: middle;\n",
       "    }\n",
       "\n",
       "    .dataframe tbody tr th {\n",
       "        vertical-align: top;\n",
       "    }\n",
       "\n",
       "    .dataframe thead th {\n",
       "        text-align: right;\n",
       "    }\n",
       "</style>\n",
       "<table border=\"1\" class=\"dataframe\">\n",
       "  <thead>\n",
       "    <tr style=\"text-align: right;\">\n",
       "      <th></th>\n",
       "      <th>PatientId</th>\n",
       "      <th>Age</th>\n",
       "      <th>weight</th>\n",
       "      <th>BodyTemperature</th>\n",
       "      <th>OxygenLevel</th>\n",
       "      <th>BloodSugar</th>\n",
       "      <th>HRV</th>\n",
       "      <th>HeartRate</th>\n",
       "      <th>Systolic</th>\n",
       "      <th>Diasystolic</th>\n",
       "      <th>StepCount</th>\n",
       "      <th>TimeInBed</th>\n",
       "      <th>RespiratoryRate</th>\n",
       "      <th>StressLevel</th>\n",
       "      <th>FallAccur</th>\n",
       "      <th>BMI</th>\n",
       "    </tr>\n",
       "  </thead>\n",
       "  <tbody>\n",
       "    <tr>\n",
       "      <th>11</th>\n",
       "      <td>49</td>\n",
       "      <td>NaN</td>\n",
       "      <td>NaN</td>\n",
       "      <td>NaN</td>\n",
       "      <td>97.50</td>\n",
       "      <td>NaN</td>\n",
       "      <td>85.00</td>\n",
       "      <td>76.50</td>\n",
       "      <td>109.50</td>\n",
       "      <td>69.50</td>\n",
       "      <td>NaN</td>\n",
       "      <td>NaN</td>\n",
       "      <td>13.00</td>\n",
       "      <td>0.00</td>\n",
       "      <td>NaN</td>\n",
       "      <td>NaN</td>\n",
       "    </tr>\n",
       "    <tr>\n",
       "      <th>23</th>\n",
       "      <td>134</td>\n",
       "      <td>2.00</td>\n",
       "      <td>0.00</td>\n",
       "      <td>35.08</td>\n",
       "      <td>95.67</td>\n",
       "      <td>8.00</td>\n",
       "      <td>113.20</td>\n",
       "      <td>76.94</td>\n",
       "      <td>100.00</td>\n",
       "      <td>100.00</td>\n",
       "      <td>143.06</td>\n",
       "      <td>391.07</td>\n",
       "      <td>13.67</td>\n",
       "      <td>2.00</td>\n",
       "      <td>1.00</td>\n",
       "      <td>NaN</td>\n",
       "    </tr>\n",
       "    <tr>\n",
       "      <th>25</th>\n",
       "      <td>136</td>\n",
       "      <td>90.00</td>\n",
       "      <td>113.38</td>\n",
       "      <td>35.92</td>\n",
       "      <td>96.16</td>\n",
       "      <td>8.08</td>\n",
       "      <td>51.59</td>\n",
       "      <td>84.36</td>\n",
       "      <td>121.61</td>\n",
       "      <td>73.25</td>\n",
       "      <td>4292.04</td>\n",
       "      <td>627.69</td>\n",
       "      <td>15.01</td>\n",
       "      <td>0.47</td>\n",
       "      <td>1.00</td>\n",
       "      <td>11.38</td>\n",
       "    </tr>\n",
       "    <tr>\n",
       "      <th>27</th>\n",
       "      <td>140</td>\n",
       "      <td>63.00</td>\n",
       "      <td>90.00</td>\n",
       "      <td>NaN</td>\n",
       "      <td>96.56</td>\n",
       "      <td>NaN</td>\n",
       "      <td>70.14</td>\n",
       "      <td>70.60</td>\n",
       "      <td>118.22</td>\n",
       "      <td>73.56</td>\n",
       "      <td>1508.00</td>\n",
       "      <td>NaN</td>\n",
       "      <td>12.89</td>\n",
       "      <td>-0.11</td>\n",
       "      <td>NaN</td>\n",
       "      <td>NaN</td>\n",
       "    </tr>\n",
       "    <tr>\n",
       "      <th>37</th>\n",
       "      <td>162</td>\n",
       "      <td>NaN</td>\n",
       "      <td>NaN</td>\n",
       "      <td>1234.00</td>\n",
       "      <td>1234.00</td>\n",
       "      <td>1233.00</td>\n",
       "      <td>1234.00</td>\n",
       "      <td>388.50</td>\n",
       "      <td>1234.00</td>\n",
       "      <td>1234.00</td>\n",
       "      <td>1234.00</td>\n",
       "      <td>690.00</td>\n",
       "      <td>NaN</td>\n",
       "      <td>NaN</td>\n",
       "      <td>1.00</td>\n",
       "      <td>NaN</td>\n",
       "    </tr>\n",
       "  </tbody>\n",
       "</table>\n",
       "</div>"
      ],
      "text/plain": [
       "    PatientId   Age  weight  BodyTemperature  OxygenLevel  BloodSugar     HRV  \\\n",
       "11         49   NaN     NaN              NaN        97.50         NaN   85.00   \n",
       "23        134  2.00    0.00            35.08        95.67        8.00  113.20   \n",
       "25        136 90.00  113.38            35.92        96.16        8.08   51.59   \n",
       "27        140 63.00   90.00              NaN        96.56         NaN   70.14   \n",
       "37        162   NaN     NaN          1234.00      1234.00     1233.00 1234.00   \n",
       "\n",
       "    HeartRate  Systolic  Diasystolic  StepCount  TimeInBed  RespiratoryRate  \\\n",
       "11      76.50    109.50        69.50        NaN        NaN            13.00   \n",
       "23      76.94    100.00       100.00     143.06     391.07            13.67   \n",
       "25      84.36    121.61        73.25    4292.04     627.69            15.01   \n",
       "27      70.60    118.22        73.56    1508.00        NaN            12.89   \n",
       "37     388.50   1234.00      1234.00    1234.00     690.00              NaN   \n",
       "\n",
       "    StressLevel  FallAccur   BMI  \n",
       "11         0.00        NaN   NaN  \n",
       "23         2.00       1.00   NaN  \n",
       "25         0.47       1.00 11.38  \n",
       "27        -0.11        NaN   NaN  \n",
       "37          NaN       1.00   NaN  "
      ]
     },
     "execution_count": 343,
     "metadata": {},
     "output_type": "execute_result"
    }
   ],
   "source": [
    "# See the first five rows of numerical column\n",
    "filtered_df.select_dtypes(['int64', 'float64']).head()"
   ]
  },
  {
   "cell_type": "markdown",
   "id": "e0861531",
   "metadata": {},
   "source": [
    "#### Clean Age Column"
   ]
  },
  {
   "cell_type": "code",
   "execution_count": 344,
   "id": "aa3f6571",
   "metadata": {},
   "outputs": [
    {
     "name": "stdout",
     "output_type": "stream",
     "text": [
      "The number of null values in the age column: 18\n",
      "The percentage of null values in the age column: 2.41 %\n"
     ]
    }
   ],
   "source": [
    "# How many null values in the age column?\n",
    "print(\"The number of null values in the age column:\", filtered_df['Age'].isna().sum())\n",
    "print(\"The percentage of null values in the age column:\", round(filtered_df['Age'].isna().sum() / filtered_df.shape[0] * 100.0, 2),\"%\")"
   ]
  },
  {
   "cell_type": "code",
   "execution_count": 345,
   "id": "ac37bb61",
   "metadata": {},
   "outputs": [
    {
     "data": {
      "text/plain": [
       "2.00      3\n",
       "12.00     1\n",
       "21.00     1\n",
       "22.00    36\n",
       "23.00    15\n",
       "Name: Age, dtype: int64"
      ]
     },
     "execution_count": 345,
     "metadata": {},
     "output_type": "execute_result"
    }
   ],
   "source": [
    "# Check for outliers\n",
    "filtered_df['Age'].value_counts().sort_index().head()"
   ]
  },
  {
   "cell_type": "code",
   "execution_count": 346,
   "id": "7e36f997",
   "metadata": {},
   "outputs": [
    {
     "data": {
      "text/plain": [
       "88.00        1\n",
       "90.00        1\n",
       "100.00       1\n",
       "123.00     393\n",
       "2022.00    202\n",
       "Name: Age, dtype: int64"
      ]
     },
     "execution_count": 346,
     "metadata": {},
     "output_type": "execute_result"
    }
   ],
   "source": [
    "filtered_df['Age'].value_counts().sort_index().tail()"
   ]
  },
  {
   "cell_type": "code",
   "execution_count": 347,
   "id": "907228b1",
   "metadata": {},
   "outputs": [],
   "source": [
    "# Replace values < 20 and > 100 with nulls\n",
    "filtered_df['Age'] = (\n",
    "                                    np.where((filtered_df['Age'] < 20) | \n",
    "                                    (filtered_df['Age'] > 100), np.nan, filtered_df['Age'])\n",
    "                                  )"
   ]
  },
  {
   "cell_type": "code",
   "execution_count": 348,
   "id": "dbf15824",
   "metadata": {},
   "outputs": [
    {
     "data": {
      "text/plain": [
       "36"
      ]
     },
     "execution_count": 348,
     "metadata": {},
     "output_type": "execute_result"
    }
   ],
   "source": [
    "# Check the average age after replacing outliers\n",
    "mean_age = filtered_df.Age.mean(skipna=True)\n",
    "\n",
    "mean_age = round(mean_age)\n",
    "\n",
    "mean_age"
   ]
  },
  {
   "cell_type": "code",
   "execution_count": 349,
   "id": "8f5576d3",
   "metadata": {},
   "outputs": [],
   "source": [
    "# Replace null values with average age\n",
    "filtered_df['Age'].fillna(mean_age, inplace=True)"
   ]
  },
  {
   "cell_type": "code",
   "execution_count": 350,
   "id": "0ec54a1c",
   "metadata": {},
   "outputs": [
    {
     "data": {
      "text/plain": [
       "0"
      ]
     },
     "execution_count": 350,
     "metadata": {},
     "output_type": "execute_result"
    }
   ],
   "source": [
    "# Check number of nulls in Age column\n",
    "filtered_df['Age'].isna().sum()"
   ]
  },
  {
   "cell_type": "code",
   "execution_count": 351,
   "id": "190bab09",
   "metadata": {},
   "outputs": [
    {
     "data": {
      "text/plain": [
       "count   748.00\n",
       "mean     36.02\n",
       "std       8.15\n",
       "min      21.00\n",
       "25%      36.00\n",
       "50%      36.00\n",
       "75%      36.00\n",
       "max     100.00\n",
       "Name: Age, dtype: float64"
      ]
     },
     "execution_count": 351,
     "metadata": {},
     "output_type": "execute_result"
    }
   ],
   "source": [
    "filtered_df['Age'].describe()"
   ]
  },
  {
   "cell_type": "markdown",
   "id": "4899ad54",
   "metadata": {},
   "source": [
    "#### Observations\n",
    "* Age range between 21 and 100\n",
    "* Average age of 36 years"
   ]
  },
  {
   "cell_type": "code",
   "execution_count": 352,
   "id": "e8b38f2c",
   "metadata": {},
   "outputs": [
    {
     "data": {
      "text/plain": [
       "<AxesSubplot:xlabel='Age'>"
      ]
     },
     "execution_count": 352,
     "metadata": {},
     "output_type": "execute_result"
    },
    {
     "data": {
      "image/png": "[encoded data removed]",
      "text/plain": [
       "<Figure size 432x288 with 1 Axes>"
      ]
     },
     "metadata": {
      "needs_background": "light"
     },
     "output_type": "display_data"
    }
   ],
   "source": [
    "sns.boxplot(filtered_df['Age'])"
   ]
  },
  {
   "cell_type": "code",
   "execution_count": null,
   "id": "5efb9e50",
   "metadata": {},
   "outputs": [],
   "source": []
  },
  {
   "cell_type": "markdown",
   "id": "5c966002",
   "metadata": {},
   "source": [
    "#### Clean Weight column"
   ]
  },
  {
   "cell_type": "code",
   "execution_count": 353,
   "id": "a5bbb8db",
   "metadata": {},
   "outputs": [],
   "source": [
    "# Rename column\n",
    "filtered_df = filtered_df.rename(columns={'weight': 'Weight'})"
   ]
  },
  {
   "cell_type": "code",
   "execution_count": 354,
   "id": "391fbf47",
   "metadata": {},
   "outputs": [
    {
     "name": "stdout",
     "output_type": "stream",
     "text": [
      "The number of null values in the weight column: 484\n",
      "The percentage of null values in the weight column: 64.71 %\n"
     ]
    }
   ],
   "source": [
    "# How many null values in the age column?\n",
    "print(\"The number of null values in the weight column:\", filtered_df['Weight'].isna().sum())\n",
    "print(\"The percentage of null values in the weight column:\", round(filtered_df['Weight'].isna().sum() / filtered_df.shape[0] * 100.0, 2),\"%\")"
   ]
  },
  {
   "cell_type": "code",
   "execution_count": 355,
   "id": "87942b8f",
   "metadata": {
    "scrolled": true
   },
   "outputs": [
    {
     "data": {
      "text/plain": [
       "0.00     196\n",
       "5.00       1\n",
       "22.68      1\n",
       "23.00      2\n",
       "39.00      1\n",
       "40.00      1\n",
       "50.00      2\n",
       "51.00      1\n",
       "51.47      1\n",
       "51.47      1\n",
       "Name: Weight, dtype: int64"
      ]
     },
     "execution_count": 355,
     "metadata": {},
     "output_type": "execute_result"
    }
   ],
   "source": [
    "filtered_df['Weight'].value_counts().sort_index().head(10)"
   ]
  },
  {
   "cell_type": "code",
   "execution_count": 356,
   "id": "751f1e2d",
   "metadata": {},
   "outputs": [
    {
     "data": {
      "text/plain": [
       "210.00      1\n",
       "227.00      1\n",
       "235.00      1\n",
       "239.00      1\n",
       "245.00      1\n",
       "250.00      2\n",
       "261.00      1\n",
       "270.00      1\n",
       "845.00      1\n",
       "NaN       484\n",
       "Name: Weight, dtype: int64"
      ]
     },
     "execution_count": 356,
     "metadata": {},
     "output_type": "execute_result"
    }
   ],
   "source": [
    "filtered_df['Weight'].value_counts(dropna=False).sort_index().tail(10)"
   ]
  },
  {
   "cell_type": "code",
   "execution_count": 357,
   "id": "438b6ac0",
   "metadata": {},
   "outputs": [],
   "source": [
    "# Replace < 39 kg and > 270 kg with nulls\n",
    "filtered_df['Weight'] = (\n",
    "                                    np.where((filtered_df['Weight'] < 39) | \n",
    "                                    (filtered_df['Weight'] > 270), np.nan, filtered_df['Weight'])\n",
    "                                  )"
   ]
  },
  {
   "cell_type": "code",
   "execution_count": 358,
   "id": "ad755216",
   "metadata": {
    "scrolled": true
   },
   "outputs": [
    {
     "data": {
      "text/plain": [
       "83.0"
      ]
     },
     "execution_count": 358,
     "metadata": {},
     "output_type": "execute_result"
    }
   ],
   "source": [
    "# Median weight after removing outliers\n",
    "median_weight = filtered_df.Weight.median(skipna=True)\n",
    "\n",
    "median_weight"
   ]
  },
  {
   "cell_type": "code",
   "execution_count": 359,
   "id": "4568abcd",
   "metadata": {},
   "outputs": [],
   "source": [
    "# Replace null values with average weight\n",
    "filtered_df['Weight'].fillna(median_weight, inplace=True)"
   ]
  },
  {
   "cell_type": "code",
   "execution_count": 360,
   "id": "957641c3",
   "metadata": {
    "scrolled": false
   },
   "outputs": [
    {
     "data": {
      "text/plain": [
       "0"
      ]
     },
     "execution_count": 360,
     "metadata": {},
     "output_type": "execute_result"
    }
   ],
   "source": [
    "# Check number of nulls in weight column\n",
    "filtered_df['Weight'].isna().sum()"
   ]
  },
  {
   "cell_type": "code",
   "execution_count": 361,
   "id": "f3363c47",
   "metadata": {},
   "outputs": [
    {
     "data": {
      "text/plain": [
       "count   748.00\n",
       "mean     85.52\n",
       "std      21.01\n",
       "min      39.00\n",
       "25%      83.00\n",
       "50%      83.00\n",
       "75%      83.00\n",
       "max     270.00\n",
       "Name: Weight, dtype: float64"
      ]
     },
     "execution_count": 361,
     "metadata": {},
     "output_type": "execute_result"
    }
   ],
   "source": [
    "filtered_df['Weight'].describe()"
   ]
  },
  {
   "cell_type": "markdown",
   "id": "20052a60",
   "metadata": {},
   "source": [
    "#### Observations\n",
    "- Weight range between 39 kg and 270 kg\n",
    "- Median weight of 83 kg"
   ]
  },
  {
   "cell_type": "code",
   "execution_count": 362,
   "id": "8b325c9a",
   "metadata": {},
   "outputs": [
    {
     "data": {
      "text/plain": [
       "<AxesSubplot:xlabel='Weight'>"
      ]
     },
     "execution_count": 362,
     "metadata": {},
     "output_type": "execute_result"
    },
    {
     "data": {
      "image/png": "[encoded data removed]",
      "text/plain": [
       "<Figure size 432x288 with 1 Axes>"
      ]
     },
     "metadata": {
      "needs_background": "light"
     },
     "output_type": "display_data"
    }
   ],
   "source": [
    "sns.boxplot(filtered_df['Weight'])"
   ]
  },
  {
   "cell_type": "code",
   "execution_count": null,
   "id": "8a50623e",
   "metadata": {},
   "outputs": [],
   "source": []
  },
  {
   "cell_type": "markdown",
   "id": "ef73efd4",
   "metadata": {},
   "source": [
    "#### Clean Body Temperature Column"
   ]
  },
  {
   "cell_type": "code",
   "execution_count": 363,
   "id": "09924618",
   "metadata": {},
   "outputs": [
    {
     "name": "stdout",
     "output_type": "stream",
     "text": [
      "The number of null values in the Body Temperature column: 316\n",
      "The percentage of null values in the Body Temperature column: 42.25 %\n"
     ]
    }
   ],
   "source": [
    "# How many null values in the age column?\n",
    "print(\"The number of null values in the Body Temperature column:\", filtered_df['BodyTemperature'].isna().sum())\n",
    "print(\"The percentage of null values in the Body Temperature column:\", round(filtered_df['BodyTemperature'].isna().sum() / filtered_df.shape[0] * 100.0, 2),\"%\")"
   ]
  },
  {
   "cell_type": "code",
   "execution_count": 364,
   "id": "33895a01",
   "metadata": {
    "scrolled": false
   },
   "outputs": [
    {
     "data": {
      "text/plain": [
       "-17.00    1\n",
       "1.50      1\n",
       "3.00      1\n",
       "5.14      1\n",
       "10.00     1\n",
       "17.50     1\n",
       "18.50     1\n",
       "20.00     1\n",
       "21.25     1\n",
       "22.13     1\n",
       "Name: BodyTemperature, dtype: int64"
      ]
     },
     "execution_count": 364,
     "metadata": {},
     "output_type": "execute_result"
    }
   ],
   "source": [
    "# Check for outliers\n",
    "filtered_df.BodyTemperature.value_counts().sort_index().head(10)"
   ]
  },
  {
   "cell_type": "code",
   "execution_count": 365,
   "id": "b7dc5f55",
   "metadata": {},
   "outputs": [
    {
     "data": {
      "text/plain": [
       "101.60       1\n",
       "101.67       1\n",
       "101.71       1\n",
       "101.75       3\n",
       "102.00       3\n",
       "102.14       1\n",
       "102.67       1\n",
       "103.00       1\n",
       "1234.00      1\n",
       "NaN        316\n",
       "Name: BodyTemperature, dtype: int64"
      ]
     },
     "execution_count": 365,
     "metadata": {},
     "output_type": "execute_result"
    }
   ],
   "source": [
    "filtered_df.BodyTemperature.value_counts(dropna=False).sort_index().tail(10)"
   ]
  },
  {
   "cell_type": "code",
   "execution_count": 366,
   "id": "6784c994",
   "metadata": {},
   "outputs": [],
   "source": [
    "# Replace erroneous values with nulls\n",
    "filtered_df['BodyTemperature'] = (\n",
    "                                    np.where((filtered_df['BodyTemperature'] < 36) | \n",
    "                                    ((filtered_df['BodyTemperature'] >= 41) & (filtered_df['BodyTemperature'] <= 95)) | \n",
    "                                    (filtered_df['BodyTemperature'] > 105), np.nan, filtered_df['BodyTemperature'])\n",
    "                                  )"
   ]
  },
  {
   "cell_type": "code",
   "execution_count": 367,
   "id": "ddc4e16e",
   "metadata": {},
   "outputs": [],
   "source": [
    "# Create a function to convert fahrenheit to celsius\n",
    "def fahrenheit_to_celsius(fahrenheit):\n",
    "    return (fahrenheit - 32) * 5/9"
   ]
  },
  {
   "cell_type": "code",
   "execution_count": 368,
   "id": "b052dd23",
   "metadata": {},
   "outputs": [],
   "source": [
    "# Replace fahrenheit values with celsisus values\n",
    "filtered_df['BodyTemperature'] = filtered_df['BodyTemperature'].apply(lambda x: fahrenheit_to_celsius(x) if x >= 95 else x)"
   ]
  },
  {
   "cell_type": "code",
   "execution_count": 369,
   "id": "6bf19157",
   "metadata": {},
   "outputs": [
    {
     "data": {
      "text/plain": [
       "37.79936471266251"
      ]
     },
     "execution_count": 369,
     "metadata": {},
     "output_type": "execute_result"
    }
   ],
   "source": [
    "# Mean body temp after removing outliers\n",
    "mean_temp = filtered_df['BodyTemperature'].mean(skipna=True)\n",
    "\n",
    "mean_temp"
   ]
  },
  {
   "cell_type": "code",
   "execution_count": 370,
   "id": "5f6fd7e3",
   "metadata": {},
   "outputs": [],
   "source": [
    "# Fill nulls with 37 (normal body temperature)\n",
    "filtered_df['BodyTemperature'].fillna(37, inplace=True)"
   ]
  },
  {
   "cell_type": "code",
   "execution_count": 371,
   "id": "75f55624",
   "metadata": {},
   "outputs": [
    {
     "data": {
      "text/plain": [
       "0"
      ]
     },
     "execution_count": 371,
     "metadata": {},
     "output_type": "execute_result"
    }
   ],
   "source": [
    "# How many nulls left?\n",
    "filtered_df['BodyTemperature'].isna().sum()"
   ]
  },
  {
   "cell_type": "code",
   "execution_count": 372,
   "id": "d6f0efdf",
   "metadata": {},
   "outputs": [
    {
     "data": {
      "text/plain": [
       "count   748.00\n",
       "mean     37.36\n",
       "std       0.67\n",
       "min      36.00\n",
       "25%      37.00\n",
       "50%      37.00\n",
       "75%      37.87\n",
       "max      40.58\n",
       "Name: BodyTemperature, dtype: float64"
      ]
     },
     "execution_count": 372,
     "metadata": {},
     "output_type": "execute_result"
    }
   ],
   "source": [
    "# Statistics of Body Temperature column\n",
    "filtered_df['BodyTemperature'].describe()"
   ]
  },
  {
   "cell_type": "markdown",
   "id": "167d525d",
   "metadata": {},
   "source": [
    "#### Observations\n",
    "- Body Temperature range between 36 celsius and 41 celsius\n",
    "- Median Body Temperature is 37 celsius"
   ]
  },
  {
   "cell_type": "code",
   "execution_count": 373,
   "id": "5e36ec85",
   "metadata": {},
   "outputs": [
    {
     "data": {
      "text/plain": [
       "<AxesSubplot:xlabel='BodyTemperature'>"
      ]
     },
     "execution_count": 373,
     "metadata": {},
     "output_type": "execute_result"
    },
    {
     "data": {
      "image/png": "[encoded data removed]",
      "text/plain": [
       "<Figure size 432x288 with 1 Axes>"
      ]
     },
     "metadata": {
      "needs_background": "light"
     },
     "output_type": "display_data"
    }
   ],
   "source": [
    "sns.boxplot(filtered_df['BodyTemperature'])"
   ]
  },
  {
   "cell_type": "code",
   "execution_count": null,
   "id": "88cf2f21",
   "metadata": {},
   "outputs": [],
   "source": []
  },
  {
   "cell_type": "markdown",
   "id": "0a810a0a",
   "metadata": {},
   "source": [
    "#### Clean Oxygen Level Column"
   ]
  },
  {
   "cell_type": "code",
   "execution_count": 374,
   "id": "435d2b38",
   "metadata": {},
   "outputs": [
    {
     "name": "stdout",
     "output_type": "stream",
     "text": [
      "The number of null values in the Oxygen Level column: 18\n",
      "The percentage of null values in the Oxygen Level column: 2.41 %\n"
     ]
    }
   ],
   "source": [
    "# How many null values in the age column?\n",
    "print(\"The number of null values in the Oxygen Level column:\", filtered_df['OxygenLevel'].isna().sum())\n",
    "print(\"The percentage of null values in the Oxygen Level column:\", round(filtered_df['OxygenLevel'].isna().sum() / filtered_df.shape[0] * 100.0, 2),\"%\")"
   ]
  },
  {
   "cell_type": "code",
   "execution_count": 375,
   "id": "af4e53ea",
   "metadata": {
    "scrolled": false
   },
   "outputs": [
    {
     "data": {
      "text/plain": [
       "5.00     1\n",
       "6.00     1\n",
       "10.00    1\n",
       "21.00    1\n",
       "22.00    1\n",
       "Name: OxygenLevel, dtype: int64"
      ]
     },
     "execution_count": 375,
     "metadata": {},
     "output_type": "execute_result"
    }
   ],
   "source": [
    "filtered_df.OxygenLevel.value_counts().sort_index().head()"
   ]
  },
  {
   "cell_type": "code",
   "execution_count": 376,
   "id": "1e414bc0",
   "metadata": {},
   "outputs": [
    {
     "data": {
      "text/plain": [
       "119.88     1\n",
       "131.85     1\n",
       "157.25     1\n",
       "195.75     1\n",
       "1234.00    1\n",
       "Name: OxygenLevel, dtype: int64"
      ]
     },
     "execution_count": 376,
     "metadata": {},
     "output_type": "execute_result"
    }
   ],
   "source": [
    "filtered_df.OxygenLevel.value_counts().sort_index().tail()"
   ]
  },
  {
   "cell_type": "code",
   "execution_count": 377,
   "id": "59a3a81d",
   "metadata": {},
   "outputs": [],
   "source": [
    "# Replace values < 90 and > 120 with nulls\n",
    "filtered_df['OxygenLevel'] = (\n",
    "                                    np.where((filtered_df['OxygenLevel'] < 90) |\n",
    "                                    (filtered_df['OxygenLevel'] > 120), np.nan, \n",
    "                                    filtered_df['OxygenLevel'])\n",
    "                                  )"
   ]
  },
  {
   "cell_type": "code",
   "execution_count": 378,
   "id": "029c7935",
   "metadata": {},
   "outputs": [
    {
     "data": {
      "text/plain": [
       "97.0"
      ]
     },
     "execution_count": 378,
     "metadata": {},
     "output_type": "execute_result"
    }
   ],
   "source": [
    "# Median oxygen after removing outliers\n",
    "median_oxygen = filtered_df['OxygenLevel'].median(skipna=True)\n",
    "\n",
    "median_oxygen"
   ]
  },
  {
   "cell_type": "code",
   "execution_count": 379,
   "id": "a911f65c",
   "metadata": {},
   "outputs": [],
   "source": [
    "# Replace nulls with median oxygen level\n",
    "filtered_df['OxygenLevel'].fillna(median_oxygen, inplace=True)"
   ]
  },
  {
   "cell_type": "code",
   "execution_count": 380,
   "id": "db8a72b0",
   "metadata": {
    "scrolled": false
   },
   "outputs": [
    {
     "data": {
      "text/plain": [
       "0"
      ]
     },
     "execution_count": 380,
     "metadata": {},
     "output_type": "execute_result"
    }
   ],
   "source": [
    "# How many nulls left?\n",
    "filtered_df['OxygenLevel'].isna().sum()"
   ]
  },
  {
   "cell_type": "code",
   "execution_count": 381,
   "id": "83d27925",
   "metadata": {},
   "outputs": [
    {
     "data": {
      "text/plain": [
       "count   748.00\n",
       "mean     97.49\n",
       "std       3.13\n",
       "min      90.09\n",
       "25%      96.57\n",
       "50%      97.00\n",
       "75%      98.00\n",
       "max     119.88\n",
       "Name: OxygenLevel, dtype: float64"
      ]
     },
     "execution_count": 381,
     "metadata": {},
     "output_type": "execute_result"
    }
   ],
   "source": [
    "# Statistics of Oxygen Level column\n",
    "filtered_df['OxygenLevel'].describe()"
   ]
  },
  {
   "cell_type": "markdown",
   "id": "29f704de",
   "metadata": {},
   "source": [
    "#### Observations\n",
    "- Oxygen Level range between 90 and 120\n",
    "- Median Oxygen level is 97"
   ]
  },
  {
   "cell_type": "code",
   "execution_count": 382,
   "id": "0764763a",
   "metadata": {
    "scrolled": true
   },
   "outputs": [
    {
     "data": {
      "text/plain": [
       "<AxesSubplot:xlabel='OxygenLevel'>"
      ]
     },
     "execution_count": 382,
     "metadata": {},
     "output_type": "execute_result"
    },
    {
     "data": {
      "image/png": "[encoded data removed]",
      "text/plain": [
       "<Figure size 432x288 with 1 Axes>"
      ]
     },
     "metadata": {
      "needs_background": "light"
     },
     "output_type": "display_data"
    }
   ],
   "source": [
    "sns.boxplot(filtered_df['OxygenLevel'])"
   ]
  },
  {
   "cell_type": "code",
   "execution_count": null,
   "id": "eab73beb",
   "metadata": {},
   "outputs": [],
   "source": []
  },
  {
   "cell_type": "markdown",
   "id": "859e41ce",
   "metadata": {},
   "source": [
    "#### Clean Blood Sugar Column"
   ]
  },
  {
   "cell_type": "code",
   "execution_count": 383,
   "id": "6591f1c7",
   "metadata": {},
   "outputs": [
    {
     "name": "stdout",
     "output_type": "stream",
     "text": [
      "The number of null values in the Blood Sugar column: 425\n",
      "The percentage of null values in the Blood Sugar column: 56.82 %\n"
     ]
    }
   ],
   "source": [
    "# How many null values in the age column?\n",
    "print(\"The number of null values in the Blood Sugar column:\", filtered_df['BloodSugar'].isna().sum())\n",
    "print(\"The percentage of null values in the Blood Sugar column:\", round(filtered_df['BloodSugar'].isna().sum() / filtered_df.shape[0] * 100.0, 2),\"%\")"
   ]
  },
  {
   "cell_type": "code",
   "execution_count": 384,
   "id": "8e762f12",
   "metadata": {
    "scrolled": true
   },
   "outputs": [
    {
     "data": {
      "text/plain": [
       "0.06       1\n",
       "0.08       1\n",
       "0.10       1\n",
       "0.17       1\n",
       "0.20       1\n",
       "0.25       1\n",
       "0.26       1\n",
       "0.28       1\n",
       "0.28       1\n",
       "0.32       1\n",
       "0.33       1\n",
       "0.34       1\n",
       "0.37       1\n",
       "0.37       1\n",
       "0.43       1\n",
       "0.50       1\n",
       "0.54       1\n",
       "0.67       1\n",
       "0.68       1\n",
       "0.70       1\n",
       "1.00       1\n",
       "1.11       1\n",
       "1.39       2\n",
       "1.44       1\n",
       "1.58       1\n",
       "1.67       1\n",
       "2.22       2\n",
       "2.36       1\n",
       "2.43       1\n",
       "2.50       1\n",
       "2.78       1\n",
       "2.99       1\n",
       "3.00       2\n",
       "3.11       1\n",
       "3.22       1\n",
       "3.27       1\n",
       "3.33       3\n",
       "3.57       1\n",
       "3.65       1\n",
       "3.67       1\n",
       "3.69       1\n",
       "4.00       2\n",
       "4.03       1\n",
       "4.05       1\n",
       "4.33       1\n",
       "4.44       1\n",
       "4.80       1\n",
       "5.00       2\n",
       "5.11       1\n",
       "5.19       1\n",
       "5.30       1\n",
       "5.50       1\n",
       "6.00       1\n",
       "6.17       1\n",
       "6.20       1\n",
       "6.22       1\n",
       "6.56       1\n",
       "6.67       1\n",
       "6.72       1\n",
       "7.17       1\n",
       "7.67       1\n",
       "7.83       1\n",
       "8.00       1\n",
       "8.03       1\n",
       "8.08       1\n",
       "8.17       1\n",
       "9.00       1\n",
       "9.25       1\n",
       "11.67      1\n",
       "25.00      1\n",
       "27.78      1\n",
       "35.12      1\n",
       "42.44      1\n",
       "50.00      1\n",
       "53.14      1\n",
       "58.00      1\n",
       "63.00      1\n",
       "80.86      1\n",
       "110.67     1\n",
       "118.67     1\n",
       "125.33     1\n",
       "125.50     1\n",
       "126.33     1\n",
       "127.40     1\n",
       "127.67     1\n",
       "127.80     1\n",
       "128.17     1\n",
       "128.27     1\n",
       "128.75     1\n",
       "129.33     1\n",
       "129.60     1\n",
       "130.25     1\n",
       "130.50     1\n",
       "130.75     2\n",
       "131.40     1\n",
       "131.50     1\n",
       "132.25     1\n",
       "134.17     1\n",
       "134.43     1\n",
       "134.83     1\n",
       "134.86     2\n",
       "135.00     1\n",
       "135.50     1\n",
       "135.86     1\n",
       "136.00     1\n",
       "136.20     1\n",
       "136.25     2\n",
       "136.71     2\n",
       "136.88     1\n",
       "137.00     1\n",
       "137.67     1\n",
       "137.73     1\n",
       "137.86     1\n",
       "138.14     1\n",
       "138.50     1\n",
       "139.00     1\n",
       "139.55     1\n",
       "139.67     1\n",
       "140.33     2\n",
       "140.67     1\n",
       "140.78     1\n",
       "141.12     1\n",
       "141.14     2\n",
       "141.17     1\n",
       "141.38     1\n",
       "141.71     1\n",
       "141.75     1\n",
       "141.77     1\n",
       "142.00     1\n",
       "142.07     1\n",
       "142.25     1\n",
       "142.50     1\n",
       "142.56     1\n",
       "142.57     1\n",
       "142.60     1\n",
       "142.67     1\n",
       "142.70     1\n",
       "143.00     1\n",
       "143.17     1\n",
       "143.50     1\n",
       "143.75     1\n",
       "143.83     1\n",
       "144.00     2\n",
       "144.29     1\n",
       "144.50     1\n",
       "145.00     1\n",
       "145.25     1\n",
       "145.33     1\n",
       "145.40     1\n",
       "145.60     1\n",
       "145.86     1\n",
       "146.00     1\n",
       "146.20     3\n",
       "146.33     1\n",
       "146.40     1\n",
       "146.43     1\n",
       "146.48     1\n",
       "146.67     1\n",
       "146.80     1\n",
       "146.88     1\n",
       "147.04     1\n",
       "147.12     1\n",
       "147.18     1\n",
       "147.44     1\n",
       "147.60     2\n",
       "147.67     1\n",
       "147.75     1\n",
       "147.86     1\n",
       "148.00     1\n",
       "148.08     1\n",
       "148.25     1\n",
       "148.33     1\n",
       "148.43     1\n",
       "148.57     1\n",
       "148.60     1\n",
       "148.67     1\n",
       "148.71     1\n",
       "148.80     1\n",
       "149.00     3\n",
       "149.17     1\n",
       "149.42     1\n",
       "149.78     1\n",
       "149.80     1\n",
       "150.25     1\n",
       "150.33     1\n",
       "150.67     1\n",
       "150.88     1\n",
       "151.00     1\n",
       "151.29     2\n",
       "151.75     1\n",
       "151.86     1\n",
       "151.92     1\n",
       "152.29     1\n",
       "152.50     2\n",
       "152.55     1\n",
       "152.67     1\n",
       "152.71     1\n",
       "152.74     1\n",
       "152.78     1\n",
       "152.80     1\n",
       "152.82     1\n",
       "152.86     1\n",
       "153.00     1\n",
       "153.20     1\n",
       "153.50     1\n",
       "153.62     1\n",
       "153.67     2\n",
       "153.86     1\n",
       "154.00     3\n",
       "154.25     1\n",
       "154.72     1\n",
       "154.80     2\n",
       "154.90     1\n",
       "155.00     1\n",
       "155.08     1\n",
       "155.17     1\n",
       "155.40     1\n",
       "155.50     1\n",
       "155.80     1\n",
       "155.86     1\n",
       "156.00     1\n",
       "156.10     1\n",
       "156.44     1\n",
       "156.67     1\n",
       "156.71     1\n",
       "156.73     1\n",
       "156.86     1\n",
       "156.88     1\n",
       "157.00     3\n",
       "157.08     1\n",
       "157.14     1\n",
       "157.29     1\n",
       "157.33     2\n",
       "157.44     1\n",
       "157.67     1\n",
       "157.75     1\n",
       "157.90     1\n",
       "158.12     1\n",
       "158.14     1\n",
       "158.29     1\n",
       "158.57     1\n",
       "159.00     1\n",
       "159.25     1\n",
       "159.50     1\n",
       "159.62     1\n",
       "159.73     1\n",
       "159.80     2\n",
       "159.85     1\n",
       "159.88     1\n",
       "160.14     1\n",
       "160.60     1\n",
       "160.88     1\n",
       "161.00     1\n",
       "161.12     1\n",
       "161.20     1\n",
       "161.43     1\n",
       "161.67     1\n",
       "161.75     1\n",
       "162.22     1\n",
       "162.33     1\n",
       "162.50     1\n",
       "162.75     1\n",
       "162.83     1\n",
       "163.00     1\n",
       "163.29     1\n",
       "163.44     1\n",
       "164.17     1\n",
       "164.20     1\n",
       "164.40     1\n",
       "164.67     1\n",
       "164.89     1\n",
       "166.20     1\n",
       "166.70     1\n",
       "167.00     1\n",
       "168.00     2\n",
       "168.67     1\n",
       "169.67     1\n",
       "170.00     1\n",
       "170.40     1\n",
       "170.50     1\n",
       "171.25     1\n",
       "173.50     1\n",
       "173.89     1\n",
       "175.00     1\n",
       "175.10     1\n",
       "175.18     1\n",
       "176.00     1\n",
       "177.83     1\n",
       "183.00     1\n",
       "188.00     1\n",
       "208.93     1\n",
       "400.00     1\n",
       "1233.00    1\n",
       "Name: BloodSugar, dtype: int64"
      ]
     },
     "execution_count": 384,
     "metadata": {},
     "output_type": "execute_result"
    }
   ],
   "source": [
    "filtered_df.BloodSugar.value_counts().sort_index()"
   ]
  },
  {
   "cell_type": "code",
   "execution_count": 385,
   "id": "0e02143a",
   "metadata": {},
   "outputs": [],
   "source": [
    "# bs_filtered = filtered_df[filtered_df['BloodSugar']<400]"
   ]
  },
  {
   "cell_type": "code",
   "execution_count": 386,
   "id": "a7cb118d",
   "metadata": {},
   "outputs": [
    {
     "data": {
      "text/plain": [
       "count    323.00\n",
       "mean     117.05\n",
       "std       90.72\n",
       "min        0.06\n",
       "25%       51.57\n",
       "50%      145.33\n",
       "75%      155.45\n",
       "max     1233.00\n",
       "Name: BloodSugar, dtype: float64"
      ]
     },
     "execution_count": 386,
     "metadata": {},
     "output_type": "execute_result"
    }
   ],
   "source": [
    "filtered_df['BloodSugar'].describe()"
   ]
  },
  {
   "cell_type": "code",
   "execution_count": 387,
   "id": "a54d142d",
   "metadata": {},
   "outputs": [],
   "source": [
    "# sns.boxplot(bs_filtered['BloodSugar'])"
   ]
  },
  {
   "cell_type": "markdown",
   "id": "e1063f82",
   "metadata": {},
   "source": [
    "#### Clean Heart Rate Column"
   ]
  },
  {
   "cell_type": "code",
   "execution_count": 388,
   "id": "e7ed6f12",
   "metadata": {},
   "outputs": [
    {
     "name": "stdout",
     "output_type": "stream",
     "text": [
      "The number of null values in the Heart Rate column: 20\n",
      "The percentage of null values in the Heart Rate column: 2.67 %\n"
     ]
    }
   ],
   "source": [
    "# How many null values in the heart rate column?\n",
    "print(\"The number of null values in the Heart Rate column:\", filtered_df['HeartRate'].isna().sum())\n",
    "print(\"The percentage of null values in the Heart Rate column:\", round(filtered_df['HeartRate'].isna().sum() / filtered_df.shape[0] * 100.0, 2),\"%\")"
   ]
  },
  {
   "cell_type": "code",
   "execution_count": 389,
   "id": "cc4e0ef5",
   "metadata": {},
   "outputs": [
    {
     "data": {
      "text/plain": [
       "7.67     1\n",
       "11.50    1\n",
       "15.00    1\n",
       "20.00    1\n",
       "20.25    1\n",
       "25.00    1\n",
       "26.50    1\n",
       "31.86    1\n",
       "32.23    1\n",
       "34.62    1\n",
       "35.00    1\n",
       "40.00    1\n",
       "40.74    1\n",
       "42.50    1\n",
       "44.00    1\n",
       "Name: HeartRate, dtype: int64"
      ]
     },
     "execution_count": 389,
     "metadata": {},
     "output_type": "execute_result"
    }
   ],
   "source": [
    "filtered_df['HeartRate'].value_counts().sort_index().head(15)"
   ]
  },
  {
   "cell_type": "code",
   "execution_count": 390,
   "id": "10bb651c",
   "metadata": {
    "scrolled": true
   },
   "outputs": [
    {
     "data": {
      "text/plain": [
       "102.57    1\n",
       "103.00    3\n",
       "105.00    1\n",
       "105.50    1\n",
       "105.67    1\n",
       "107.29    1\n",
       "108.00    1\n",
       "109.33    1\n",
       "119.00    1\n",
       "120.00    1\n",
       "137.50    1\n",
       "155.00    1\n",
       "173.00    1\n",
       "200.00    1\n",
       "388.50    1\n",
       "Name: HeartRate, dtype: int64"
      ]
     },
     "execution_count": 390,
     "metadata": {},
     "output_type": "execute_result"
    }
   ],
   "source": [
    "filtered_df['HeartRate'].value_counts().sort_index().tail(15)"
   ]
  },
  {
   "cell_type": "code",
   "execution_count": 391,
   "id": "a516fcc0",
   "metadata": {},
   "outputs": [],
   "source": [
    "# Replace < 40 BPM and > 150 BPM\n",
    "filtered_df['HeartRate'] = (\n",
    "                                    np.where((filtered_df['HeartRate'] < 40) |\n",
    "                                    (filtered_df['HeartRate'] > 150), np.nan, \n",
    "                                    filtered_df['HeartRate'])\n",
    "                                  )"
   ]
  },
  {
   "cell_type": "code",
   "execution_count": 392,
   "id": "80f89e92",
   "metadata": {},
   "outputs": [
    {
     "data": {
      "text/plain": [
       "79.33333333333333"
      ]
     },
     "execution_count": 392,
     "metadata": {},
     "output_type": "execute_result"
    }
   ],
   "source": [
    "# Median Heart Rate after removing outliers\n",
    "median_hr = filtered_df['HeartRate'].median(skipna=True)\n",
    "\n",
    "median_hr"
   ]
  },
  {
   "cell_type": "code",
   "execution_count": 393,
   "id": "149d4913",
   "metadata": {},
   "outputs": [],
   "source": [
    "# Replace nulls with median oxygen level\n",
    "filtered_df['HeartRate'].fillna(median_hr, inplace=True)"
   ]
  },
  {
   "cell_type": "code",
   "execution_count": 394,
   "id": "d90c1b83",
   "metadata": {},
   "outputs": [
    {
     "data": {
      "text/plain": [
       "0"
      ]
     },
     "execution_count": 394,
     "metadata": {},
     "output_type": "execute_result"
    }
   ],
   "source": [
    "# How many nulls left?\n",
    "filtered_df['HeartRate'].isna().sum()"
   ]
  },
  {
   "cell_type": "code",
   "execution_count": 395,
   "id": "7240ced8",
   "metadata": {},
   "outputs": [
    {
     "data": {
      "text/plain": [
       "count   748.00\n",
       "mean     79.24\n",
       "std      13.40\n",
       "min      40.00\n",
       "25%      70.00\n",
       "50%      79.33\n",
       "75%      90.72\n",
       "max     137.50\n",
       "Name: HeartRate, dtype: float64"
      ]
     },
     "execution_count": 395,
     "metadata": {},
     "output_type": "execute_result"
    }
   ],
   "source": [
    "# Statistics for Heart Rate column\n",
    "filtered_df['HeartRate'].describe()"
   ]
  },
  {
   "cell_type": "markdown",
   "id": "bc368b41",
   "metadata": {},
   "source": [
    "#### Observations\n",
    "* Resting Heart Rate range between 40 and 137.5\n",
    "* Average Heart Rate is 79"
   ]
  },
  {
   "cell_type": "code",
   "execution_count": 396,
   "id": "5123b323",
   "metadata": {},
   "outputs": [
    {
     "data": {
      "text/plain": [
       "<AxesSubplot:xlabel='HeartRate'>"
      ]
     },
     "execution_count": 396,
     "metadata": {},
     "output_type": "execute_result"
    },
    {
     "data": {
      "image/png": "[encoded data removed]",
      "text/plain": [
       "<Figure size 432x288 with 1 Axes>"
      ]
     },
     "metadata": {
      "needs_background": "light"
     },
     "output_type": "display_data"
    }
   ],
   "source": [
    "sns.boxplot(filtered_df['HeartRate'])"
   ]
  },
  {
   "cell_type": "markdown",
   "id": "b78ab9d8",
   "metadata": {},
   "source": [
    "#### Clean Systolic Blood Pressure Column"
   ]
  },
  {
   "cell_type": "code",
   "execution_count": 397,
   "id": "ec650117",
   "metadata": {},
   "outputs": [
    {
     "name": "stdout",
     "output_type": "stream",
     "text": [
      "The number of null values in the Systolic Blood Pressure column: 29\n",
      "The percentage of null values in the Systolic Blood Pressure column: 3.88 %\n"
     ]
    }
   ],
   "source": [
    "# How many null values in the Systlolic Blood Pressure column?\n",
    "print(\"The number of null values in the Systolic Blood Pressure column:\", filtered_df['Systolic'].isna().sum())\n",
    "print(\"The percentage of null values in the Systolic Blood Pressure column:\", round(filtered_df['Systolic'].isna().sum() / filtered_df.shape[0] * 100.0, 2),\"%\")"
   ]
  },
  {
   "cell_type": "code",
   "execution_count": 398,
   "id": "9c9e7ab3",
   "metadata": {},
   "outputs": [
    {
     "data": {
      "text/plain": [
       "1.50        1\n",
       "8.00        1\n",
       "10.00       2\n",
       "12.00       1\n",
       "26.33       1\n",
       "28.25       1\n",
       "39.67       1\n",
       "40.00       2\n",
       "55.00       1\n",
       "56.00       1\n",
       "57.00       1\n",
       "58.50       1\n",
       "60.00       4\n",
       "61.11       1\n",
       "62.50       1\n",
       "64.50       1\n",
       "68.25       1\n",
       "69.36       1\n",
       "70.00       3\n",
       "71.00       1\n",
       "72.00       1\n",
       "75.00       1\n",
       "77.00       1\n",
       "78.00       1\n",
       "78.83       1\n",
       "79.75       1\n",
       "80.50       1\n",
       "82.00       2\n",
       "83.00       2\n",
       "85.00       1\n",
       "85.80       1\n",
       "86.50       1\n",
       "87.00       1\n",
       "88.00       2\n",
       "88.33       1\n",
       "88.38       1\n",
       "89.00       1\n",
       "90.00       3\n",
       "91.33       1\n",
       "92.00       1\n",
       "92.25       1\n",
       "94.00       5\n",
       "94.17       1\n",
       "94.50       1\n",
       "95.00       1\n",
       "95.29       1\n",
       "95.50       1\n",
       "96.00       3\n",
       "96.12       1\n",
       "96.22       1\n",
       "96.50       1\n",
       "97.00       5\n",
       "97.50       2\n",
       "98.00       3\n",
       "98.40       1\n",
       "99.00       7\n",
       "99.60       1\n",
       "100.00      3\n",
       "100.75      1\n",
       "101.00      8\n",
       "101.14      1\n",
       "101.32      1\n",
       "102.00      6\n",
       "102.33      1\n",
       "102.43      1\n",
       "103.00      3\n",
       "103.12      1\n",
       "104.00      5\n",
       "104.61      1\n",
       "104.67      1\n",
       "104.75      1\n",
       "104.86      1\n",
       "105.00      8\n",
       "105.50      1\n",
       "106.00      9\n",
       "106.62      1\n",
       "107.00     11\n",
       "107.25      1\n",
       "107.50      1\n",
       "107.75      1\n",
       "108.00      3\n",
       "108.20      1\n",
       "108.67      1\n",
       "109.00      9\n",
       "109.30      1\n",
       "109.33      2\n",
       "109.50      5\n",
       "109.56      1\n",
       "110.00      9\n",
       "110.50      1\n",
       "110.56      1\n",
       "110.80      2\n",
       "111.00     10\n",
       "111.12      1\n",
       "111.33      1\n",
       "111.46      1\n",
       "111.50      2\n",
       "111.67      1\n",
       "111.75      1\n",
       "111.83      1\n",
       "111.86      1\n",
       "112.00      9\n",
       "112.17      1\n",
       "112.50      2\n",
       "112.67      2\n",
       "113.00      9\n",
       "113.33      3\n",
       "113.40      1\n",
       "113.43      1\n",
       "113.50      2\n",
       "113.67      1\n",
       "114.00     11\n",
       "114.44      1\n",
       "114.50      3\n",
       "114.59      1\n",
       "114.73      1\n",
       "114.75      1\n",
       "115.00     10\n",
       "115.20      2\n",
       "115.33      1\n",
       "115.44      1\n",
       "115.50      1\n",
       "115.60      1\n",
       "116.00     13\n",
       "116.33      1\n",
       "116.50      1\n",
       "116.91      1\n",
       "117.00      5\n",
       "117.25      1\n",
       "117.30      1\n",
       "117.33      2\n",
       "117.67      2\n",
       "117.75      1\n",
       "117.77      1\n",
       "118.00     13\n",
       "118.20      2\n",
       "118.22      1\n",
       "118.39      1\n",
       "118.50      2\n",
       "118.57      1\n",
       "118.67      1\n",
       "118.83      1\n",
       "119.00      5\n",
       "119.38      1\n",
       "119.50      1\n",
       "119.62      1\n",
       "119.70      1\n",
       "119.75      1\n",
       "120.00     18\n",
       "120.19      1\n",
       "120.24      1\n",
       "120.31      1\n",
       "120.33      1\n",
       "120.50      2\n",
       "120.75      1\n",
       "120.77      1\n",
       "120.80      2\n",
       "120.83      1\n",
       "121.00      8\n",
       "121.50      1\n",
       "121.61      1\n",
       "121.66      1\n",
       "121.67      1\n",
       "121.80      1\n",
       "122.00      8\n",
       "122.50      1\n",
       "122.67      2\n",
       "122.73      1\n",
       "123.00      2\n",
       "123.28      1\n",
       "123.50      1\n",
       "123.67      1\n",
       "123.80      1\n",
       "124.00      7\n",
       "124.25      1\n",
       "124.40      1\n",
       "124.50      1\n",
       "125.00      3\n",
       "125.50      1\n",
       "126.00      3\n",
       "127.00      8\n",
       "128.00      5\n",
       "128.81      1\n",
       "129.50      1\n",
       "130.00      1\n",
       "131.00      5\n",
       "132.17      1\n",
       "133.00      1\n",
       "134.25      1\n",
       "134.42      1\n",
       "135.00      2\n",
       "135.25      1\n",
       "135.44      1\n",
       "136.00      1\n",
       "137.00      2\n",
       "137.33      1\n",
       "138.00      1\n",
       "139.00      1\n",
       "140.00      1\n",
       "140.25      1\n",
       "141.00      1\n",
       "142.00      2\n",
       "142.40      1\n",
       "142.50      1\n",
       "142.80      1\n",
       "142.86      1\n",
       "143.00      1\n",
       "143.40      1\n",
       "144.00      2\n",
       "145.00      1\n",
       "145.50      1\n",
       "146.40      1\n",
       "147.56      1\n",
       "148.00      1\n",
       "148.75      1\n",
       "148.83      1\n",
       "149.50      1\n",
       "150.50      1\n",
       "150.67      1\n",
       "150.83      1\n",
       "150.86      1\n",
       "151.00      1\n",
       "153.00      1\n",
       "153.73      1\n",
       "153.75      1\n",
       "154.23      1\n",
       "154.83      1\n",
       "154.86      1\n",
       "155.00      1\n",
       "156.00      2\n",
       "156.43      1\n",
       "156.50      1\n",
       "157.33      1\n",
       "157.67      1\n",
       "158.00      1\n",
       "158.60      1\n",
       "158.80      1\n",
       "159.00      2\n",
       "159.60      1\n",
       "159.90      1\n",
       "160.67      1\n",
       "160.75      1\n",
       "161.20      1\n",
       "161.44      1\n",
       "161.67      1\n",
       "161.78      1\n",
       "161.80      1\n",
       "162.00      1\n",
       "162.22      1\n",
       "162.31      1\n",
       "162.40      1\n",
       "162.50      1\n",
       "163.00      1\n",
       "163.50      1\n",
       "163.64      1\n",
       "163.67      1\n",
       "163.80      1\n",
       "164.20      1\n",
       "164.50      1\n",
       "164.86      2\n",
       "165.50      1\n",
       "165.60      1\n",
       "166.00      2\n",
       "166.43      1\n",
       "166.50      1\n",
       "166.57      1\n",
       "167.00      1\n",
       "167.80      1\n",
       "168.20      1\n",
       "168.50      1\n",
       "169.17      1\n",
       "169.43      1\n",
       "169.80      1\n",
       "170.00      2\n",
       "170.50      1\n",
       "170.67      1\n",
       "170.75      1\n",
       "170.83      1\n",
       "171.33      1\n",
       "171.50      1\n",
       "171.71      1\n",
       "171.80      1\n",
       "172.00      2\n",
       "172.14      1\n",
       "172.75      1\n",
       "172.80      1\n",
       "172.89      1\n",
       "173.50      1\n",
       "173.60      1\n",
       "174.25      1\n",
       "174.50      1\n",
       "174.57      1\n",
       "174.67      1\n",
       "175.00      1\n",
       "175.25      1\n",
       "175.29      1\n",
       "175.38      1\n",
       "175.40      1\n",
       "175.50      1\n",
       "175.60      1\n",
       "175.67      1\n",
       "175.73      1\n",
       "175.75      1\n",
       "175.89      1\n",
       "176.08      1\n",
       "176.30      1\n",
       "176.36      1\n",
       "176.62      1\n",
       "176.67      1\n",
       "176.81      1\n",
       "176.82      1\n",
       "177.00      1\n",
       "177.30      1\n",
       "177.33      2\n",
       "177.57      1\n",
       "177.67      1\n",
       "177.80      2\n",
       "177.83      1\n",
       "178.08      1\n",
       "178.30      1\n",
       "178.40      1\n",
       "178.44      1\n",
       "178.56      1\n",
       "179.25      2\n",
       "179.40      1\n",
       "179.43      1\n",
       "179.60      1\n",
       "179.67      1\n",
       "179.79      1\n",
       "179.80      1\n",
       "179.86      1\n",
       "179.89      1\n",
       "180.00      1\n",
       "180.33      1\n",
       "180.44      1\n",
       "180.45      1\n",
       "180.48      1\n",
       "180.50      1\n",
       "180.75      1\n",
       "181.62      1\n",
       "181.86      1\n",
       "182.00      1\n",
       "182.27      1\n",
       "182.33      1\n",
       "182.86      1\n",
       "182.88      1\n",
       "183.44      1\n",
       "184.00      2\n",
       "184.43      2\n",
       "185.33      1\n",
       "185.38      1\n",
       "186.00      1\n",
       "186.62      1\n",
       "187.14      1\n",
       "187.25      1\n",
       "187.42      1\n",
       "187.43      1\n",
       "188.00      2\n",
       "188.10      1\n",
       "188.17      1\n",
       "188.20      1\n",
       "188.25      1\n",
       "188.40      1\n",
       "188.44      1\n",
       "188.50      1\n",
       "188.67      1\n",
       "188.83      1\n",
       "188.89      1\n",
       "189.11      1\n",
       "189.40      1\n",
       "189.43      1\n",
       "189.63      1\n",
       "189.88      1\n",
       "190.00      2\n",
       "190.20      1\n",
       "190.40      1\n",
       "190.43      1\n",
       "190.71      1\n",
       "190.91      1\n",
       "191.00      1\n",
       "191.25      1\n",
       "191.33      1\n",
       "191.50      1\n",
       "192.00      3\n",
       "192.22      1\n",
       "192.33      1\n",
       "192.56      1\n",
       "193.00      1\n",
       "193.25      1\n",
       "193.29      1\n",
       "193.50      1\n",
       "193.67      1\n",
       "194.67      1\n",
       "195.00      2\n",
       "195.50      1\n",
       "195.78      1\n",
       "195.80      2\n",
       "196.30      1\n",
       "197.60      1\n",
       "197.88      1\n",
       "198.33      1\n",
       "198.88      1\n",
       "199.00      1\n",
       "199.86      1\n",
       "200.00      1\n",
       "200.40      1\n",
       "200.58      1\n",
       "200.75      1\n",
       "201.20      1\n",
       "201.67      1\n",
       "202.27      1\n",
       "202.33      1\n",
       "202.56      1\n",
       "202.67      1\n",
       "203.00      1\n",
       "203.50      1\n",
       "203.80      1\n",
       "204.67      1\n",
       "204.80      1\n",
       "205.00      1\n",
       "206.14      1\n",
       "206.20      1\n",
       "207.25      1\n",
       "208.00      1\n",
       "208.20      1\n",
       "208.40      1\n",
       "208.50      1\n",
       "208.86      1\n",
       "209.00      1\n",
       "209.91      1\n",
       "213.33      1\n",
       "213.67      1\n",
       "214.40      1\n",
       "215.57      1\n",
       "215.80      1\n",
       "216.33      2\n",
       "220.00      1\n",
       "220.25      1\n",
       "224.00      1\n",
       "240.00      1\n",
       "244.88      1\n",
       "248.33      1\n",
       "266.00      1\n",
       "307.00      1\n",
       "323.40      1\n",
       "487.00      1\n",
       "790.33      1\n",
       "1234.00     1\n",
       "Name: Systolic, dtype: int64"
      ]
     },
     "execution_count": 398,
     "metadata": {},
     "output_type": "execute_result"
    }
   ],
   "source": [
    "# Check for outliers\n",
    "filtered_df['Systolic'].value_counts().sort_index()"
   ]
  },
  {
   "cell_type": "code",
   "execution_count": 399,
   "id": "58d682d0",
   "metadata": {},
   "outputs": [],
   "source": [
    "# Replace erroneous values with nulls\n",
    "filtered_df['Systolic'] = (\n",
    "                                    np.where((filtered_df['Systolic'] < 70) |\n",
    "                                    (filtered_df['Systolic'] > 250), np.nan, \n",
    "                                    filtered_df['Systolic'])\n",
    "                                  )"
   ]
  },
  {
   "cell_type": "code",
   "execution_count": 400,
   "id": "12332caf",
   "metadata": {},
   "outputs": [
    {
     "data": {
      "text/plain": [
       "121.0"
      ]
     },
     "execution_count": 400,
     "metadata": {},
     "output_type": "execute_result"
    }
   ],
   "source": [
    "# Median Systolic Blood Pressure after removing outliers\n",
    "median_systolic = filtered_df['Systolic'].median(skipna=True)\n",
    "\n",
    "median_systolic"
   ]
  },
  {
   "cell_type": "code",
   "execution_count": 401,
   "id": "f35fcdf7",
   "metadata": {},
   "outputs": [],
   "source": [
    "# Replace nulls with median Systolic BP\n",
    "filtered_df['Systolic'].fillna(median_systolic, inplace=True)"
   ]
  },
  {
   "cell_type": "code",
   "execution_count": 402,
   "id": "ded707ed",
   "metadata": {},
   "outputs": [
    {
     "data": {
      "text/plain": [
       "0"
      ]
     },
     "execution_count": 402,
     "metadata": {},
     "output_type": "execute_result"
    }
   ],
   "source": [
    "# How many nulls left?\n",
    "filtered_df['Systolic'].isna().sum()"
   ]
  },
  {
   "cell_type": "code",
   "execution_count": 403,
   "id": "ee1f52f7",
   "metadata": {},
   "outputs": [
    {
     "data": {
      "text/plain": [
       "count   748.00\n",
       "mean    136.17\n",
       "std      35.14\n",
       "min      70.00\n",
       "25%     111.85\n",
       "50%     121.00\n",
       "75%     168.27\n",
       "max     248.33\n",
       "Name: Systolic, dtype: float64"
      ]
     },
     "execution_count": 403,
     "metadata": {},
     "output_type": "execute_result"
    }
   ],
   "source": [
    "# Statistics for Heart Rate column\n",
    "filtered_df['Systolic'].describe()"
   ]
  },
  {
   "cell_type": "markdown",
   "id": "0940ff84",
   "metadata": {},
   "source": [
    "#### Observations"
   ]
  },
  {
   "cell_type": "markdown",
   "id": "67ac98e2",
   "metadata": {},
   "source": [
    "* Systolic Blood Pressure range is between 70 and 250\n",
    "* Median Systolic Blood Pressue is 121\n"
   ]
  },
  {
   "cell_type": "code",
   "execution_count": 404,
   "id": "38cc684f",
   "metadata": {
    "scrolled": true
   },
   "outputs": [
    {
     "data": {
      "text/plain": [
       "<AxesSubplot:xlabel='Systolic'>"
      ]
     },
     "execution_count": 404,
     "metadata": {},
     "output_type": "execute_result"
    },
    {
     "data": {
      "image/png": "[encoded data removed]",
      "text/plain": [
       "<Figure size 432x288 with 1 Axes>"
      ]
     },
     "metadata": {
      "needs_background": "light"
     },
     "output_type": "display_data"
    }
   ],
   "source": [
    "sns.boxplot(filtered_df['Systolic'])"
   ]
  },
  {
   "cell_type": "code",
   "execution_count": null,
   "id": "db814628",
   "metadata": {},
   "outputs": [],
   "source": []
  },
  {
   "cell_type": "markdown",
   "id": "c43f9d19",
   "metadata": {},
   "source": [
    "#### Clean Diastolic Blood Pressue Column"
   ]
  },
  {
   "cell_type": "code",
   "execution_count": 405,
   "id": "100f3fef",
   "metadata": {},
   "outputs": [],
   "source": [
    "# Rename column\n",
    "filtered_df = filtered_df.rename(columns={'Diasystolic': 'Diastolic'})"
   ]
  },
  {
   "cell_type": "code",
   "execution_count": 406,
   "id": "05526443",
   "metadata": {},
   "outputs": [
    {
     "name": "stdout",
     "output_type": "stream",
     "text": [
      "The number of null values in the Diastolic Blood Pressure column: 29\n",
      "The percentage of null values in Diastolic Blood Pressure column: 3.88 %\n"
     ]
    }
   ],
   "source": [
    "# How many null values in the Diastolic Blood Pressure column?\n",
    "print(\"The number of null values in the Diastolic Blood Pressure column:\", filtered_df['Diastolic'].isna().sum())\n",
    "print(\"The percentage of null values in Diastolic Blood Pressure column:\", round(filtered_df['Diastolic'].isna().sum() / filtered_df.shape[0] * 100.0, 2),\"%\")"
   ]
  },
  {
   "cell_type": "code",
   "execution_count": 407,
   "id": "50b41ba1",
   "metadata": {},
   "outputs": [
    {
     "data": {
      "text/plain": [
       "1.50     1\n",
       "9.00     1\n",
       "10.00    2\n",
       "13.00    1\n",
       "19.33    1\n",
       "20.00    1\n",
       "26.33    1\n",
       "28.00    1\n",
       "39.00    2\n",
       "40.00    1\n",
       "41.00    1\n",
       "42.64    1\n",
       "43.50    1\n",
       "44.00    1\n",
       "44.50    1\n",
       "46.00    1\n",
       "51.00    1\n",
       "51.50    1\n",
       "52.00    1\n",
       "54.00    1\n",
       "Name: Diastolic, dtype: int64"
      ]
     },
     "execution_count": 407,
     "metadata": {},
     "output_type": "execute_result"
    }
   ],
   "source": [
    "filtered_df['Diastolic'].value_counts().sort_index().head(20)"
   ]
  },
  {
   "cell_type": "code",
   "execution_count": 408,
   "id": "f91c57cb",
   "metadata": {},
   "outputs": [
    {
     "data": {
      "text/plain": [
       "111.50     1\n",
       "114.00     2\n",
       "115.00     1\n",
       "120.00     5\n",
       "122.00     1\n",
       "127.00     1\n",
       "132.50     1\n",
       "135.00     1\n",
       "148.80     1\n",
       "150.00     1\n",
       "153.88     1\n",
       "154.33     1\n",
       "170.00     1\n",
       "195.00     1\n",
       "200.00     1\n",
       "206.00     1\n",
       "312.50     1\n",
       "350.00     1\n",
       "508.67     1\n",
       "1234.00    1\n",
       "Name: Diastolic, dtype: int64"
      ]
     },
     "execution_count": 408,
     "metadata": {},
     "output_type": "execute_result"
    }
   ],
   "source": [
    "filtered_df['Diastolic'].value_counts().sort_index().tail(20)"
   ]
  },
  {
   "cell_type": "code",
   "execution_count": 409,
   "id": "46221e84",
   "metadata": {},
   "outputs": [],
   "source": [
    "# Replace values < 50 and > 150\n",
    "filtered_df['Diastolic'] = (\n",
    "                                    np.where((filtered_df['Diastolic'] < 50) |\n",
    "                                    (filtered_df['Diastolic'] > 150), np.nan, \n",
    "                                    filtered_df['Diastolic'])\n",
    "                                  )"
   ]
  },
  {
   "cell_type": "code",
   "execution_count": 410,
   "id": "ef80c32d",
   "metadata": {},
   "outputs": [
    {
     "data": {
      "text/plain": [
       "73.0"
      ]
     },
     "execution_count": 410,
     "metadata": {},
     "output_type": "execute_result"
    }
   ],
   "source": [
    "# Median Systolic Blood Pressure after removing outliers\n",
    "median_diastolic = filtered_df['Diastolic'].median(skipna=True)\n",
    "\n",
    "median_diastolic"
   ]
  },
  {
   "cell_type": "code",
   "execution_count": 411,
   "id": "602f3a52",
   "metadata": {},
   "outputs": [
    {
     "data": {
      "text/plain": [
       "74.71564676539525"
      ]
     },
     "execution_count": 411,
     "metadata": {},
     "output_type": "execute_result"
    }
   ],
   "source": [
    "# Median Systolic Blood Pressure after removing outliers\n",
    "mean_diastolic = filtered_df['Diastolic'].mean(skipna=True)\n",
    "\n",
    "mean_diastolic"
   ]
  },
  {
   "cell_type": "code",
   "execution_count": 412,
   "id": "10ab5f76",
   "metadata": {},
   "outputs": [],
   "source": [
    "# Replace nulls with median Systolic BP\n",
    "filtered_df['Diastolic'].fillna(mean_diastolic, inplace=True)"
   ]
  },
  {
   "cell_type": "code",
   "execution_count": 413,
   "id": "6f534655",
   "metadata": {},
   "outputs": [
    {
     "data": {
      "text/plain": [
       "0"
      ]
     },
     "execution_count": 413,
     "metadata": {},
     "output_type": "execute_result"
    }
   ],
   "source": [
    "# How many nulls left?\n",
    "filtered_df['Diastolic'].isna().sum()"
   ]
  },
  {
   "cell_type": "code",
   "execution_count": 414,
   "id": "ea231ab7",
   "metadata": {},
   "outputs": [
    {
     "data": {
      "text/plain": [
       "count   748.00\n",
       "mean     74.72\n",
       "std      11.15\n",
       "min      51.00\n",
       "25%      68.00\n",
       "50%      74.00\n",
       "75%      79.00\n",
       "max     150.00\n",
       "Name: Diastolic, dtype: float64"
      ]
     },
     "execution_count": 414,
     "metadata": {},
     "output_type": "execute_result"
    }
   ],
   "source": [
    "# Statistics for Heart Rate column\n",
    "filtered_df['Diastolic'].describe()"
   ]
  },
  {
   "cell_type": "markdown",
   "id": "35a36e6f",
   "metadata": {},
   "source": [
    "#### Observations\n",
    "- Range for Diastolic Blood Pressure is 50 and 150\n",
    "- Mean Diastolic Blood Pressure is 77"
   ]
  },
  {
   "cell_type": "code",
   "execution_count": 415,
   "id": "4e45ef07",
   "metadata": {},
   "outputs": [
    {
     "data": {
      "text/plain": [
       "<AxesSubplot:xlabel='Diastolic'>"
      ]
     },
     "execution_count": 415,
     "metadata": {},
     "output_type": "execute_result"
    },
    {
     "data": {
      "image/png": "[encoded data removed]",
      "text/plain": [
       "<Figure size 432x288 with 1 Axes>"
      ]
     },
     "metadata": {
      "needs_background": "light"
     },
     "output_type": "display_data"
    }
   ],
   "source": [
    "sns.boxplot(filtered_df['Diastolic'])"
   ]
  },
  {
   "cell_type": "code",
   "execution_count": null,
   "id": "91aed934",
   "metadata": {},
   "outputs": [],
   "source": []
  },
  {
   "cell_type": "markdown",
   "id": "ad691e27",
   "metadata": {},
   "source": [
    "#### Clean Step Count Column"
   ]
  },
  {
   "cell_type": "code",
   "execution_count": 416,
   "id": "5bd74157",
   "metadata": {},
   "outputs": [
    {
     "name": "stdout",
     "output_type": "stream",
     "text": [
      "The number of null values in the Step Count column: 323\n",
      "The percentage of null values in Step Count column: 43.18 %\n"
     ]
    }
   ],
   "source": [
    "# How many null values in the Steps Count column?\n",
    "print(\"The number of null values in the Step Count column:\", filtered_df['StepCount'].isna().sum())\n",
    "print(\"The percentage of null values in Step Count column:\", round(filtered_df['StepCount'].isna().sum() / filtered_df.shape[0] * 100.0, 2),\"%\")"
   ]
  },
  {
   "cell_type": "code",
   "execution_count": 417,
   "id": "cde5330a",
   "metadata": {
    "scrolled": true
   },
   "outputs": [
    {
     "data": {
      "text/plain": [
       "5522.6338737047145"
      ]
     },
     "execution_count": 417,
     "metadata": {},
     "output_type": "execute_result"
    }
   ],
   "source": [
    "# Mean Steps after removing outliers\n",
    "mean_steps = filtered_df['StepCount'].mean(skipna=True)\n",
    "\n",
    "mean_steps"
   ]
  },
  {
   "cell_type": "code",
   "execution_count": 418,
   "id": "0dc875e0",
   "metadata": {},
   "outputs": [],
   "source": [
    "# Replace nulls with mean Step Count\n",
    "filtered_df['StepCount'].fillna(mean_steps, inplace=True)"
   ]
  },
  {
   "cell_type": "code",
   "execution_count": 419,
   "id": "3db88280",
   "metadata": {},
   "outputs": [
    {
     "data": {
      "text/plain": [
       "0"
      ]
     },
     "execution_count": 419,
     "metadata": {},
     "output_type": "execute_result"
    }
   ],
   "source": [
    "# How many nulls left?\n",
    "filtered_df['StepCount'].isna().sum()"
   ]
  },
  {
   "cell_type": "code",
   "execution_count": 420,
   "id": "6a71cc0f",
   "metadata": {},
   "outputs": [
    {
     "data": {
      "text/plain": [
       "count     748.00\n",
       "mean     5522.63\n",
       "std      2952.86\n",
       "min         0.00\n",
       "25%      5522.63\n",
       "50%      5522.63\n",
       "75%      7989.75\n",
       "max     20000.00\n",
       "Name: StepCount, dtype: float64"
      ]
     },
     "execution_count": 420,
     "metadata": {},
     "output_type": "execute_result"
    }
   ],
   "source": [
    "# Statistics for Step Count column\n",
    "filtered_df['StepCount'].describe()"
   ]
  },
  {
   "cell_type": "markdown",
   "id": "60b600f1",
   "metadata": {},
   "source": [
    "#### Observations\n",
    "* Range for Daily Steps taken is between 0 and 20000\n",
    "* Average daily steps is roughly 5500 steps"
   ]
  },
  {
   "cell_type": "code",
   "execution_count": 421,
   "id": "4a3e0f47",
   "metadata": {
    "scrolled": false
   },
   "outputs": [
    {
     "data": {
      "text/plain": [
       "<AxesSubplot:xlabel='StepCount'>"
      ]
     },
     "execution_count": 421,
     "metadata": {},
     "output_type": "execute_result"
    },
    {
     "data": {
      "image/png": "[encoded data removed]",
      "text/plain": [
       "<Figure size 432x288 with 1 Axes>"
      ]
     },
     "metadata": {
      "needs_background": "light"
     },
     "output_type": "display_data"
    }
   ],
   "source": [
    "sns.boxplot(filtered_df['StepCount'])"
   ]
  },
  {
   "cell_type": "markdown",
   "id": "505a3cdf",
   "metadata": {},
   "source": [
    "#### Clean Time in Bed Column"
   ]
  },
  {
   "cell_type": "code",
   "execution_count": 422,
   "id": "cf64211e",
   "metadata": {},
   "outputs": [
    {
     "name": "stdout",
     "output_type": "stream",
     "text": [
      "The number of null values in the Time in Bed column: 421\n",
      "The percentage of null values in Time in Bed column: 56.28 %\n"
     ]
    }
   ],
   "source": [
    "# How many null values in the Time in Bed column?\n",
    "print(\"The number of null values in the Time in Bed column:\", filtered_df['TimeInBed'].isna().sum())\n",
    "print(\"The percentage of null values in Time in Bed column:\", round(filtered_df['TimeInBed'].isna().sum() / filtered_df.shape[0] * 100.0, 2),\"%\")"
   ]
  },
  {
   "cell_type": "code",
   "execution_count": 423,
   "id": "71cd0493",
   "metadata": {
    "scrolled": false
   },
   "outputs": [
    {
     "data": {
      "text/plain": [
       "60.00     1\n",
       "90.00     1\n",
       "120.00    6\n",
       "124.29    1\n",
       "180.00    2\n",
       "Name: TimeInBed, dtype: int64"
      ]
     },
     "execution_count": 423,
     "metadata": {},
     "output_type": "execute_result"
    }
   ],
   "source": [
    "# Check for outliers\n",
    "filtered_df['TimeInBed'].value_counts(dropna=False).sort_index().head()"
   ]
  },
  {
   "cell_type": "code",
   "execution_count": 424,
   "id": "038ef320",
   "metadata": {},
   "outputs": [
    {
     "data": {
      "text/plain": [
       "960.00       1\n",
       "1020.00      1\n",
       "1080.00      1\n",
       "1200.00      3\n",
       "NaN        421\n",
       "Name: TimeInBed, dtype: int64"
      ]
     },
     "execution_count": 424,
     "metadata": {},
     "output_type": "execute_result"
    }
   ],
   "source": [
    "filtered_df['TimeInBed'].value_counts(dropna=False).sort_index().tail()"
   ]
  },
  {
   "cell_type": "code",
   "execution_count": 425,
   "id": "c238e7ef",
   "metadata": {},
   "outputs": [],
   "source": [
    "filtered_df['TimeInBed'] = (\n",
    "                                    np.where((filtered_df['TimeInBed'] < 120) |\n",
    "                                    (filtered_df['TimeInBed'] > 800), np.nan, \n",
    "                                    filtered_df['TimeInBed'])\n",
    "                                  )"
   ]
  },
  {
   "cell_type": "code",
   "execution_count": 426,
   "id": "8ba902d2",
   "metadata": {
    "scrolled": false
   },
   "outputs": [
    {
     "data": {
      "text/plain": [
       "422.57142857142856"
      ]
     },
     "execution_count": 426,
     "metadata": {},
     "output_type": "execute_result"
    }
   ],
   "source": [
    "# Median Time in Bed after removing outliers\n",
    "median_sleep = filtered_df['TimeInBed'].median(skipna=True)\n",
    "\n",
    "median_sleep"
   ]
  },
  {
   "cell_type": "code",
   "execution_count": 427,
   "id": "6b19f612",
   "metadata": {},
   "outputs": [],
   "source": [
    "# Replace nulls with median Systolic BP\n",
    "filtered_df['TimeInBed'].fillna(median_sleep, inplace=True)"
   ]
  },
  {
   "cell_type": "code",
   "execution_count": 428,
   "id": "d905d725",
   "metadata": {},
   "outputs": [
    {
     "data": {
      "text/plain": [
       "0"
      ]
     },
     "execution_count": 428,
     "metadata": {},
     "output_type": "execute_result"
    }
   ],
   "source": [
    "# How many nulls left?\n",
    "filtered_df['TimeInBed'].isna().sum()"
   ]
  },
  {
   "cell_type": "code",
   "execution_count": 429,
   "id": "31790f59",
   "metadata": {},
   "outputs": [
    {
     "data": {
      "text/plain": [
       "count   748.00\n",
       "mean    420.94\n",
       "std      54.60\n",
       "min     120.00\n",
       "25%     422.57\n",
       "50%     422.57\n",
       "75%     422.57\n",
       "max     750.00\n",
       "Name: TimeInBed, dtype: float64"
      ]
     },
     "execution_count": 429,
     "metadata": {},
     "output_type": "execute_result"
    }
   ],
   "source": [
    "# Statistics for TimeInBed Column\n",
    "filtered_df['TimeInBed'].describe()"
   ]
  },
  {
   "cell_type": "markdown",
   "id": "bc052a60",
   "metadata": {},
   "source": [
    "#### Observations\n",
    "* Range for hours slept per night is between 120 minutes and 750 minutes (2 hours to 12.5 hours)\n",
    "* Median is 422 minutes or roughly 7 hours of sleep per night"
   ]
  },
  {
   "cell_type": "code",
   "execution_count": 430,
   "id": "a90518be",
   "metadata": {
    "scrolled": true
   },
   "outputs": [
    {
     "data": {
      "text/plain": [
       "<AxesSubplot:xlabel='TimeInBed'>"
      ]
     },
     "execution_count": 430,
     "metadata": {},
     "output_type": "execute_result"
    },
    {
     "data": {
      "image/png": "[encoded data removed]",
      "text/plain": [
       "<Figure size 432x288 with 1 Axes>"
      ]
     },
     "metadata": {
      "needs_background": "light"
     },
     "output_type": "display_data"
    }
   ],
   "source": [
    "sns.boxplot(filtered_df['TimeInBed'])"
   ]
  },
  {
   "cell_type": "markdown",
   "id": "e5ebef19",
   "metadata": {},
   "source": [
    "#### Clean Respiratory Rate Column"
   ]
  },
  {
   "cell_type": "code",
   "execution_count": 431,
   "id": "4759660d",
   "metadata": {},
   "outputs": [
    {
     "name": "stdout",
     "output_type": "stream",
     "text": [
      "The number of null values in the Respiratory Rate column: 72\n",
      "The percentage of null values in Respiratory Rate column: 9.63 %\n"
     ]
    }
   ],
   "source": [
    "# How many null values in the Respiratory Rate column?\n",
    "print(\"The number of null values in the Respiratory Rate column:\", filtered_df['RespiratoryRate'].isna().sum())\n",
    "print(\"The percentage of null values in Respiratory Rate column:\", round(filtered_df['RespiratoryRate'].isna().sum() / filtered_df.shape[0] * 100.0, 2),\"%\")"
   ]
  },
  {
   "cell_type": "code",
   "execution_count": 432,
   "id": "e0162d7b",
   "metadata": {},
   "outputs": [
    {
     "data": {
      "text/plain": [
       "1.00        2\n",
       "1.50        1\n",
       "6.50        1\n",
       "7.00        2\n",
       "8.00        1\n",
       "8.25        1\n",
       "8.33        1\n",
       "8.50        2\n",
       "8.60        1\n",
       "9.00        3\n",
       "9.60        1\n",
       "9.75        1\n",
       "10.00      68\n",
       "10.20       1\n",
       "10.25       2\n",
       "10.29       1\n",
       "10.33       6\n",
       "10.36       1\n",
       "10.40       1\n",
       "10.46       1\n",
       "10.50      13\n",
       "10.62       1\n",
       "10.67       1\n",
       "10.70       1\n",
       "10.75       1\n",
       "10.80       1\n",
       "10.83       1\n",
       "11.00      63\n",
       "11.10       1\n",
       "11.17       2\n",
       "11.20       2\n",
       "11.25       3\n",
       "11.26       1\n",
       "11.29       1\n",
       "11.33       3\n",
       "11.40       3\n",
       "11.43       3\n",
       "11.46       1\n",
       "11.50      10\n",
       "11.54       1\n",
       "11.60       1\n",
       "11.62       1\n",
       "11.67       3\n",
       "11.75       5\n",
       "11.78       1\n",
       "11.80       3\n",
       "11.83       1\n",
       "11.87       1\n",
       "12.00      47\n",
       "12.11       1\n",
       "12.14       2\n",
       "12.20       1\n",
       "12.22       1\n",
       "12.23       1\n",
       "12.25       3\n",
       "12.33       4\n",
       "12.38       1\n",
       "12.40       1\n",
       "12.50       5\n",
       "12.56       1\n",
       "12.62       2\n",
       "12.67       4\n",
       "12.70       1\n",
       "12.71       1\n",
       "12.75       4\n",
       "12.78       1\n",
       "12.80       1\n",
       "12.81       1\n",
       "12.83       1\n",
       "12.86       6\n",
       "12.89       1\n",
       "13.00      29\n",
       "13.14       2\n",
       "13.17       2\n",
       "13.20       1\n",
       "13.20       1\n",
       "13.24       1\n",
       "13.25       3\n",
       "13.27       1\n",
       "13.29       3\n",
       "13.29       1\n",
       "13.30       1\n",
       "13.36       1\n",
       "13.38       1\n",
       "13.38       1\n",
       "13.40       3\n",
       "13.43       1\n",
       "13.50       4\n",
       "13.56       1\n",
       "13.60       2\n",
       "13.62       2\n",
       "13.64       1\n",
       "13.67       6\n",
       "13.70       1\n",
       "13.73       1\n",
       "13.75       1\n",
       "13.78       1\n",
       "13.88       1\n",
       "13.89       1\n",
       "14.00      32\n",
       "14.14       1\n",
       "14.18       1\n",
       "14.20       1\n",
       "14.25       5\n",
       "14.29       2\n",
       "14.33       3\n",
       "14.36       1\n",
       "14.38       1\n",
       "14.40       2\n",
       "14.42       1\n",
       "14.45       1\n",
       "14.47       1\n",
       "14.50       7\n",
       "14.53       1\n",
       "14.55       2\n",
       "14.58       1\n",
       "14.59       1\n",
       "14.67       3\n",
       "14.71       2\n",
       "14.72       1\n",
       "14.75       2\n",
       "14.78       1\n",
       "14.80       2\n",
       "14.83       2\n",
       "14.89       1\n",
       "14.90       1\n",
       "15.00      26\n",
       "15.01       1\n",
       "15.09       1\n",
       "15.10       1\n",
       "15.11       1\n",
       "15.20       3\n",
       "15.25       4\n",
       "15.27       1\n",
       "15.29       1\n",
       "15.30       1\n",
       "15.33       2\n",
       "15.38       1\n",
       "15.40       2\n",
       "15.43       3\n",
       "15.50       3\n",
       "15.60       1\n",
       "15.62       1\n",
       "15.67       1\n",
       "15.75       3\n",
       "15.80       2\n",
       "15.80       1\n",
       "15.82       1\n",
       "15.86       1\n",
       "15.88       2\n",
       "15.89       1\n",
       "16.00      16\n",
       "16.10       1\n",
       "16.14       2\n",
       "16.15       1\n",
       "16.17       2\n",
       "16.20       1\n",
       "16.22       1\n",
       "16.25       1\n",
       "16.29       1\n",
       "16.33       1\n",
       "16.38       1\n",
       "16.40       1\n",
       "16.50       3\n",
       "16.57       1\n",
       "16.60       1\n",
       "16.67       2\n",
       "16.75       1\n",
       "16.80       2\n",
       "16.82       2\n",
       "16.90       1\n",
       "17.00      12\n",
       "17.11       1\n",
       "17.12       1\n",
       "17.14       1\n",
       "17.20       2\n",
       "17.22       1\n",
       "17.33       1\n",
       "17.40       2\n",
       "17.42       1\n",
       "17.43       2\n",
       "17.50       2\n",
       "17.60       1\n",
       "17.62       1\n",
       "17.67       2\n",
       "17.75       1\n",
       "17.80       1\n",
       "17.82       1\n",
       "18.00       4\n",
       "18.12       1\n",
       "18.14       1\n",
       "18.25       1\n",
       "18.50       1\n",
       "18.75       1\n",
       "19.00       6\n",
       "19.14       1\n",
       "19.17       1\n",
       "19.25       1\n",
       "19.33       2\n",
       "19.60       1\n",
       "19.67       1\n",
       "19.80       1\n",
       "20.00       1\n",
       "20.40       1\n",
       "20.57       1\n",
       "20.67       1\n",
       "21.00       1\n",
       "21.14       1\n",
       "21.50       1\n",
       "24.25       1\n",
       "24.50       1\n",
       "25.00       1\n",
       "29.75       1\n",
       "31.64       1\n",
       "32.58       1\n",
       "34.37       1\n",
       "35.00       1\n",
       "35.33       2\n",
       "37.20       1\n",
       "39.67       1\n",
       "40.00       2\n",
       "41.50       1\n",
       "42.00       1\n",
       "42.55       1\n",
       "45.00       1\n",
       "47.65       1\n",
       "49.58       1\n",
       "50.00       1\n",
       "50.50       1\n",
       "54.00       1\n",
       "57.50       1\n",
       "60.00       4\n",
       "65.00       1\n",
       "65.75       1\n",
       "66.00       1\n",
       "68.00       1\n",
       "70.00       2\n",
       "1549.50     1\n",
       "Name: RespiratoryRate, dtype: int64"
      ]
     },
     "execution_count": 432,
     "metadata": {},
     "output_type": "execute_result"
    }
   ],
   "source": [
    "# Check for outliers\n",
    "filtered_df['RespiratoryRate'].value_counts().sort_index()"
   ]
  },
  {
   "cell_type": "code",
   "execution_count": 433,
   "id": "c1ba703f",
   "metadata": {},
   "outputs": [],
   "source": [
    "filtered_df['RespiratoryRate'] = (\n",
    "                                    np.where((filtered_df['RespiratoryRate'] < 5) |\n",
    "                                    (filtered_df['RespiratoryRate'] > 40), np.nan, \n",
    "                                    filtered_df['RespiratoryRate'])\n",
    "                                  )"
   ]
  },
  {
   "cell_type": "code",
   "execution_count": 434,
   "id": "de7ebd52",
   "metadata": {},
   "outputs": [
    {
     "data": {
      "text/plain": [
       "13.0"
      ]
     },
     "execution_count": 434,
     "metadata": {},
     "output_type": "execute_result"
    }
   ],
   "source": [
    "# Median Systolic Blood Pressure after removing outliers\n",
    "median_resp = filtered_df['RespiratoryRate'].median(skipna=True)\n",
    "\n",
    "median_resp"
   ]
  },
  {
   "cell_type": "code",
   "execution_count": 435,
   "id": "1e8cf6c9",
   "metadata": {},
   "outputs": [],
   "source": [
    "# Replace nulls with median Respiratory Rate\n",
    "filtered_df['RespiratoryRate'].fillna(median_resp, inplace=True)"
   ]
  },
  {
   "cell_type": "code",
   "execution_count": 436,
   "id": "f89093a3",
   "metadata": {},
   "outputs": [
    {
     "data": {
      "text/plain": [
       "0"
      ]
     },
     "execution_count": 436,
     "metadata": {},
     "output_type": "execute_result"
    }
   ],
   "source": [
    "# How many nulls left?\n",
    "filtered_df['RespiratoryRate'].isna().sum()"
   ]
  },
  {
   "cell_type": "code",
   "execution_count": 437,
   "id": "910a8a07",
   "metadata": {},
   "outputs": [
    {
     "data": {
      "text/plain": [
       "count   748.00\n",
       "mean     13.55\n",
       "std       3.70\n",
       "min       6.50\n",
       "25%      11.32\n",
       "50%      13.00\n",
       "75%      14.83\n",
       "max      40.00\n",
       "Name: RespiratoryRate, dtype: float64"
      ]
     },
     "execution_count": 437,
     "metadata": {},
     "output_type": "execute_result"
    }
   ],
   "source": [
    "# Statistics for Resp Rate Colum\n",
    "filtered_df['RespiratoryRate'].describe()"
   ]
  },
  {
   "cell_type": "markdown",
   "id": "4dc36099",
   "metadata": {},
   "source": [
    "#### Observations\n",
    "- Respiratory Rate range is between 6.5 and 40\n",
    "- Median is 13 breaths per minute\n"
   ]
  },
  {
   "cell_type": "code",
   "execution_count": 438,
   "id": "c54dd4e1",
   "metadata": {},
   "outputs": [
    {
     "data": {
      "text/plain": [
       "<AxesSubplot:xlabel='RespiratoryRate'>"
      ]
     },
     "execution_count": 438,
     "metadata": {},
     "output_type": "execute_result"
    },
    {
     "data": {
      "image/png": "[encoded data removed]",
      "text/plain": [
       "<Figure size 432x288 with 1 Axes>"
      ]
     },
     "metadata": {
      "needs_background": "light"
     },
     "output_type": "display_data"
    }
   ],
   "source": [
    "sns.boxplot(filtered_df['RespiratoryRate'])"
   ]
  },
  {
   "cell_type": "markdown",
   "id": "dffa5911",
   "metadata": {},
   "source": [
    "#### Clean Stress Level Column"
   ]
  },
  {
   "cell_type": "code",
   "execution_count": 439,
   "id": "d6f87c46",
   "metadata": {
    "scrolled": true
   },
   "outputs": [
    {
     "name": "stdout",
     "output_type": "stream",
     "text": [
      "The number of null values in the Stress Level column: 304\n",
      "The percentage of null values in Stress Level column: 40.64 %\n"
     ]
    }
   ],
   "source": [
    "# How many null values in the Stress Level column?\n",
    "print(\"The number of null values in the Stress Level column:\", filtered_df['StressLevel'].isna().sum())\n",
    "print(\"The percentage of null values in Stress Level column:\", round(filtered_df['StressLevel'].isna().sum() / filtered_df.shape[0] * 100.0, 2),\"%\")"
   ]
  },
  {
   "cell_type": "code",
   "execution_count": 440,
   "id": "77da80c2",
   "metadata": {},
   "outputs": [
    {
     "data": {
      "text/plain": [
       "-1.00    134\n",
       "-0.83      1\n",
       "-0.75      5\n",
       "-0.71      1\n",
       "-0.67      3\n",
       "-0.62      1\n",
       "-0.60      2\n",
       "-0.57      1\n",
       "-0.56      1\n",
       "-0.55      1\n",
       "-0.50      8\n",
       "-0.43      2\n",
       "-0.33      6\n",
       "-0.29      1\n",
       "-0.25      3\n",
       "-0.20      1\n",
       "-0.12      2\n",
       "-0.11      1\n",
       "-0.06      1\n",
       "0.00      50\n",
       "Name: StressLevel, dtype: int64"
      ]
     },
     "execution_count": 440,
     "metadata": {},
     "output_type": "execute_result"
    }
   ],
   "source": [
    "# Check for outliers\n",
    "filtered_df['StressLevel'].value_counts().sort_index().head(20)"
   ]
  },
  {
   "cell_type": "code",
   "execution_count": 441,
   "id": "08c6da8b",
   "metadata": {},
   "outputs": [
    {
     "data": {
      "text/plain": [
       "1.75      1\n",
       "2.00     37\n",
       "2.20      1\n",
       "2.50      1\n",
       "2.67      1\n",
       "3.00     18\n",
       "3.56      1\n",
       "4.00      5\n",
       "5.00      2\n",
       "NaN     304\n",
       "Name: StressLevel, dtype: int64"
      ]
     },
     "execution_count": 441,
     "metadata": {},
     "output_type": "execute_result"
    }
   ],
   "source": [
    "# Check for outliers\n",
    "filtered_df['StressLevel'].value_counts(dropna=False).sort_index().tail(10)"
   ]
  },
  {
   "cell_type": "code",
   "execution_count": 442,
   "id": "46c63554",
   "metadata": {},
   "outputs": [],
   "source": [
    "# Replace values < 0 with 0\n",
    "filtered_df['StressLevel'] = np.where(filtered_df['StressLevel'] < 0, 0, filtered_df['StressLevel'])\n",
    "\n",
    "# Replace values between 0 and 1 with 1\n",
    "filtered_df['StressLevel'] = np.where((filtered_df['StressLevel'] > 0) & (filtered_df['StressLevel'] < 1), 1, filtered_df['StressLevel'])\n",
    "\n",
    "# Replace values between 1 and 2 with 2\n",
    "filtered_df['StressLevel'] = np.where((filtered_df['StressLevel'] > 1) & (filtered_df['StressLevel'] < 2), 2, filtered_df['StressLevel'])\n",
    "\n",
    "# Replace values between 2 and 3 with 3\n",
    "filtered_df['StressLevel'] = np.where((filtered_df['StressLevel'] > 2) & (filtered_df['StressLevel'] < 3), 3, filtered_df['StressLevel'])\n",
    "\n",
    "# Replace values > 4 with 4\n",
    "filtered_df['StressLevel'] = np.where(filtered_df['StressLevel'] > 3, 4, filtered_df['StressLevel'])"
   ]
  },
  {
   "cell_type": "code",
   "execution_count": 443,
   "id": "356109f0",
   "metadata": {
    "scrolled": true
   },
   "outputs": [
    {
     "data": {
      "text/plain": [
       "0.00    225\n",
       "1.00    132\n",
       "2.00     58\n",
       "3.00     21\n",
       "4.00      8\n",
       "NaN     304\n",
       "Name: StressLevel, dtype: int64"
      ]
     },
     "execution_count": 443,
     "metadata": {},
     "output_type": "execute_result"
    }
   ],
   "source": [
    "# Check value counts\n",
    "filtered_df['StressLevel'].value_counts(dropna=False).sort_index()"
   ]
  },
  {
   "cell_type": "code",
   "execution_count": 444,
   "id": "619bbaa3",
   "metadata": {},
   "outputs": [],
   "source": [
    "# Replace nulls with 0\n",
    "filtered_df['StressLevel'].fillna(0, inplace=True)"
   ]
  },
  {
   "cell_type": "code",
   "execution_count": 445,
   "id": "a11a1ad1",
   "metadata": {},
   "outputs": [
    {
     "data": {
      "text/plain": [
       "0"
      ]
     },
     "execution_count": 445,
     "metadata": {},
     "output_type": "execute_result"
    }
   ],
   "source": [
    "# How many nulls left?\n",
    "filtered_df['StressLevel'].isna().sum()"
   ]
  },
  {
   "cell_type": "code",
   "execution_count": 446,
   "id": "da464f92",
   "metadata": {},
   "outputs": [
    {
     "data": {
      "text/plain": [
       "0.00    529\n",
       "1.00    132\n",
       "2.00     58\n",
       "3.00     21\n",
       "4.00      8\n",
       "Name: StressLevel, dtype: int64"
      ]
     },
     "execution_count": 446,
     "metadata": {},
     "output_type": "execute_result"
    }
   ],
   "source": [
    "# How many of each value of stress in the stress level column?\n",
    "filtered_df['StressLevel'].value_counts(dropna=False).sort_index()"
   ]
  },
  {
   "cell_type": "code",
   "execution_count": 447,
   "id": "ac221413",
   "metadata": {},
   "outputs": [
    {
     "data": {
      "text/plain": [
       "0.00   0.71\n",
       "1.00   0.18\n",
       "2.00   0.08\n",
       "3.00   0.03\n",
       "4.00   0.01\n",
       "Name: StressLevel, dtype: float64"
      ]
     },
     "execution_count": 447,
     "metadata": {},
     "output_type": "execute_result"
    }
   ],
   "source": [
    "filtered_df['StressLevel'].value_counts(normalize=True).sort_index()"
   ]
  },
  {
   "cell_type": "code",
   "execution_count": 448,
   "id": "4fabca19",
   "metadata": {},
   "outputs": [
    {
     "data": {
      "image/png": "[encoded data removed]",
      "text/plain": [
       "<Figure size 432x288 with 1 Axes>"
      ]
     },
     "metadata": {
      "needs_background": "light"
     },
     "output_type": "display_data"
    }
   ],
   "source": [
    "filtered_df['StressLevel'].value_counts().plot(kind='bar')\n",
    "plt.show()"
   ]
  },
  {
   "cell_type": "markdown",
   "id": "18555bf9",
   "metadata": {},
   "source": [
    "#### Observations\n",
    "- 70 percent of patients reported no stress (0)\n",
    "- 18 percent reported litte stress (1)\n",
    "- 8 percent reported medium stress (2)\n",
    "- 3 percent reported high stress (3)\n",
    "- 1 percent reported very high stress (4)"
   ]
  },
  {
   "cell_type": "code",
   "execution_count": null,
   "id": "4792c372",
   "metadata": {},
   "outputs": [],
   "source": []
  },
  {
   "cell_type": "markdown",
   "id": "1c494b87",
   "metadata": {},
   "source": [
    "#### Clean Fall Accur Column"
   ]
  },
  {
   "cell_type": "code",
   "execution_count": 449,
   "id": "e1d20aa1",
   "metadata": {},
   "outputs": [
    {
     "name": "stdout",
     "output_type": "stream",
     "text": [
      "The number of null values in the Fall Accur column: 547\n",
      "The percentage of null values in Fall Accur column: 73.13 %\n"
     ]
    }
   ],
   "source": [
    "# How many null values in the Fall Accur column?\n",
    "print(\"The number of null values in the Fall Accur column:\", filtered_df['FallAccur'].isna().sum())\n",
    "print(\"The percentage of null values in Fall Accur column:\", round(filtered_df['FallAccur'].isna().sum() / filtered_df.shape[0] * 100.0, 2),\"%\")"
   ]
  },
  {
   "cell_type": "code",
   "execution_count": 450,
   "id": "914f3e2c",
   "metadata": {},
   "outputs": [
    {
     "data": {
      "text/plain": [
       "1.00    201\n",
       "NaN     547\n",
       "Name: FallAccur, dtype: int64"
      ]
     },
     "execution_count": 450,
     "metadata": {},
     "output_type": "execute_result"
    }
   ],
   "source": [
    "filtered_df['FallAccur'].value_counts(dropna=False).sort_index()"
   ]
  },
  {
   "cell_type": "code",
   "execution_count": 451,
   "id": "4afc49c8",
   "metadata": {},
   "outputs": [],
   "source": [
    "filtered_df['FallAccur'].fillna(0, inplace=True)"
   ]
  },
  {
   "cell_type": "code",
   "execution_count": 452,
   "id": "ef72643f",
   "metadata": {
    "scrolled": true
   },
   "outputs": [
    {
     "data": {
      "text/plain": [
       "0"
      ]
     },
     "execution_count": 452,
     "metadata": {},
     "output_type": "execute_result"
    }
   ],
   "source": [
    "filtered_df['FallAccur'].isna().sum()"
   ]
  },
  {
   "cell_type": "code",
   "execution_count": 453,
   "id": "f8d62013",
   "metadata": {
    "scrolled": true
   },
   "outputs": [
    {
     "data": {
      "text/plain": [
       "0.00    547\n",
       "1.00    201\n",
       "Name: FallAccur, dtype: int64"
      ]
     },
     "execution_count": 453,
     "metadata": {},
     "output_type": "execute_result"
    }
   ],
   "source": [
    "filtered_df['FallAccur'].value_counts(dropna=False).sort_index()"
   ]
  },
  {
   "cell_type": "code",
   "execution_count": 454,
   "id": "dc1273c5",
   "metadata": {},
   "outputs": [
    {
     "data": {
      "text/plain": [
       "0.00   0.73\n",
       "1.00   0.27\n",
       "Name: FallAccur, dtype: float64"
      ]
     },
     "execution_count": 454,
     "metadata": {},
     "output_type": "execute_result"
    }
   ],
   "source": [
    "filtered_df['FallAccur'].value_counts(normalize=True).sort_index()"
   ]
  },
  {
   "cell_type": "code",
   "execution_count": 455,
   "id": "34d1cc20",
   "metadata": {},
   "outputs": [
    {
     "data": {
      "image/png": "[encoded data removed]",
      "text/plain": [
       "<Figure size 432x288 with 1 Axes>"
      ]
     },
     "metadata": {
      "needs_background": "light"
     },
     "output_type": "display_data"
    }
   ],
   "source": [
    "filtered_df['FallAccur'].value_counts().plot(kind='bar')\n",
    "plt.show()"
   ]
  },
  {
   "cell_type": "markdown",
   "id": "f2de19bc",
   "metadata": {},
   "source": [
    "#### Observations\n",
    "- 201 patients had at least 1 fall\n",
    "- 547 patients had 0 falls"
   ]
  },
  {
   "cell_type": "code",
   "execution_count": null,
   "id": "76d4b65d",
   "metadata": {},
   "outputs": [],
   "source": []
  },
  {
   "cell_type": "markdown",
   "id": "9e7f113e",
   "metadata": {},
   "source": [
    "#### Clean Gender Column"
   ]
  },
  {
   "cell_type": "code",
   "execution_count": 456,
   "id": "16470714",
   "metadata": {},
   "outputs": [
    {
     "name": "stdout",
     "output_type": "stream",
     "text": [
      "The number of null values in the Gender column: 248\n",
      "The percentage of null values in Gender column: 33.16 %\n"
     ]
    }
   ],
   "source": [
    "# How many null values in the Gender column?\n",
    "print(\"The number of null values in the Gender column:\", filtered_df['Gender'].isna().sum())\n",
    "print(\"The percentage of null values in Gender column:\", round(filtered_df['Gender'].isna().sum() / filtered_df.shape[0] * 100.0, 2),\"%\")"
   ]
  },
  {
   "cell_type": "code",
   "execution_count": 457,
   "id": "8f0cd948",
   "metadata": {},
   "outputs": [
    {
     "data": {
      "text/plain": [
       "Female     74\n",
       "Gender      1\n",
       "Male      118\n",
       "Other     295\n",
       "female      6\n",
       "male        6\n",
       "NaN       248\n",
       "Name: Gender, dtype: int64"
      ]
     },
     "execution_count": 457,
     "metadata": {},
     "output_type": "execute_result"
    }
   ],
   "source": [
    "filtered_df['Gender'].value_counts(dropna=False).sort_index()"
   ]
  },
  {
   "cell_type": "code",
   "execution_count": 458,
   "id": "28a4ae74",
   "metadata": {},
   "outputs": [],
   "source": [
    "filtered_df['Gender'] = filtered_df['Gender'].replace({'female': 'Female', 'male': 'Male', 'Gender': 'Other'})"
   ]
  },
  {
   "cell_type": "code",
   "execution_count": 459,
   "id": "6b76bd8b",
   "metadata": {},
   "outputs": [],
   "source": [
    "filtered_df['Gender'] = filtered_df['Gender'].fillna('Other')"
   ]
  },
  {
   "cell_type": "code",
   "execution_count": 460,
   "id": "b44c39f6",
   "metadata": {
    "scrolled": true
   },
   "outputs": [
    {
     "data": {
      "text/plain": [
       "Female     80\n",
       "Male      124\n",
       "Other     544\n",
       "Name: Gender, dtype: int64"
      ]
     },
     "execution_count": 460,
     "metadata": {},
     "output_type": "execute_result"
    }
   ],
   "source": [
    "filtered_df['Gender'].value_counts(dropna=False).sort_index()"
   ]
  },
  {
   "cell_type": "code",
   "execution_count": 461,
   "id": "1126a2d6",
   "metadata": {},
   "outputs": [
    {
     "data": {
      "text/plain": [
       "Female   0.11\n",
       "Male     0.17\n",
       "Other    0.73\n",
       "Name: Gender, dtype: float64"
      ]
     },
     "execution_count": 461,
     "metadata": {},
     "output_type": "execute_result"
    }
   ],
   "source": [
    "filtered_df['Gender'].value_counts(normalize=True).sort_index()"
   ]
  },
  {
   "cell_type": "code",
   "execution_count": 462,
   "id": "1f1fda9f",
   "metadata": {},
   "outputs": [
    {
     "data": {
      "image/png": "[encoded data removed]",
      "text/plain": [
       "<Figure size 432x288 with 1 Axes>"
      ]
     },
     "metadata": {
      "needs_background": "light"
     },
     "output_type": "display_data"
    }
   ],
   "source": [
    "filtered_df['Gender'].value_counts().plot(kind='bar')\n",
    "plt.show()"
   ]
  },
  {
   "cell_type": "markdown",
   "id": "3d857467",
   "metadata": {},
   "source": [
    "#### Observations\n",
    "- 80 Female Patients\n",
    "- 124 Male Patients\n",
    "- 544 Other"
   ]
  },
  {
   "cell_type": "code",
   "execution_count": null,
   "id": "ad715e4b",
   "metadata": {},
   "outputs": [],
   "source": []
  },
  {
   "cell_type": "markdown",
   "id": "a9ac6f74",
   "metadata": {},
   "source": [
    "#### Clean Diseases Column"
   ]
  },
  {
   "cell_type": "code",
   "execution_count": 463,
   "id": "346ef496",
   "metadata": {},
   "outputs": [
    {
     "name": "stdout",
     "output_type": "stream",
     "text": [
      "The number of null values in the Diseases column: 689\n",
      "The percentage of null values in Diseases column: 92.11 %\n"
     ]
    }
   ],
   "source": [
    "# How many null values in the Fall Accur column?\n",
    "print(\"The number of null values in the Diseases column:\", filtered_df['Diseases'].isna().sum())\n",
    "print(\"The percentage of null values in Diseases column:\", round(filtered_df['Diseases'].isna().sum() / filtered_df.shape[0] * 100.0, 2),\"%\")"
   ]
  },
  {
   "cell_type": "code",
   "execution_count": 464,
   "id": "f88494d2",
   "metadata": {
    "scrolled": true
   },
   "outputs": [
    {
     "data": {
      "text/html": [
       "<div>\n",
       "<style scoped>\n",
       "    .dataframe tbody tr th:only-of-type {\n",
       "        vertical-align: middle;\n",
       "    }\n",
       "\n",
       "    .dataframe tbody tr th {\n",
       "        vertical-align: top;\n",
       "    }\n",
       "\n",
       "    .dataframe thead th {\n",
       "        text-align: right;\n",
       "    }\n",
       "</style>\n",
       "<table border=\"1\" class=\"dataframe\">\n",
       "  <thead>\n",
       "    <tr style=\"text-align: right;\">\n",
       "      <th></th>\n",
       "      <th>Diseases</th>\n",
       "    </tr>\n",
       "  </thead>\n",
       "  <tbody>\n",
       "    <tr>\n",
       "      <th>Angina</th>\n",
       "      <td>3</td>\n",
       "    </tr>\n",
       "    <tr>\n",
       "      <th>Angina, Hypertension, Multiple sclerosis (MS)</th>\n",
       "      <td>1</td>\n",
       "    </tr>\n",
       "    <tr>\n",
       "      <th>Arthritis</th>\n",
       "      <td>2</td>\n",
       "    </tr>\n",
       "    <tr>\n",
       "      <th>Bipolar disorder</th>\n",
       "      <td>1</td>\n",
       "    </tr>\n",
       "    <tr>\n",
       "      <th>Bipolar disorder, Arthritis</th>\n",
       "      <td>1</td>\n",
       "    </tr>\n",
       "    <tr>\n",
       "      <th>Bipolar disorder, Asthma</th>\n",
       "      <td>1</td>\n",
       "    </tr>\n",
       "    <tr>\n",
       "      <th>Bronchitis</th>\n",
       "      <td>5</td>\n",
       "    </tr>\n",
       "    <tr>\n",
       "      <th>Bronchitis, Angina</th>\n",
       "      <td>1</td>\n",
       "    </tr>\n",
       "    <tr>\n",
       "      <th>Bronchitis, Arthritis</th>\n",
       "      <td>1</td>\n",
       "    </tr>\n",
       "    <tr>\n",
       "      <th>Bronchitis, Bipolar disorder</th>\n",
       "      <td>4</td>\n",
       "    </tr>\n",
       "    <tr>\n",
       "      <th>Bronchitis, Campylobacter Infection., Angina, Bipolar disorder, Arthritis, Asthma, Cancer, Cardiovascular disease</th>\n",
       "      <td>1</td>\n",
       "    </tr>\n",
       "    <tr>\n",
       "      <th>Bronchitis, Campylobacter Infection., Bipolar disorder</th>\n",
       "      <td>2</td>\n",
       "    </tr>\n",
       "    <tr>\n",
       "      <th>Bronchitis, Campylobacter Infection., Cancer</th>\n",
       "      <td>1</td>\n",
       "    </tr>\n",
       "    <tr>\n",
       "      <th>Bronchitis, Campylobacter Infection., Cardiovascular disease</th>\n",
       "      <td>1</td>\n",
       "    </tr>\n",
       "    <tr>\n",
       "      <th>Campylobacter Infection.</th>\n",
       "      <td>4</td>\n",
       "    </tr>\n",
       "    <tr>\n",
       "      <th>Campylobacter Infection., Angina</th>\n",
       "      <td>2</td>\n",
       "    </tr>\n",
       "    <tr>\n",
       "      <th>Campylobacter Infection., Angina, Bipolar disorder</th>\n",
       "      <td>2</td>\n",
       "    </tr>\n",
       "    <tr>\n",
       "      <th>Campylobacter Infection., Bipolar disorder</th>\n",
       "      <td>1</td>\n",
       "    </tr>\n",
       "    <tr>\n",
       "      <th>Cancer</th>\n",
       "      <td>2</td>\n",
       "    </tr>\n",
       "    <tr>\n",
       "      <th>Cardiovascular disease</th>\n",
       "      <td>1</td>\n",
       "    </tr>\n",
       "    <tr>\n",
       "      <th>Dementia, Depression, Diabetes</th>\n",
       "      <td>1</td>\n",
       "    </tr>\n",
       "    <tr>\n",
       "      <th>Depression, Diabetes</th>\n",
       "      <td>1</td>\n",
       "    </tr>\n",
       "    <tr>\n",
       "      <th>Diabetes</th>\n",
       "      <td>2</td>\n",
       "    </tr>\n",
       "    <tr>\n",
       "      <th>ENT</th>\n",
       "      <td>1</td>\n",
       "    </tr>\n",
       "    <tr>\n",
       "      <th>Hypertension</th>\n",
       "      <td>3</td>\n",
       "    </tr>\n",
       "    <tr>\n",
       "      <th>Influenza (Flu)</th>\n",
       "      <td>1</td>\n",
       "    </tr>\n",
       "    <tr>\n",
       "      <th>Mental Health</th>\n",
       "      <td>1</td>\n",
       "    </tr>\n",
       "    <tr>\n",
       "      <th>Stomach Aches</th>\n",
       "      <td>2</td>\n",
       "    </tr>\n",
       "    <tr>\n",
       "      <th>Stomach Aches, UTIs</th>\n",
       "      <td>3</td>\n",
       "    </tr>\n",
       "    <tr>\n",
       "      <th>Stomach Aches, UTIs, Dementia, Influenza (Flu), Bronchitis, Hillociantion</th>\n",
       "      <td>1</td>\n",
       "    </tr>\n",
       "    <tr>\n",
       "      <th>Swine flu., Angina, Arthritis, Asthma</th>\n",
       "      <td>1</td>\n",
       "    </tr>\n",
       "    <tr>\n",
       "      <th>Tetanus</th>\n",
       "      <td>1</td>\n",
       "    </tr>\n",
       "    <tr>\n",
       "      <th>Tightfight, Swine flu., Measles.</th>\n",
       "      <td>1</td>\n",
       "    </tr>\n",
       "    <tr>\n",
       "      <th>UTIs</th>\n",
       "      <td>1</td>\n",
       "    </tr>\n",
       "    <tr>\n",
       "      <th>UTIs, Angina, Bipolar disorder, Arthritis, Asthma, Chronic obstructive pulmonary disease (COPD)</th>\n",
       "      <td>1</td>\n",
       "    </tr>\n",
       "    <tr>\n",
       "      <th>Whooping Cough</th>\n",
       "      <td>1</td>\n",
       "    </tr>\n",
       "    <tr>\n",
       "      <th>NaN</th>\n",
       "      <td>689</td>\n",
       "    </tr>\n",
       "  </tbody>\n",
       "</table>\n",
       "</div>"
      ],
      "text/plain": [
       "                                                    Diseases\n",
       "Angina                                                     3\n",
       "Angina, Hypertension, Multiple sclerosis (MS)              1\n",
       "Arthritis                                                  2\n",
       "Bipolar disorder                                           1\n",
       "Bipolar disorder, Arthritis                                1\n",
       "Bipolar disorder, Asthma                                   1\n",
       "Bronchitis                                                 5\n",
       "Bronchitis, Angina                                         1\n",
       "Bronchitis, Arthritis                                      1\n",
       "Bronchitis, Bipolar disorder                               4\n",
       "Bronchitis, Campylobacter Infection., Angina, B...         1\n",
       "Bronchitis, Campylobacter Infection., Bipolar d...         2\n",
       "Bronchitis, Campylobacter Infection., Cancer               1\n",
       "Bronchitis, Campylobacter Infection., Cardiovas...         1\n",
       "Campylobacter Infection.                                   4\n",
       "Campylobacter Infection., Angina                           2\n",
       "Campylobacter Infection., Angina, Bipolar disorder         2\n",
       "Campylobacter Infection., Bipolar disorder                 1\n",
       "Cancer                                                     2\n",
       "Cardiovascular disease                                     1\n",
       "Dementia, Depression, Diabetes                             1\n",
       "Depression, Diabetes                                       1\n",
       "Diabetes                                                   2\n",
       "ENT                                                        1\n",
       "Hypertension                                               3\n",
       "Influenza (Flu)                                            1\n",
       "Mental Health                                              1\n",
       "Stomach Aches                                              2\n",
       "Stomach Aches, UTIs                                        3\n",
       "Stomach Aches, UTIs, Dementia, Influenza (Flu),...         1\n",
       "Swine flu., Angina, Arthritis, Asthma                      1\n",
       "Tetanus                                                    1\n",
       "Tightfight, Swine flu., Measles.                           1\n",
       "UTIs                                                       1\n",
       "UTIs, Angina, Bipolar disorder, Arthritis, Asth...         1\n",
       "Whooping Cough                                             1\n",
       "NaN                                                      689"
      ]
     },
     "execution_count": 464,
     "metadata": {},
     "output_type": "execute_result"
    }
   ],
   "source": [
    "filtered_df['Diseases'].value_counts(dropna=False).sort_index().to_frame()"
   ]
  },
  {
   "cell_type": "code",
   "execution_count": 465,
   "id": "04c43db8",
   "metadata": {},
   "outputs": [],
   "source": [
    "filtered_df['Diseases'] = filtered_df['Diseases'].notna().astype(int)"
   ]
  },
  {
   "cell_type": "code",
   "execution_count": 466,
   "id": "b15e374d",
   "metadata": {
    "scrolled": true
   },
   "outputs": [
    {
     "data": {
      "text/plain": [
       "0    689\n",
       "1     59\n",
       "Name: Diseases, dtype: int64"
      ]
     },
     "execution_count": 466,
     "metadata": {},
     "output_type": "execute_result"
    }
   ],
   "source": [
    "filtered_df['Diseases'].value_counts(dropna=False).sort_index()"
   ]
  },
  {
   "cell_type": "code",
   "execution_count": 467,
   "id": "93a4f1a6",
   "metadata": {},
   "outputs": [
    {
     "data": {
      "text/plain": [
       "0   0.92\n",
       "1   0.08\n",
       "Name: Diseases, dtype: float64"
      ]
     },
     "execution_count": 467,
     "metadata": {},
     "output_type": "execute_result"
    }
   ],
   "source": [
    "filtered_df['Diseases'].value_counts(normalize=True).sort_index()"
   ]
  },
  {
   "cell_type": "code",
   "execution_count": 468,
   "id": "3455958c",
   "metadata": {},
   "outputs": [
    {
     "data": {
      "image/png": "[encoded data removed]",
      "text/plain": [
       "<Figure size 432x288 with 1 Axes>"
      ]
     },
     "metadata": {
      "needs_background": "light"
     },
     "output_type": "display_data"
    }
   ],
   "source": [
    "filtered_df['Diseases'].value_counts().plot(kind='bar')\n",
    "plt.show()"
   ]
  },
  {
   "cell_type": "markdown",
   "id": "db97f429",
   "metadata": {},
   "source": [
    "#### Observations\n",
    "- 689 patients did not report any diseases\n",
    "- 59 patients reported at least 1 disease"
   ]
  },
  {
   "cell_type": "code",
   "execution_count": null,
   "id": "47c17aa6",
   "metadata": {},
   "outputs": [],
   "source": []
  },
  {
   "cell_type": "markdown",
   "id": "55e7664b",
   "metadata": {},
   "source": [
    "#### Summary of Cleaned Dataframe"
   ]
  },
  {
   "cell_type": "code",
   "execution_count": 469,
   "id": "63e308ad",
   "metadata": {
    "scrolled": true
   },
   "outputs": [
    {
     "data": {
      "text/html": [
       "<div>\n",
       "<style scoped>\n",
       "    .dataframe tbody tr th:only-of-type {\n",
       "        vertical-align: middle;\n",
       "    }\n",
       "\n",
       "    .dataframe tbody tr th {\n",
       "        vertical-align: top;\n",
       "    }\n",
       "\n",
       "    .dataframe thead th {\n",
       "        text-align: right;\n",
       "    }\n",
       "</style>\n",
       "<table border=\"1\" class=\"dataframe\">\n",
       "  <thead>\n",
       "    <tr style=\"text-align: right;\">\n",
       "      <th></th>\n",
       "      <th>PatientId</th>\n",
       "      <th>Age</th>\n",
       "      <th>Weight</th>\n",
       "      <th>BodyTemperature</th>\n",
       "      <th>OxygenLevel</th>\n",
       "      <th>BloodSugar</th>\n",
       "      <th>HRV</th>\n",
       "      <th>HeartRate</th>\n",
       "      <th>Systolic</th>\n",
       "      <th>Diastolic</th>\n",
       "      <th>StepCount</th>\n",
       "      <th>TimeInBed</th>\n",
       "      <th>RespiratoryRate</th>\n",
       "      <th>StressLevel</th>\n",
       "      <th>FallAccur</th>\n",
       "      <th>BMI</th>\n",
       "      <th>Gender</th>\n",
       "      <th>Diseases</th>\n",
       "    </tr>\n",
       "  </thead>\n",
       "  <tbody>\n",
       "    <tr>\n",
       "      <th>11</th>\n",
       "      <td>49</td>\n",
       "      <td>36.00</td>\n",
       "      <td>83.00</td>\n",
       "      <td>37.00</td>\n",
       "      <td>97.50</td>\n",
       "      <td>NaN</td>\n",
       "      <td>85.00</td>\n",
       "      <td>76.50</td>\n",
       "      <td>109.50</td>\n",
       "      <td>69.50</td>\n",
       "      <td>5522.63</td>\n",
       "      <td>422.57</td>\n",
       "      <td>13.00</td>\n",
       "      <td>0.00</td>\n",
       "      <td>0.00</td>\n",
       "      <td>NaN</td>\n",
       "      <td>Other</td>\n",
       "      <td>0</td>\n",
       "    </tr>\n",
       "    <tr>\n",
       "      <th>23</th>\n",
       "      <td>134</td>\n",
       "      <td>36.00</td>\n",
       "      <td>83.00</td>\n",
       "      <td>37.00</td>\n",
       "      <td>95.67</td>\n",
       "      <td>8.00</td>\n",
       "      <td>113.20</td>\n",
       "      <td>76.94</td>\n",
       "      <td>100.00</td>\n",
       "      <td>100.00</td>\n",
       "      <td>143.06</td>\n",
       "      <td>391.07</td>\n",
       "      <td>13.67</td>\n",
       "      <td>2.00</td>\n",
       "      <td>1.00</td>\n",
       "      <td>NaN</td>\n",
       "      <td>Male</td>\n",
       "      <td>0</td>\n",
       "    </tr>\n",
       "    <tr>\n",
       "      <th>25</th>\n",
       "      <td>136</td>\n",
       "      <td>90.00</td>\n",
       "      <td>113.38</td>\n",
       "      <td>37.00</td>\n",
       "      <td>96.16</td>\n",
       "      <td>8.08</td>\n",
       "      <td>51.59</td>\n",
       "      <td>84.36</td>\n",
       "      <td>121.61</td>\n",
       "      <td>73.25</td>\n",
       "      <td>4292.04</td>\n",
       "      <td>627.69</td>\n",
       "      <td>15.01</td>\n",
       "      <td>1.00</td>\n",
       "      <td>1.00</td>\n",
       "      <td>11.38</td>\n",
       "      <td>Male</td>\n",
       "      <td>1</td>\n",
       "    </tr>\n",
       "    <tr>\n",
       "      <th>27</th>\n",
       "      <td>140</td>\n",
       "      <td>63.00</td>\n",
       "      <td>90.00</td>\n",
       "      <td>37.00</td>\n",
       "      <td>96.56</td>\n",
       "      <td>NaN</td>\n",
       "      <td>70.14</td>\n",
       "      <td>70.60</td>\n",
       "      <td>118.22</td>\n",
       "      <td>73.56</td>\n",
       "      <td>1508.00</td>\n",
       "      <td>422.57</td>\n",
       "      <td>12.89</td>\n",
       "      <td>0.00</td>\n",
       "      <td>0.00</td>\n",
       "      <td>NaN</td>\n",
       "      <td>Other</td>\n",
       "      <td>0</td>\n",
       "    </tr>\n",
       "    <tr>\n",
       "      <th>37</th>\n",
       "      <td>162</td>\n",
       "      <td>36.00</td>\n",
       "      <td>83.00</td>\n",
       "      <td>37.00</td>\n",
       "      <td>97.00</td>\n",
       "      <td>1233.00</td>\n",
       "      <td>1234.00</td>\n",
       "      <td>79.33</td>\n",
       "      <td>121.00</td>\n",
       "      <td>74.72</td>\n",
       "      <td>1234.00</td>\n",
       "      <td>690.00</td>\n",
       "      <td>13.00</td>\n",
       "      <td>0.00</td>\n",
       "      <td>1.00</td>\n",
       "      <td>NaN</td>\n",
       "      <td>Other</td>\n",
       "      <td>0</td>\n",
       "    </tr>\n",
       "  </tbody>\n",
       "</table>\n",
       "</div>"
      ],
      "text/plain": [
       "    PatientId   Age  Weight  BodyTemperature  OxygenLevel  BloodSugar     HRV  \\\n",
       "11         49 36.00   83.00            37.00        97.50         NaN   85.00   \n",
       "23        134 36.00   83.00            37.00        95.67        8.00  113.20   \n",
       "25        136 90.00  113.38            37.00        96.16        8.08   51.59   \n",
       "27        140 63.00   90.00            37.00        96.56         NaN   70.14   \n",
       "37        162 36.00   83.00            37.00        97.00     1233.00 1234.00   \n",
       "\n",
       "    HeartRate  Systolic  Diastolic  StepCount  TimeInBed  RespiratoryRate  \\\n",
       "11      76.50    109.50      69.50    5522.63     422.57            13.00   \n",
       "23      76.94    100.00     100.00     143.06     391.07            13.67   \n",
       "25      84.36    121.61      73.25    4292.04     627.69            15.01   \n",
       "27      70.60    118.22      73.56    1508.00     422.57            12.89   \n",
       "37      79.33    121.00      74.72    1234.00     690.00            13.00   \n",
       "\n",
       "    StressLevel  FallAccur   BMI Gender  Diseases  \n",
       "11         0.00       0.00   NaN  Other         0  \n",
       "23         2.00       1.00   NaN   Male         0  \n",
       "25         1.00       1.00 11.38   Male         1  \n",
       "27         0.00       0.00   NaN  Other         0  \n",
       "37         0.00       1.00   NaN  Other         0  "
      ]
     },
     "execution_count": 469,
     "metadata": {},
     "output_type": "execute_result"
    }
   ],
   "source": [
    "filtered_df.head()"
   ]
  },
  {
   "cell_type": "code",
   "execution_count": 470,
   "id": "7697e188",
   "metadata": {},
   "outputs": [
    {
     "data": {
      "text/plain": [
       "(748, 18)"
      ]
     },
     "execution_count": 470,
     "metadata": {},
     "output_type": "execute_result"
    }
   ],
   "source": [
    "filtered_df.shape"
   ]
  },
  {
   "cell_type": "code",
   "execution_count": 471,
   "id": "995cccf9",
   "metadata": {},
   "outputs": [
    {
     "data": {
      "text/plain": [
       "PatientId            0\n",
       "Age                  0\n",
       "Weight               0\n",
       "BodyTemperature      0\n",
       "OxygenLevel          0\n",
       "BloodSugar         425\n",
       "HRV                 16\n",
       "HeartRate            0\n",
       "Systolic             0\n",
       "Diastolic            0\n",
       "StepCount            0\n",
       "TimeInBed            0\n",
       "RespiratoryRate      0\n",
       "StressLevel          0\n",
       "FallAccur            0\n",
       "BMI                479\n",
       "Gender               0\n",
       "Diseases             0\n",
       "dtype: int64"
      ]
     },
     "execution_count": 471,
     "metadata": {},
     "output_type": "execute_result"
    }
   ],
   "source": [
    "filtered_df.isna().sum()"
   ]
  },
  {
   "cell_type": "code",
   "execution_count": 472,
   "id": "14dd0c92",
   "metadata": {},
   "outputs": [
    {
     "data": {
      "text/html": [
       "<div>\n",
       "<style scoped>\n",
       "    .dataframe tbody tr th:only-of-type {\n",
       "        vertical-align: middle;\n",
       "    }\n",
       "\n",
       "    .dataframe tbody tr th {\n",
       "        vertical-align: top;\n",
       "    }\n",
       "\n",
       "    .dataframe thead th {\n",
       "        text-align: right;\n",
       "    }\n",
       "</style>\n",
       "<table border=\"1\" class=\"dataframe\">\n",
       "  <thead>\n",
       "    <tr style=\"text-align: right;\">\n",
       "      <th></th>\n",
       "      <th>PatientId</th>\n",
       "      <th>Age</th>\n",
       "      <th>Weight</th>\n",
       "      <th>BodyTemperature</th>\n",
       "      <th>OxygenLevel</th>\n",
       "      <th>BloodSugar</th>\n",
       "      <th>HRV</th>\n",
       "      <th>HeartRate</th>\n",
       "      <th>Systolic</th>\n",
       "      <th>Diastolic</th>\n",
       "      <th>StepCount</th>\n",
       "      <th>TimeInBed</th>\n",
       "      <th>RespiratoryRate</th>\n",
       "      <th>StressLevel</th>\n",
       "      <th>FallAccur</th>\n",
       "      <th>BMI</th>\n",
       "      <th>Diseases</th>\n",
       "    </tr>\n",
       "  </thead>\n",
       "  <tbody>\n",
       "    <tr>\n",
       "      <th>count</th>\n",
       "      <td>748.00</td>\n",
       "      <td>748.00</td>\n",
       "      <td>748.00</td>\n",
       "      <td>748.00</td>\n",
       "      <td>748.00</td>\n",
       "      <td>323.00</td>\n",
       "      <td>732.00</td>\n",
       "      <td>748.00</td>\n",
       "      <td>748.00</td>\n",
       "      <td>748.00</td>\n",
       "      <td>748.00</td>\n",
       "      <td>748.00</td>\n",
       "      <td>748.00</td>\n",
       "      <td>748.00</td>\n",
       "      <td>748.00</td>\n",
       "      <td>269.00</td>\n",
       "      <td>748.00</td>\n",
       "    </tr>\n",
       "    <tr>\n",
       "      <th>mean</th>\n",
       "      <td>4036.46</td>\n",
       "      <td>36.02</td>\n",
       "      <td>85.52</td>\n",
       "      <td>37.36</td>\n",
       "      <td>97.49</td>\n",
       "      <td>117.05</td>\n",
       "      <td>80.06</td>\n",
       "      <td>79.24</td>\n",
       "      <td>136.17</td>\n",
       "      <td>74.72</td>\n",
       "      <td>5522.63</td>\n",
       "      <td>420.94</td>\n",
       "      <td>13.55</td>\n",
       "      <td>0.46</td>\n",
       "      <td>0.27</td>\n",
       "      <td>125.16</td>\n",
       "      <td>0.08</td>\n",
       "    </tr>\n",
       "    <tr>\n",
       "      <th>std</th>\n",
       "      <td>1240.09</td>\n",
       "      <td>8.15</td>\n",
       "      <td>21.01</td>\n",
       "      <td>0.67</td>\n",
       "      <td>3.13</td>\n",
       "      <td>90.72</td>\n",
       "      <td>48.34</td>\n",
       "      <td>13.40</td>\n",
       "      <td>35.14</td>\n",
       "      <td>11.15</td>\n",
       "      <td>2952.86</td>\n",
       "      <td>54.60</td>\n",
       "      <td>3.70</td>\n",
       "      <td>0.84</td>\n",
       "      <td>0.44</td>\n",
       "      <td>135.33</td>\n",
       "      <td>0.27</td>\n",
       "    </tr>\n",
       "    <tr>\n",
       "      <th>min</th>\n",
       "      <td>49.00</td>\n",
       "      <td>21.00</td>\n",
       "      <td>39.00</td>\n",
       "      <td>36.00</td>\n",
       "      <td>90.09</td>\n",
       "      <td>0.06</td>\n",
       "      <td>4.00</td>\n",
       "      <td>40.00</td>\n",
       "      <td>70.00</td>\n",
       "      <td>51.00</td>\n",
       "      <td>0.00</td>\n",
       "      <td>120.00</td>\n",
       "      <td>6.50</td>\n",
       "      <td>0.00</td>\n",
       "      <td>0.00</td>\n",
       "      <td>1.00</td>\n",
       "      <td>0.00</td>\n",
       "    </tr>\n",
       "    <tr>\n",
       "      <th>25%</th>\n",
       "      <td>3620.50</td>\n",
       "      <td>36.00</td>\n",
       "      <td>83.00</td>\n",
       "      <td>37.00</td>\n",
       "      <td>96.57</td>\n",
       "      <td>51.57</td>\n",
       "      <td>63.19</td>\n",
       "      <td>70.00</td>\n",
       "      <td>111.85</td>\n",
       "      <td>68.00</td>\n",
       "      <td>5522.63</td>\n",
       "      <td>422.57</td>\n",
       "      <td>11.32</td>\n",
       "      <td>0.00</td>\n",
       "      <td>0.00</td>\n",
       "      <td>111.50</td>\n",
       "      <td>0.00</td>\n",
       "    </tr>\n",
       "    <tr>\n",
       "      <th>50%</th>\n",
       "      <td>4163.50</td>\n",
       "      <td>36.00</td>\n",
       "      <td>83.00</td>\n",
       "      <td>37.00</td>\n",
       "      <td>97.00</td>\n",
       "      <td>145.33</td>\n",
       "      <td>81.58</td>\n",
       "      <td>79.33</td>\n",
       "      <td>121.00</td>\n",
       "      <td>74.00</td>\n",
       "      <td>5522.63</td>\n",
       "      <td>422.57</td>\n",
       "      <td>13.00</td>\n",
       "      <td>0.00</td>\n",
       "      <td>0.00</td>\n",
       "      <td>126.00</td>\n",
       "      <td>0.00</td>\n",
       "    </tr>\n",
       "    <tr>\n",
       "      <th>75%</th>\n",
       "      <td>4873.50</td>\n",
       "      <td>36.00</td>\n",
       "      <td>83.00</td>\n",
       "      <td>37.87</td>\n",
       "      <td>98.00</td>\n",
       "      <td>155.45</td>\n",
       "      <td>94.00</td>\n",
       "      <td>90.72</td>\n",
       "      <td>168.27</td>\n",
       "      <td>79.00</td>\n",
       "      <td>7989.75</td>\n",
       "      <td>422.57</td>\n",
       "      <td>14.83</td>\n",
       "      <td>1.00</td>\n",
       "      <td>1.00</td>\n",
       "      <td>139.12</td>\n",
       "      <td>0.00</td>\n",
       "    </tr>\n",
       "    <tr>\n",
       "      <th>max</th>\n",
       "      <td>6273.00</td>\n",
       "      <td>100.00</td>\n",
       "      <td>270.00</td>\n",
       "      <td>40.58</td>\n",
       "      <td>119.88</td>\n",
       "      <td>1233.00</td>\n",
       "      <td>1234.00</td>\n",
       "      <td>137.50</td>\n",
       "      <td>248.33</td>\n",
       "      <td>150.00</td>\n",
       "      <td>20000.00</td>\n",
       "      <td>750.00</td>\n",
       "      <td>40.00</td>\n",
       "      <td>4.00</td>\n",
       "      <td>1.00</td>\n",
       "      <td>2191.48</td>\n",
       "      <td>1.00</td>\n",
       "    </tr>\n",
       "  </tbody>\n",
       "</table>\n",
       "</div>"
      ],
      "text/plain": [
       "       PatientId    Age  Weight  BodyTemperature  OxygenLevel  BloodSugar  \\\n",
       "count     748.00 748.00  748.00           748.00       748.00      323.00   \n",
       "mean     4036.46  36.02   85.52            37.36        97.49      117.05   \n",
       "std      1240.09   8.15   21.01             0.67         3.13       90.72   \n",
       "min        49.00  21.00   39.00            36.00        90.09        0.06   \n",
       "25%      3620.50  36.00   83.00            37.00        96.57       51.57   \n",
       "50%      4163.50  36.00   83.00            37.00        97.00      145.33   \n",
       "75%      4873.50  36.00   83.00            37.87        98.00      155.45   \n",
       "max      6273.00 100.00  270.00            40.58       119.88     1233.00   \n",
       "\n",
       "          HRV  HeartRate  Systolic  Diastolic  StepCount  TimeInBed  \\\n",
       "count  732.00     748.00    748.00     748.00     748.00     748.00   \n",
       "mean    80.06      79.24    136.17      74.72    5522.63     420.94   \n",
       "std     48.34      13.40     35.14      11.15    2952.86      54.60   \n",
       "min      4.00      40.00     70.00      51.00       0.00     120.00   \n",
       "25%     63.19      70.00    111.85      68.00    5522.63     422.57   \n",
       "50%     81.58      79.33    121.00      74.00    5522.63     422.57   \n",
       "75%     94.00      90.72    168.27      79.00    7989.75     422.57   \n",
       "max   1234.00     137.50    248.33     150.00   20000.00     750.00   \n",
       "\n",
       "       RespiratoryRate  StressLevel  FallAccur     BMI  Diseases  \n",
       "count           748.00       748.00     748.00  269.00    748.00  \n",
       "mean             13.55         0.46       0.27  125.16      0.08  \n",
       "std               3.70         0.84       0.44  135.33      0.27  \n",
       "min               6.50         0.00       0.00    1.00      0.00  \n",
       "25%              11.32         0.00       0.00  111.50      0.00  \n",
       "50%              13.00         0.00       0.00  126.00      0.00  \n",
       "75%              14.83         1.00       1.00  139.12      0.00  \n",
       "max              40.00         4.00       1.00 2191.48      1.00  "
      ]
     },
     "execution_count": 472,
     "metadata": {},
     "output_type": "execute_result"
    }
   ],
   "source": [
    "filtered_df.describe()"
   ]
  },
  {
   "cell_type": "markdown",
   "id": "20c4ac7f",
   "metadata": {},
   "source": [
    "#### 13 Columns to use:\n",
    "- Age\n",
    "- Weight\n",
    "- Body Temperature\n",
    "- Oxygen Level\n",
    "- Resting Heart Rate\n",
    "- Systolic Blood Pressure\n",
    "- Diastolic Blood Pressue\n",
    "- Step Count\n",
    "- Time in Bed\n",
    "- Respiratory Rate\n",
    "- Stress Level\n",
    "- Fall Accur\n",
    "- Diseases"
   ]
  },
  {
   "cell_type": "markdown",
   "id": "9fa7c05c",
   "metadata": {},
   "source": [
    "#### 5 Columns not used:"
   ]
  },
  {
   "cell_type": "markdown",
   "id": "04e73d99",
   "metadata": {},
   "source": [
    "* Patient Id\n",
    "* Blood Sugar\n",
    "* Heart Rate Variability\n",
    "* Body Mass Index\n",
    "* Gender"
   ]
  },
  {
   "cell_type": "markdown",
   "id": "1831b4ee",
   "metadata": {},
   "source": [
    "#### Create Risk Column"
   ]
  },
  {
   "cell_type": "code",
   "execution_count": 473,
   "id": "dcb5bb85",
   "metadata": {},
   "outputs": [],
   "source": [
    "# Adjust these thresholds based on your criteria\n",
    "threshold_vital_signs = {\n",
    "    'weight': 200,  \n",
    "    'body temperature': 40,\n",
    "    'oxygen level': 93,\n",
    "    'heart rate': 100,\n",
    "    'systolic': 180,\n",
    "    'diastolic': 120,\n",
    "    'time in bed': 120,\n",
    "    'respiratory rate': 25,\n",
    "    'stress level': 4,\n",
    "    'fall accur': 1,\n",
    "    'diseases': 1\n",
    "}"
   ]
  },
  {
   "cell_type": "code",
   "execution_count": 474,
   "id": "53577f5d",
   "metadata": {},
   "outputs": [],
   "source": [
    "# Creating the new binary risk column\n",
    "filtered_df['Risk'] = np.where(\n",
    "            (filtered_df['Weight'] >= threshold_vital_signs['weight']) | \n",
    "            (filtered_df['BodyTemperature'] >= threshold_vital_signs['body temperature']) | \n",
    "            (filtered_df['OxygenLevel'] <= threshold_vital_signs['oxygen level']) |\n",
    "            (filtered_df['HeartRate'] >= threshold_vital_signs['heart rate']) | \n",
    "            (filtered_df['Systolic'] >= threshold_vital_signs['systolic']) | \n",
    "            (filtered_df['Diastolic'] >= threshold_vital_signs['diastolic']) | \n",
    "            (filtered_df['TimeInBed'] <= threshold_vital_signs['time in bed']) |\n",
    "            (filtered_df['RespiratoryRate'] >= threshold_vital_signs['respiratory rate']) | \n",
    "            (filtered_df['StressLevel'] == threshold_vital_signs['stress level']) | \n",
    "            (filtered_df['FallAccur'] == threshold_vital_signs['fall accur']),\n",
    "            (filtered_df['Diseases'] == threshold_vital_signs['diseases']) | \n",
    "    1, \n",
    "    0\n",
    ")"
   ]
  },
  {
   "cell_type": "code",
   "execution_count": 475,
   "id": "0c91e808",
   "metadata": {},
   "outputs": [
    {
     "data": {
      "text/plain": [
       "0    454\n",
       "1    294\n",
       "Name: Risk, dtype: int64"
      ]
     },
     "execution_count": 475,
     "metadata": {},
     "output_type": "execute_result"
    }
   ],
   "source": [
    "filtered_df['Risk'].value_counts()"
   ]
  },
  {
   "cell_type": "code",
   "execution_count": 476,
   "id": "34c8cb58",
   "metadata": {},
   "outputs": [
    {
     "data": {
      "image/png": "[encoded data removed]",
      "text/plain": [
       "<Figure size 432x288 with 1 Axes>"
      ]
     },
     "metadata": {
      "needs_background": "light"
     },
     "output_type": "display_data"
    }
   ],
   "source": [
    "filtered_df['Risk'].value_counts().plot(kind='bar')\n",
    "plt.show()"
   ]
  },
  {
   "cell_type": "markdown",
   "id": "a5494af1",
   "metadata": {},
   "source": [
    "#### Observations\n",
    "* 454 patients categorized as not at risk\n",
    "* 294 patients categorized as at risk"
   ]
  },
  {
   "cell_type": "code",
   "execution_count": 477,
   "id": "8f31c376",
   "metadata": {
    "scrolled": false
   },
   "outputs": [
    {
     "data": {
      "text/html": [
       "<div>\n",
       "<style scoped>\n",
       "    .dataframe tbody tr th:only-of-type {\n",
       "        vertical-align: middle;\n",
       "    }\n",
       "\n",
       "    .dataframe tbody tr th {\n",
       "        vertical-align: top;\n",
       "    }\n",
       "\n",
       "    .dataframe thead th {\n",
       "        text-align: right;\n",
       "    }\n",
       "</style>\n",
       "<table border=\"1\" class=\"dataframe\">\n",
       "  <thead>\n",
       "    <tr style=\"text-align: right;\">\n",
       "      <th></th>\n",
       "      <th>Age</th>\n",
       "      <th>Weight</th>\n",
       "      <th>BodyTemperature</th>\n",
       "      <th>OxygenLevel</th>\n",
       "      <th>BloodSugar</th>\n",
       "      <th>HRV</th>\n",
       "      <th>HeartRate</th>\n",
       "      <th>Systolic</th>\n",
       "      <th>Diastolic</th>\n",
       "      <th>StepCount</th>\n",
       "      <th>TimeInBed</th>\n",
       "      <th>RespiratoryRate</th>\n",
       "      <th>StressLevel</th>\n",
       "      <th>FallAccur</th>\n",
       "      <th>BMI</th>\n",
       "      <th>Diseases</th>\n",
       "    </tr>\n",
       "    <tr>\n",
       "      <th>Risk</th>\n",
       "      <th></th>\n",
       "      <th></th>\n",
       "      <th></th>\n",
       "      <th></th>\n",
       "      <th></th>\n",
       "      <th></th>\n",
       "      <th></th>\n",
       "      <th></th>\n",
       "      <th></th>\n",
       "      <th></th>\n",
       "      <th></th>\n",
       "      <th></th>\n",
       "      <th></th>\n",
       "      <th></th>\n",
       "      <th></th>\n",
       "      <th></th>\n",
       "    </tr>\n",
       "  </thead>\n",
       "  <tbody>\n",
       "    <tr>\n",
       "      <th>0</th>\n",
       "      <td>36.19</td>\n",
       "      <td>83.40</td>\n",
       "      <td>37.11</td>\n",
       "      <td>97.45</td>\n",
       "      <td>119.04</td>\n",
       "      <td>74.30</td>\n",
       "      <td>75.24</td>\n",
       "      <td>120.61</td>\n",
       "      <td>71.95</td>\n",
       "      <td>5013.37</td>\n",
       "      <td>422.80</td>\n",
       "      <td>12.58</td>\n",
       "      <td>0.47</td>\n",
       "      <td>0.00</td>\n",
       "      <td>122.77</td>\n",
       "      <td>0.07</td>\n",
       "    </tr>\n",
       "    <tr>\n",
       "      <th>1</th>\n",
       "      <td>35.77</td>\n",
       "      <td>88.79</td>\n",
       "      <td>37.75</td>\n",
       "      <td>97.54</td>\n",
       "      <td>116.49</td>\n",
       "      <td>88.78</td>\n",
       "      <td>85.41</td>\n",
       "      <td>160.20</td>\n",
       "      <td>78.99</td>\n",
       "      <td>6309.06</td>\n",
       "      <td>418.07</td>\n",
       "      <td>15.04</td>\n",
       "      <td>0.44</td>\n",
       "      <td>0.68</td>\n",
       "      <td>125.83</td>\n",
       "      <td>0.10</td>\n",
       "    </tr>\n",
       "  </tbody>\n",
       "</table>\n",
       "</div>"
      ],
      "text/plain": [
       "       Age  Weight  BodyTemperature  OxygenLevel  BloodSugar   HRV  HeartRate  \\\n",
       "Risk                                                                            \n",
       "0    36.19   83.40            37.11        97.45      119.04 74.30      75.24   \n",
       "1    35.77   88.79            37.75        97.54      116.49 88.78      85.41   \n",
       "\n",
       "      Systolic  Diastolic  StepCount  TimeInBed  RespiratoryRate  StressLevel  \\\n",
       "Risk                                                                            \n",
       "0       120.61      71.95    5013.37     422.80            12.58         0.47   \n",
       "1       160.20      78.99    6309.06     418.07            15.04         0.44   \n",
       "\n",
       "      FallAccur    BMI  Diseases  \n",
       "Risk                              \n",
       "0          0.00 122.77      0.07  \n",
       "1          0.68 125.83      0.10  "
      ]
     },
     "execution_count": 477,
     "metadata": {},
     "output_type": "execute_result"
    }
   ],
   "source": [
    "filtered_df.groupby('Risk').mean().iloc[:, 1:]"
   ]
  },
  {
   "cell_type": "markdown",
   "id": "880061b5",
   "metadata": {},
   "source": [
    "#### Observations"
   ]
  },
  {
   "cell_type": "markdown",
   "id": "81cbbff8",
   "metadata": {},
   "source": [
    "- Average age for at risk and not at risk is roughly the same\n",
    "- Average weight for at risk patients is 88.79 kg vs. 83.40 kg for not at risk (About 5.4 kg more on average)\n",
    "- Average body temperature for at risk is 37.75 celsius (99.95 fahrenheit) vs. 37.11 celsius (98.80 fahrenheit) for not at risk (About .65 degrees celsius more on average)\n",
    "- Average oxygen level for at risk and not at risk is roughly the same\n",
    "- Average resting heart rate is 84 beats per minute for at risk vs. 75 beats per minute for not at risk (About 9 BPM more on average)\n",
    "- Average systolic is 160 mm Hg for at risk vs. 120 mm Hg for not at risk (About 30 mm Hg more on average)\n",
    "- Average diastolic is 79 mm Hg for at risk vs 72 mm Hg for not at risk (About 7 mm Hg more on average)\n",
    "- Average step count surprisingly is higher for at risk patients (6309 steps for at risk vs 5013 for not at risk)\n",
    "- Average respiratory rate for at risk is 15 breaths per minute compared to 12.5 breaths per minute for not at risk (About 2.5 breaths per minute more on average)"
   ]
  },
  {
   "cell_type": "code",
   "execution_count": null,
   "id": "37992ded",
   "metadata": {},
   "outputs": [],
   "source": []
  },
  {
   "cell_type": "markdown",
   "id": "73a8d2db",
   "metadata": {},
   "source": [
    "#### Correlation of Independent Variables to Risk"
   ]
  },
  {
   "cell_type": "code",
   "execution_count": 478,
   "id": "b06b54b3",
   "metadata": {},
   "outputs": [
    {
     "data": {
      "text/html": [
       "<div>\n",
       "<style scoped>\n",
       "    .dataframe tbody tr th:only-of-type {\n",
       "        vertical-align: middle;\n",
       "    }\n",
       "\n",
       "    .dataframe tbody tr th {\n",
       "        vertical-align: top;\n",
       "    }\n",
       "\n",
       "    .dataframe thead th {\n",
       "        text-align: right;\n",
       "    }\n",
       "</style>\n",
       "<table border=\"1\" class=\"dataframe\">\n",
       "  <thead>\n",
       "    <tr style=\"text-align: right;\">\n",
       "      <th></th>\n",
       "      <th>Risk</th>\n",
       "    </tr>\n",
       "  </thead>\n",
       "  <tbody>\n",
       "    <tr>\n",
       "      <th>Age</th>\n",
       "      <td>-0.03</td>\n",
       "    </tr>\n",
       "    <tr>\n",
       "      <th>Weight</th>\n",
       "      <td>0.13</td>\n",
       "    </tr>\n",
       "    <tr>\n",
       "      <th>BodyTemperature</th>\n",
       "      <td>0.46</td>\n",
       "    </tr>\n",
       "    <tr>\n",
       "      <th>OxygenLevel</th>\n",
       "      <td>0.01</td>\n",
       "    </tr>\n",
       "    <tr>\n",
       "      <th>BloodSugar</th>\n",
       "      <td>-0.01</td>\n",
       "    </tr>\n",
       "    <tr>\n",
       "      <th>HRV</th>\n",
       "      <td>0.15</td>\n",
       "    </tr>\n",
       "    <tr>\n",
       "      <th>HeartRate</th>\n",
       "      <td>0.37</td>\n",
       "    </tr>\n",
       "    <tr>\n",
       "      <th>Systolic</th>\n",
       "      <td>0.55</td>\n",
       "    </tr>\n",
       "    <tr>\n",
       "      <th>Diastolic</th>\n",
       "      <td>0.31</td>\n",
       "    </tr>\n",
       "    <tr>\n",
       "      <th>StepCount</th>\n",
       "      <td>0.21</td>\n",
       "    </tr>\n",
       "    <tr>\n",
       "      <th>TimeInBed</th>\n",
       "      <td>-0.04</td>\n",
       "    </tr>\n",
       "    <tr>\n",
       "      <th>RespiratoryRate</th>\n",
       "      <td>0.32</td>\n",
       "    </tr>\n",
       "    <tr>\n",
       "      <th>StressLevel</th>\n",
       "      <td>-0.02</td>\n",
       "    </tr>\n",
       "    <tr>\n",
       "      <th>FallAccur</th>\n",
       "      <td>0.75</td>\n",
       "    </tr>\n",
       "    <tr>\n",
       "      <th>BMI</th>\n",
       "      <td>0.01</td>\n",
       "    </tr>\n",
       "    <tr>\n",
       "      <th>Diseases</th>\n",
       "      <td>0.06</td>\n",
       "    </tr>\n",
       "  </tbody>\n",
       "</table>\n",
       "</div>"
      ],
      "text/plain": [
       "                 Risk\n",
       "Age             -0.03\n",
       "Weight           0.13\n",
       "BodyTemperature  0.46\n",
       "OxygenLevel      0.01\n",
       "BloodSugar      -0.01\n",
       "HRV              0.15\n",
       "HeartRate        0.37\n",
       "Systolic         0.55\n",
       "Diastolic        0.31\n",
       "StepCount        0.21\n",
       "TimeInBed       -0.04\n",
       "RespiratoryRate  0.32\n",
       "StressLevel     -0.02\n",
       "FallAccur        0.75\n",
       "BMI              0.01\n",
       "Diseases         0.06"
      ]
     },
     "execution_count": 478,
     "metadata": {},
     "output_type": "execute_result"
    }
   ],
   "source": [
    "filtered_df.corr()[['Risk']].iloc[1:-1]"
   ]
  },
  {
   "cell_type": "markdown",
   "id": "90bea1f5",
   "metadata": {},
   "source": [
    "#### Observations\n",
    "- Fall Accur is highly correlated with Risk at 0.75\n",
    "- Systolic Blood Pressue is moderately correlated with Risk 0.55\n",
    "- Body Temperatue is moderately correlated with Risk at 0.46\n",
    "- Resting Heart Rate is moderately correlated with Risk at 0.37"
   ]
  },
  {
   "cell_type": "code",
   "execution_count": null,
   "id": "aafc8b6d",
   "metadata": {},
   "outputs": [],
   "source": []
  },
  {
   "cell_type": "markdown",
   "id": "a747659a",
   "metadata": {},
   "source": [
    "#### Correlation between Independent Variables"
   ]
  },
  {
   "cell_type": "code",
   "execution_count": 479,
   "id": "ae7f9f29",
   "metadata": {},
   "outputs": [],
   "source": [
    "corr = filtered_df.drop(['PatientId', 'BloodSugar', 'HRV', 'BMI', 'Gender', 'Risk'], axis=1).corr()"
   ]
  },
  {
   "cell_type": "code",
   "execution_count": 480,
   "id": "9760783d",
   "metadata": {},
   "outputs": [],
   "source": [
    "mask = np.zeros_like(corr, dtype=np.bool)\n",
    "mask[np.triu_indices_from(mask)] = True"
   ]
  },
  {
   "cell_type": "code",
   "execution_count": 481,
   "id": "e8c68c55",
   "metadata": {},
   "outputs": [
    {
     "data": {
      "image/png": "[encoded data removed]",
      "text/plain": [
       "<Figure size 720x432 with 2 Axes>"
      ]
     },
     "metadata": {
      "needs_background": "light"
     },
     "output_type": "display_data"
    }
   ],
   "source": [
    "plt.figure(figsize=(10,6))\n",
    "sns.heatmap(corr, mask=mask, annot=True, fmt=\".2f\", cmap='coolwarm')\n",
    "plt.show()"
   ]
  },
  {
   "cell_type": "code",
   "execution_count": null,
   "id": "e74cdab0",
   "metadata": {},
   "outputs": [],
   "source": []
  },
  {
   "cell_type": "markdown",
   "id": "3f7734ec",
   "metadata": {},
   "source": [
    "#### Save Final Dataframe as a csv"
   ]
  },
  {
   "cell_type": "code",
   "execution_count": 482,
   "id": "e4fcc0b2",
   "metadata": {},
   "outputs": [],
   "source": [
    "filtered_df.to_csv('filtered_df.csv')"
   ]
  },
  {
   "cell_type": "code",
   "execution_count": null,
   "id": "0390ab0d",
   "metadata": {},
   "outputs": [],
   "source": []
  },
  {
   "cell_type": "markdown",
   "id": "5cdd1b58",
   "metadata": {},
   "source": [
    "### Prepare Data for Modelling"
   ]
  },
  {
   "cell_type": "code",
   "execution_count": 483,
   "id": "d34bbfb6",
   "metadata": {
    "scrolled": true
   },
   "outputs": [
    {
     "data": {
      "text/html": [
       "<div>\n",
       "<style scoped>\n",
       "    .dataframe tbody tr th:only-of-type {\n",
       "        vertical-align: middle;\n",
       "    }\n",
       "\n",
       "    .dataframe tbody tr th {\n",
       "        vertical-align: top;\n",
       "    }\n",
       "\n",
       "    .dataframe thead th {\n",
       "        text-align: right;\n",
       "    }\n",
       "</style>\n",
       "<table border=\"1\" class=\"dataframe\">\n",
       "  <thead>\n",
       "    <tr style=\"text-align: right;\">\n",
       "      <th></th>\n",
       "      <th>PatientId</th>\n",
       "      <th>Age</th>\n",
       "      <th>Weight</th>\n",
       "      <th>BodyTemperature</th>\n",
       "      <th>OxygenLevel</th>\n",
       "      <th>BloodSugar</th>\n",
       "      <th>HRV</th>\n",
       "      <th>HeartRate</th>\n",
       "      <th>Systolic</th>\n",
       "      <th>Diastolic</th>\n",
       "      <th>StepCount</th>\n",
       "      <th>TimeInBed</th>\n",
       "      <th>RespiratoryRate</th>\n",
       "      <th>StressLevel</th>\n",
       "      <th>FallAccur</th>\n",
       "      <th>BMI</th>\n",
       "      <th>Gender</th>\n",
       "      <th>Diseases</th>\n",
       "      <th>Risk</th>\n",
       "    </tr>\n",
       "  </thead>\n",
       "  <tbody>\n",
       "    <tr>\n",
       "      <th>11</th>\n",
       "      <td>49</td>\n",
       "      <td>36.00</td>\n",
       "      <td>83.00</td>\n",
       "      <td>37.00</td>\n",
       "      <td>97.50</td>\n",
       "      <td>NaN</td>\n",
       "      <td>85.00</td>\n",
       "      <td>76.50</td>\n",
       "      <td>109.50</td>\n",
       "      <td>69.50</td>\n",
       "      <td>5522.63</td>\n",
       "      <td>422.57</td>\n",
       "      <td>13.00</td>\n",
       "      <td>0.00</td>\n",
       "      <td>0.00</td>\n",
       "      <td>NaN</td>\n",
       "      <td>Other</td>\n",
       "      <td>0</td>\n",
       "      <td>0</td>\n",
       "    </tr>\n",
       "    <tr>\n",
       "      <th>23</th>\n",
       "      <td>134</td>\n",
       "      <td>36.00</td>\n",
       "      <td>83.00</td>\n",
       "      <td>37.00</td>\n",
       "      <td>95.67</td>\n",
       "      <td>8.00</td>\n",
       "      <td>113.20</td>\n",
       "      <td>76.94</td>\n",
       "      <td>100.00</td>\n",
       "      <td>100.00</td>\n",
       "      <td>143.06</td>\n",
       "      <td>391.07</td>\n",
       "      <td>13.67</td>\n",
       "      <td>2.00</td>\n",
       "      <td>1.00</td>\n",
       "      <td>NaN</td>\n",
       "      <td>Male</td>\n",
       "      <td>0</td>\n",
       "      <td>1</td>\n",
       "    </tr>\n",
       "    <tr>\n",
       "      <th>25</th>\n",
       "      <td>136</td>\n",
       "      <td>90.00</td>\n",
       "      <td>113.38</td>\n",
       "      <td>37.00</td>\n",
       "      <td>96.16</td>\n",
       "      <td>8.08</td>\n",
       "      <td>51.59</td>\n",
       "      <td>84.36</td>\n",
       "      <td>121.61</td>\n",
       "      <td>73.25</td>\n",
       "      <td>4292.04</td>\n",
       "      <td>627.69</td>\n",
       "      <td>15.01</td>\n",
       "      <td>1.00</td>\n",
       "      <td>1.00</td>\n",
       "      <td>11.38</td>\n",
       "      <td>Male</td>\n",
       "      <td>1</td>\n",
       "      <td>1</td>\n",
       "    </tr>\n",
       "    <tr>\n",
       "      <th>27</th>\n",
       "      <td>140</td>\n",
       "      <td>63.00</td>\n",
       "      <td>90.00</td>\n",
       "      <td>37.00</td>\n",
       "      <td>96.56</td>\n",
       "      <td>NaN</td>\n",
       "      <td>70.14</td>\n",
       "      <td>70.60</td>\n",
       "      <td>118.22</td>\n",
       "      <td>73.56</td>\n",
       "      <td>1508.00</td>\n",
       "      <td>422.57</td>\n",
       "      <td>12.89</td>\n",
       "      <td>0.00</td>\n",
       "      <td>0.00</td>\n",
       "      <td>NaN</td>\n",
       "      <td>Other</td>\n",
       "      <td>0</td>\n",
       "      <td>0</td>\n",
       "    </tr>\n",
       "    <tr>\n",
       "      <th>37</th>\n",
       "      <td>162</td>\n",
       "      <td>36.00</td>\n",
       "      <td>83.00</td>\n",
       "      <td>37.00</td>\n",
       "      <td>97.00</td>\n",
       "      <td>1233.00</td>\n",
       "      <td>1234.00</td>\n",
       "      <td>79.33</td>\n",
       "      <td>121.00</td>\n",
       "      <td>74.72</td>\n",
       "      <td>1234.00</td>\n",
       "      <td>690.00</td>\n",
       "      <td>13.00</td>\n",
       "      <td>0.00</td>\n",
       "      <td>1.00</td>\n",
       "      <td>NaN</td>\n",
       "      <td>Other</td>\n",
       "      <td>0</td>\n",
       "      <td>1</td>\n",
       "    </tr>\n",
       "  </tbody>\n",
       "</table>\n",
       "</div>"
      ],
      "text/plain": [
       "    PatientId   Age  Weight  BodyTemperature  OxygenLevel  BloodSugar     HRV  \\\n",
       "11         49 36.00   83.00            37.00        97.50         NaN   85.00   \n",
       "23        134 36.00   83.00            37.00        95.67        8.00  113.20   \n",
       "25        136 90.00  113.38            37.00        96.16        8.08   51.59   \n",
       "27        140 63.00   90.00            37.00        96.56         NaN   70.14   \n",
       "37        162 36.00   83.00            37.00        97.00     1233.00 1234.00   \n",
       "\n",
       "    HeartRate  Systolic  Diastolic  StepCount  TimeInBed  RespiratoryRate  \\\n",
       "11      76.50    109.50      69.50    5522.63     422.57            13.00   \n",
       "23      76.94    100.00     100.00     143.06     391.07            13.67   \n",
       "25      84.36    121.61      73.25    4292.04     627.69            15.01   \n",
       "27      70.60    118.22      73.56    1508.00     422.57            12.89   \n",
       "37      79.33    121.00      74.72    1234.00     690.00            13.00   \n",
       "\n",
       "    StressLevel  FallAccur   BMI Gender  Diseases  Risk  \n",
       "11         0.00       0.00   NaN  Other         0     0  \n",
       "23         2.00       1.00   NaN   Male         0     1  \n",
       "25         1.00       1.00 11.38   Male         1     1  \n",
       "27         0.00       0.00   NaN  Other         0     0  \n",
       "37         0.00       1.00   NaN  Other         0     1  "
      ]
     },
     "execution_count": 483,
     "metadata": {},
     "output_type": "execute_result"
    }
   ],
   "source": [
    "filtered_df.head()"
   ]
  },
  {
   "cell_type": "code",
   "execution_count": 484,
   "id": "a9dcbc50",
   "metadata": {},
   "outputs": [],
   "source": [
    "# Create independent variables\n",
    "X = filtered_df.drop(['PatientId', 'BloodSugar', 'HRV', 'BMI', 'Gender', 'FallAccur', 'Risk'], axis=1)"
   ]
  },
  {
   "cell_type": "code",
   "execution_count": 485,
   "id": "1cdc1dff",
   "metadata": {},
   "outputs": [
    {
     "data": {
      "text/html": [
       "<div>\n",
       "<style scoped>\n",
       "    .dataframe tbody tr th:only-of-type {\n",
       "        vertical-align: middle;\n",
       "    }\n",
       "\n",
       "    .dataframe tbody tr th {\n",
       "        vertical-align: top;\n",
       "    }\n",
       "\n",
       "    .dataframe thead th {\n",
       "        text-align: right;\n",
       "    }\n",
       "</style>\n",
       "<table border=\"1\" class=\"dataframe\">\n",
       "  <thead>\n",
       "    <tr style=\"text-align: right;\">\n",
       "      <th></th>\n",
       "      <th>Age</th>\n",
       "      <th>Weight</th>\n",
       "      <th>BodyTemperature</th>\n",
       "      <th>OxygenLevel</th>\n",
       "      <th>HeartRate</th>\n",
       "      <th>Systolic</th>\n",
       "      <th>Diastolic</th>\n",
       "      <th>StepCount</th>\n",
       "      <th>TimeInBed</th>\n",
       "      <th>RespiratoryRate</th>\n",
       "      <th>StressLevel</th>\n",
       "      <th>Diseases</th>\n",
       "    </tr>\n",
       "  </thead>\n",
       "  <tbody>\n",
       "    <tr>\n",
       "      <th>11</th>\n",
       "      <td>36.00</td>\n",
       "      <td>83.00</td>\n",
       "      <td>37.00</td>\n",
       "      <td>97.50</td>\n",
       "      <td>76.50</td>\n",
       "      <td>109.50</td>\n",
       "      <td>69.50</td>\n",
       "      <td>5522.63</td>\n",
       "      <td>422.57</td>\n",
       "      <td>13.00</td>\n",
       "      <td>0.00</td>\n",
       "      <td>0</td>\n",
       "    </tr>\n",
       "    <tr>\n",
       "      <th>23</th>\n",
       "      <td>36.00</td>\n",
       "      <td>83.00</td>\n",
       "      <td>37.00</td>\n",
       "      <td>95.67</td>\n",
       "      <td>76.94</td>\n",
       "      <td>100.00</td>\n",
       "      <td>100.00</td>\n",
       "      <td>143.06</td>\n",
       "      <td>391.07</td>\n",
       "      <td>13.67</td>\n",
       "      <td>2.00</td>\n",
       "      <td>0</td>\n",
       "    </tr>\n",
       "    <tr>\n",
       "      <th>25</th>\n",
       "      <td>90.00</td>\n",
       "      <td>113.38</td>\n",
       "      <td>37.00</td>\n",
       "      <td>96.16</td>\n",
       "      <td>84.36</td>\n",
       "      <td>121.61</td>\n",
       "      <td>73.25</td>\n",
       "      <td>4292.04</td>\n",
       "      <td>627.69</td>\n",
       "      <td>15.01</td>\n",
       "      <td>1.00</td>\n",
       "      <td>1</td>\n",
       "    </tr>\n",
       "    <tr>\n",
       "      <th>27</th>\n",
       "      <td>63.00</td>\n",
       "      <td>90.00</td>\n",
       "      <td>37.00</td>\n",
       "      <td>96.56</td>\n",
       "      <td>70.60</td>\n",
       "      <td>118.22</td>\n",
       "      <td>73.56</td>\n",
       "      <td>1508.00</td>\n",
       "      <td>422.57</td>\n",
       "      <td>12.89</td>\n",
       "      <td>0.00</td>\n",
       "      <td>0</td>\n",
       "    </tr>\n",
       "    <tr>\n",
       "      <th>37</th>\n",
       "      <td>36.00</td>\n",
       "      <td>83.00</td>\n",
       "      <td>37.00</td>\n",
       "      <td>97.00</td>\n",
       "      <td>79.33</td>\n",
       "      <td>121.00</td>\n",
       "      <td>74.72</td>\n",
       "      <td>1234.00</td>\n",
       "      <td>690.00</td>\n",
       "      <td>13.00</td>\n",
       "      <td>0.00</td>\n",
       "      <td>0</td>\n",
       "    </tr>\n",
       "  </tbody>\n",
       "</table>\n",
       "</div>"
      ],
      "text/plain": [
       "     Age  Weight  BodyTemperature  OxygenLevel  HeartRate  Systolic  \\\n",
       "11 36.00   83.00            37.00        97.50      76.50    109.50   \n",
       "23 36.00   83.00            37.00        95.67      76.94    100.00   \n",
       "25 90.00  113.38            37.00        96.16      84.36    121.61   \n",
       "27 63.00   90.00            37.00        96.56      70.60    118.22   \n",
       "37 36.00   83.00            37.00        97.00      79.33    121.00   \n",
       "\n",
       "    Diastolic  StepCount  TimeInBed  RespiratoryRate  StressLevel  Diseases  \n",
       "11      69.50    5522.63     422.57            13.00         0.00         0  \n",
       "23     100.00     143.06     391.07            13.67         2.00         0  \n",
       "25      73.25    4292.04     627.69            15.01         1.00         1  \n",
       "27      73.56    1508.00     422.57            12.89         0.00         0  \n",
       "37      74.72    1234.00     690.00            13.00         0.00         0  "
      ]
     },
     "execution_count": 485,
     "metadata": {},
     "output_type": "execute_result"
    }
   ],
   "source": [
    "# Check the first 5 rows\n",
    "X.head()"
   ]
  },
  {
   "cell_type": "code",
   "execution_count": 486,
   "id": "8f6f7399",
   "metadata": {
    "scrolled": true
   },
   "outputs": [
    {
     "data": {
      "text/plain": [
       "(748, 12)"
      ]
     },
     "execution_count": 486,
     "metadata": {},
     "output_type": "execute_result"
    }
   ],
   "source": [
    "# Check the shape\n",
    "X.shape"
   ]
  },
  {
   "cell_type": "markdown",
   "id": "9ed873f4",
   "metadata": {},
   "source": [
    "- 748 rows and 12 columns will be used for the independent variables"
   ]
  },
  {
   "cell_type": "code",
   "execution_count": 487,
   "id": "63f8b4e9",
   "metadata": {},
   "outputs": [],
   "source": [
    "# Create dependent variable\n",
    "y = filtered_df['Risk']"
   ]
  },
  {
   "cell_type": "code",
   "execution_count": 488,
   "id": "781e85f4",
   "metadata": {},
   "outputs": [
    {
     "data": {
      "text/plain": [
       "11    0\n",
       "23    1\n",
       "25    1\n",
       "27    0\n",
       "37    1\n",
       "Name: Risk, dtype: int32"
      ]
     },
     "execution_count": 488,
     "metadata": {},
     "output_type": "execute_result"
    }
   ],
   "source": [
    "# Check the first five rows\n",
    "y.head()"
   ]
  },
  {
   "cell_type": "markdown",
   "id": "cb140429",
   "metadata": {},
   "source": [
    "#### Split data into train and test set"
   ]
  },
  {
   "cell_type": "code",
   "execution_count": 489,
   "id": "2ba5c755",
   "metadata": {},
   "outputs": [],
   "source": [
    "from sklearn.model_selection import train_test_split\n",
    "\n",
    "X_train, X_test, y_train, y_test = train_test_split(X, y, test_size=0.3, random_state=12345)"
   ]
  },
  {
   "cell_type": "code",
   "execution_count": 490,
   "id": "097bc8e7",
   "metadata": {
    "scrolled": false
   },
   "outputs": [
    {
     "data": {
      "text/plain": [
       "0.699"
      ]
     },
     "execution_count": 490,
     "metadata": {},
     "output_type": "execute_result"
    }
   ],
   "source": [
    "# Check to see if data has been split correctly\n",
    "round(X_train.shape[0] / filtered_df.shape[0], 3)"
   ]
  },
  {
   "cell_type": "code",
   "execution_count": 491,
   "id": "2fcf01d1",
   "metadata": {},
   "outputs": [
    {
     "data": {
      "text/plain": [
       "0.301"
      ]
     },
     "execution_count": 491,
     "metadata": {},
     "output_type": "execute_result"
    }
   ],
   "source": [
    "round(X_test.shape[0] / filtered_df.shape[0], 3)"
   ]
  },
  {
   "cell_type": "code",
   "execution_count": 492,
   "id": "273c8e96",
   "metadata": {},
   "outputs": [
    {
     "data": {
      "text/html": [
       "<div>\n",
       "<style scoped>\n",
       "    .dataframe tbody tr th:only-of-type {\n",
       "        vertical-align: middle;\n",
       "    }\n",
       "\n",
       "    .dataframe tbody tr th {\n",
       "        vertical-align: top;\n",
       "    }\n",
       "\n",
       "    .dataframe thead th {\n",
       "        text-align: right;\n",
       "    }\n",
       "</style>\n",
       "<table border=\"1\" class=\"dataframe\">\n",
       "  <thead>\n",
       "    <tr style=\"text-align: right;\">\n",
       "      <th></th>\n",
       "      <th>Age</th>\n",
       "      <th>Weight</th>\n",
       "      <th>BodyTemperature</th>\n",
       "      <th>OxygenLevel</th>\n",
       "      <th>HeartRate</th>\n",
       "      <th>Systolic</th>\n",
       "      <th>Diastolic</th>\n",
       "      <th>StepCount</th>\n",
       "      <th>TimeInBed</th>\n",
       "      <th>RespiratoryRate</th>\n",
       "      <th>StressLevel</th>\n",
       "      <th>Diseases</th>\n",
       "    </tr>\n",
       "  </thead>\n",
       "  <tbody>\n",
       "    <tr>\n",
       "      <th>616</th>\n",
       "      <td>36.00</td>\n",
       "      <td>83.00</td>\n",
       "      <td>37.00</td>\n",
       "      <td>100.00</td>\n",
       "      <td>65.00</td>\n",
       "      <td>96.00</td>\n",
       "      <td>61.00</td>\n",
       "      <td>5522.63</td>\n",
       "      <td>422.57</td>\n",
       "      <td>10.00</td>\n",
       "      <td>0.00</td>\n",
       "      <td>0</td>\n",
       "    </tr>\n",
       "    <tr>\n",
       "      <th>843</th>\n",
       "      <td>36.00</td>\n",
       "      <td>83.00</td>\n",
       "      <td>37.90</td>\n",
       "      <td>99.11</td>\n",
       "      <td>90.33</td>\n",
       "      <td>202.56</td>\n",
       "      <td>85.78</td>\n",
       "      <td>8356.44</td>\n",
       "      <td>429.78</td>\n",
       "      <td>14.89</td>\n",
       "      <td>0.00</td>\n",
       "      <td>0</td>\n",
       "    </tr>\n",
       "    <tr>\n",
       "      <th>277</th>\n",
       "      <td>44.00</td>\n",
       "      <td>270.00</td>\n",
       "      <td>37.00</td>\n",
       "      <td>97.33</td>\n",
       "      <td>58.33</td>\n",
       "      <td>101.00</td>\n",
       "      <td>64.67</td>\n",
       "      <td>5522.63</td>\n",
       "      <td>422.57</td>\n",
       "      <td>10.33</td>\n",
       "      <td>0.00</td>\n",
       "      <td>0</td>\n",
       "    </tr>\n",
       "    <tr>\n",
       "      <th>630</th>\n",
       "      <td>65.00</td>\n",
       "      <td>210.00</td>\n",
       "      <td>37.44</td>\n",
       "      <td>97.59</td>\n",
       "      <td>55.36</td>\n",
       "      <td>120.19</td>\n",
       "      <td>69.36</td>\n",
       "      <td>2711.41</td>\n",
       "      <td>335.00</td>\n",
       "      <td>11.62</td>\n",
       "      <td>1.00</td>\n",
       "      <td>0</td>\n",
       "    </tr>\n",
       "    <tr>\n",
       "      <th>1234</th>\n",
       "      <td>36.00</td>\n",
       "      <td>83.00</td>\n",
       "      <td>37.00</td>\n",
       "      <td>99.00</td>\n",
       "      <td>83.00</td>\n",
       "      <td>119.00</td>\n",
       "      <td>63.00</td>\n",
       "      <td>53.00</td>\n",
       "      <td>422.57</td>\n",
       "      <td>13.00</td>\n",
       "      <td>0.00</td>\n",
       "      <td>1</td>\n",
       "    </tr>\n",
       "  </tbody>\n",
       "</table>\n",
       "</div>"
      ],
      "text/plain": [
       "       Age  Weight  BodyTemperature  OxygenLevel  HeartRate  Systolic  \\\n",
       "616  36.00   83.00            37.00       100.00      65.00     96.00   \n",
       "843  36.00   83.00            37.90        99.11      90.33    202.56   \n",
       "277  44.00  270.00            37.00        97.33      58.33    101.00   \n",
       "630  65.00  210.00            37.44        97.59      55.36    120.19   \n",
       "1234 36.00   83.00            37.00        99.00      83.00    119.00   \n",
       "\n",
       "      Diastolic  StepCount  TimeInBed  RespiratoryRate  StressLevel  Diseases  \n",
       "616       61.00    5522.63     422.57            10.00         0.00         0  \n",
       "843       85.78    8356.44     429.78            14.89         0.00         0  \n",
       "277       64.67    5522.63     422.57            10.33         0.00         0  \n",
       "630       69.36    2711.41     335.00            11.62         1.00         0  \n",
       "1234      63.00      53.00     422.57            13.00         0.00         1  "
      ]
     },
     "execution_count": 492,
     "metadata": {},
     "output_type": "execute_result"
    }
   ],
   "source": [
    "# Check the first 5 rows of the X_train dataframe\n",
    "X_train.head()"
   ]
  },
  {
   "cell_type": "code",
   "execution_count": 493,
   "id": "13e3878c",
   "metadata": {},
   "outputs": [
    {
     "data": {
      "text/plain": [
       "616     0\n",
       "843     1\n",
       "277     1\n",
       "630     1\n",
       "1234    0\n",
       "Name: Risk, dtype: int32"
      ]
     },
     "execution_count": 493,
     "metadata": {},
     "output_type": "execute_result"
    }
   ],
   "source": [
    "y_train.head()"
   ]
  },
  {
   "cell_type": "code",
   "execution_count": 494,
   "id": "13ff28f3",
   "metadata": {},
   "outputs": [
    {
     "data": {
      "text/html": [
       "<div>\n",
       "<style scoped>\n",
       "    .dataframe tbody tr th:only-of-type {\n",
       "        vertical-align: middle;\n",
       "    }\n",
       "\n",
       "    .dataframe tbody tr th {\n",
       "        vertical-align: top;\n",
       "    }\n",
       "\n",
       "    .dataframe thead th {\n",
       "        text-align: right;\n",
       "    }\n",
       "</style>\n",
       "<table border=\"1\" class=\"dataframe\">\n",
       "  <thead>\n",
       "    <tr style=\"text-align: right;\">\n",
       "      <th></th>\n",
       "      <th>Age</th>\n",
       "      <th>Weight</th>\n",
       "      <th>BodyTemperature</th>\n",
       "      <th>OxygenLevel</th>\n",
       "      <th>HeartRate</th>\n",
       "      <th>Systolic</th>\n",
       "      <th>Diastolic</th>\n",
       "      <th>StepCount</th>\n",
       "      <th>TimeInBed</th>\n",
       "      <th>RespiratoryRate</th>\n",
       "      <th>StressLevel</th>\n",
       "      <th>Diseases</th>\n",
       "    </tr>\n",
       "  </thead>\n",
       "  <tbody>\n",
       "    <tr>\n",
       "      <th>1135</th>\n",
       "      <td>36.00</td>\n",
       "      <td>83.00</td>\n",
       "      <td>37.00</td>\n",
       "      <td>97.50</td>\n",
       "      <td>68.50</td>\n",
       "      <td>111.00</td>\n",
       "      <td>69.00</td>\n",
       "      <td>5522.63</td>\n",
       "      <td>422.57</td>\n",
       "      <td>15.00</td>\n",
       "      <td>0.00</td>\n",
       "      <td>0</td>\n",
       "    </tr>\n",
       "    <tr>\n",
       "      <th>785</th>\n",
       "      <td>36.00</td>\n",
       "      <td>83.00</td>\n",
       "      <td>38.41</td>\n",
       "      <td>93.71</td>\n",
       "      <td>97.43</td>\n",
       "      <td>187.43</td>\n",
       "      <td>74.43</td>\n",
       "      <td>8960.86</td>\n",
       "      <td>370.14</td>\n",
       "      <td>17.43</td>\n",
       "      <td>0.00</td>\n",
       "      <td>0</td>\n",
       "    </tr>\n",
       "    <tr>\n",
       "      <th>570</th>\n",
       "      <td>36.00</td>\n",
       "      <td>83.00</td>\n",
       "      <td>37.00</td>\n",
       "      <td>98.00</td>\n",
       "      <td>70.00</td>\n",
       "      <td>117.33</td>\n",
       "      <td>66.33</td>\n",
       "      <td>139.33</td>\n",
       "      <td>422.57</td>\n",
       "      <td>14.00</td>\n",
       "      <td>0.00</td>\n",
       "      <td>0</td>\n",
       "    </tr>\n",
       "    <tr>\n",
       "      <th>279</th>\n",
       "      <td>30.00</td>\n",
       "      <td>83.00</td>\n",
       "      <td>37.11</td>\n",
       "      <td>97.12</td>\n",
       "      <td>82.26</td>\n",
       "      <td>123.28</td>\n",
       "      <td>71.77</td>\n",
       "      <td>153.91</td>\n",
       "      <td>480.00</td>\n",
       "      <td>15.09</td>\n",
       "      <td>1.00</td>\n",
       "      <td>1</td>\n",
       "    </tr>\n",
       "    <tr>\n",
       "      <th>865</th>\n",
       "      <td>36.00</td>\n",
       "      <td>83.00</td>\n",
       "      <td>38.15</td>\n",
       "      <td>99.67</td>\n",
       "      <td>89.17</td>\n",
       "      <td>192.00</td>\n",
       "      <td>71.00</td>\n",
       "      <td>8755.17</td>\n",
       "      <td>363.17</td>\n",
       "      <td>11.00</td>\n",
       "      <td>0.00</td>\n",
       "      <td>0</td>\n",
       "    </tr>\n",
       "  </tbody>\n",
       "</table>\n",
       "</div>"
      ],
      "text/plain": [
       "       Age  Weight  BodyTemperature  OxygenLevel  HeartRate  Systolic  \\\n",
       "1135 36.00   83.00            37.00        97.50      68.50    111.00   \n",
       "785  36.00   83.00            38.41        93.71      97.43    187.43   \n",
       "570  36.00   83.00            37.00        98.00      70.00    117.33   \n",
       "279  30.00   83.00            37.11        97.12      82.26    123.28   \n",
       "865  36.00   83.00            38.15        99.67      89.17    192.00   \n",
       "\n",
       "      Diastolic  StepCount  TimeInBed  RespiratoryRate  StressLevel  Diseases  \n",
       "1135      69.00    5522.63     422.57            15.00         0.00         0  \n",
       "785       74.43    8960.86     370.14            17.43         0.00         0  \n",
       "570       66.33     139.33     422.57            14.00         0.00         0  \n",
       "279       71.77     153.91     480.00            15.09         1.00         1  \n",
       "865       71.00    8755.17     363.17            11.00         0.00         0  "
      ]
     },
     "execution_count": 494,
     "metadata": {},
     "output_type": "execute_result"
    }
   ],
   "source": [
    "X_test.head()"
   ]
  },
  {
   "cell_type": "code",
   "execution_count": 495,
   "id": "377a6eb9",
   "metadata": {
    "scrolled": true
   },
   "outputs": [
    {
     "data": {
      "text/plain": [
       "1135    0\n",
       "785     1\n",
       "570     0\n",
       "279     1\n",
       "865     1\n",
       "Name: Risk, dtype: int32"
      ]
     },
     "execution_count": 495,
     "metadata": {},
     "output_type": "execute_result"
    }
   ],
   "source": [
    "y_test.head()"
   ]
  },
  {
   "cell_type": "markdown",
   "id": "60ef6159",
   "metadata": {},
   "source": [
    "#### Feature Scaling"
   ]
  },
  {
   "cell_type": "code",
   "execution_count": 496,
   "id": "f04ecbcc",
   "metadata": {},
   "outputs": [],
   "source": [
    "# columns_to_scale = ['Age', 'Weight', 'BodyTemperature', 'OxygenLevel', 'HeartRate', \n",
    "#                    'Systolic', 'Diastolic', 'StepCount', 'TimeInBed', 'RespiratoryRate']"
   ]
  },
  {
   "cell_type": "code",
   "execution_count": 497,
   "id": "c1e8f736",
   "metadata": {},
   "outputs": [
    {
     "data": {
      "text/html": [
       "<div>\n",
       "<style scoped>\n",
       "    .dataframe tbody tr th:only-of-type {\n",
       "        vertical-align: middle;\n",
       "    }\n",
       "\n",
       "    .dataframe tbody tr th {\n",
       "        vertical-align: top;\n",
       "    }\n",
       "\n",
       "    .dataframe thead th {\n",
       "        text-align: right;\n",
       "    }\n",
       "</style>\n",
       "<table border=\"1\" class=\"dataframe\">\n",
       "  <thead>\n",
       "    <tr style=\"text-align: right;\">\n",
       "      <th></th>\n",
       "      <th>Age</th>\n",
       "      <th>Weight</th>\n",
       "      <th>BodyTemperature</th>\n",
       "      <th>OxygenLevel</th>\n",
       "      <th>HeartRate</th>\n",
       "      <th>Systolic</th>\n",
       "      <th>Diastolic</th>\n",
       "      <th>StepCount</th>\n",
       "      <th>TimeInBed</th>\n",
       "      <th>RespiratoryRate</th>\n",
       "    </tr>\n",
       "  </thead>\n",
       "  <tbody>\n",
       "    <tr>\n",
       "      <th>616</th>\n",
       "      <td>36.00</td>\n",
       "      <td>83.00</td>\n",
       "      <td>37.00</td>\n",
       "      <td>100.00</td>\n",
       "      <td>65.00</td>\n",
       "      <td>96.00</td>\n",
       "      <td>61.00</td>\n",
       "      <td>5522.63</td>\n",
       "      <td>422.57</td>\n",
       "      <td>10.00</td>\n",
       "    </tr>\n",
       "    <tr>\n",
       "      <th>843</th>\n",
       "      <td>36.00</td>\n",
       "      <td>83.00</td>\n",
       "      <td>37.90</td>\n",
       "      <td>99.11</td>\n",
       "      <td>90.33</td>\n",
       "      <td>202.56</td>\n",
       "      <td>85.78</td>\n",
       "      <td>8356.44</td>\n",
       "      <td>429.78</td>\n",
       "      <td>14.89</td>\n",
       "    </tr>\n",
       "    <tr>\n",
       "      <th>277</th>\n",
       "      <td>44.00</td>\n",
       "      <td>270.00</td>\n",
       "      <td>37.00</td>\n",
       "      <td>97.33</td>\n",
       "      <td>58.33</td>\n",
       "      <td>101.00</td>\n",
       "      <td>64.67</td>\n",
       "      <td>5522.63</td>\n",
       "      <td>422.57</td>\n",
       "      <td>10.33</td>\n",
       "    </tr>\n",
       "    <tr>\n",
       "      <th>630</th>\n",
       "      <td>65.00</td>\n",
       "      <td>210.00</td>\n",
       "      <td>37.44</td>\n",
       "      <td>97.59</td>\n",
       "      <td>55.36</td>\n",
       "      <td>120.19</td>\n",
       "      <td>69.36</td>\n",
       "      <td>2711.41</td>\n",
       "      <td>335.00</td>\n",
       "      <td>11.62</td>\n",
       "    </tr>\n",
       "    <tr>\n",
       "      <th>1234</th>\n",
       "      <td>36.00</td>\n",
       "      <td>83.00</td>\n",
       "      <td>37.00</td>\n",
       "      <td>99.00</td>\n",
       "      <td>83.00</td>\n",
       "      <td>119.00</td>\n",
       "      <td>63.00</td>\n",
       "      <td>53.00</td>\n",
       "      <td>422.57</td>\n",
       "      <td>13.00</td>\n",
       "    </tr>\n",
       "  </tbody>\n",
       "</table>\n",
       "</div>"
      ],
      "text/plain": [
       "       Age  Weight  BodyTemperature  OxygenLevel  HeartRate  Systolic  \\\n",
       "616  36.00   83.00            37.00       100.00      65.00     96.00   \n",
       "843  36.00   83.00            37.90        99.11      90.33    202.56   \n",
       "277  44.00  270.00            37.00        97.33      58.33    101.00   \n",
       "630  65.00  210.00            37.44        97.59      55.36    120.19   \n",
       "1234 36.00   83.00            37.00        99.00      83.00    119.00   \n",
       "\n",
       "      Diastolic  StepCount  TimeInBed  RespiratoryRate  \n",
       "616       61.00    5522.63     422.57            10.00  \n",
       "843       85.78    8356.44     429.78            14.89  \n",
       "277       64.67    5522.63     422.57            10.33  \n",
       "630       69.36    2711.41     335.00            11.62  \n",
       "1234      63.00      53.00     422.57            13.00  "
      ]
     },
     "execution_count": 497,
     "metadata": {},
     "output_type": "execute_result"
    }
   ],
   "source": [
    "# Create dataframe for training columns to scale\n",
    "X_train_to_scale = X_train.iloc[:, :10]\n",
    "\n",
    "X_train_to_scale.head()"
   ]
  },
  {
   "cell_type": "code",
   "execution_count": 498,
   "id": "a1ace680",
   "metadata": {},
   "outputs": [
    {
     "data": {
      "text/html": [
       "<div>\n",
       "<style scoped>\n",
       "    .dataframe tbody tr th:only-of-type {\n",
       "        vertical-align: middle;\n",
       "    }\n",
       "\n",
       "    .dataframe tbody tr th {\n",
       "        vertical-align: top;\n",
       "    }\n",
       "\n",
       "    .dataframe thead th {\n",
       "        text-align: right;\n",
       "    }\n",
       "</style>\n",
       "<table border=\"1\" class=\"dataframe\">\n",
       "  <thead>\n",
       "    <tr style=\"text-align: right;\">\n",
       "      <th></th>\n",
       "      <th>StressLevel</th>\n",
       "      <th>Diseases</th>\n",
       "    </tr>\n",
       "  </thead>\n",
       "  <tbody>\n",
       "    <tr>\n",
       "      <th>616</th>\n",
       "      <td>0.00</td>\n",
       "      <td>0</td>\n",
       "    </tr>\n",
       "    <tr>\n",
       "      <th>843</th>\n",
       "      <td>0.00</td>\n",
       "      <td>0</td>\n",
       "    </tr>\n",
       "    <tr>\n",
       "      <th>277</th>\n",
       "      <td>0.00</td>\n",
       "      <td>0</td>\n",
       "    </tr>\n",
       "    <tr>\n",
       "      <th>630</th>\n",
       "      <td>1.00</td>\n",
       "      <td>0</td>\n",
       "    </tr>\n",
       "    <tr>\n",
       "      <th>1234</th>\n",
       "      <td>0.00</td>\n",
       "      <td>1</td>\n",
       "    </tr>\n",
       "  </tbody>\n",
       "</table>\n",
       "</div>"
      ],
      "text/plain": [
       "      StressLevel  Diseases\n",
       "616          0.00         0\n",
       "843          0.00         0\n",
       "277          0.00         0\n",
       "630          1.00         0\n",
       "1234         0.00         1"
      ]
     },
     "execution_count": 498,
     "metadata": {},
     "output_type": "execute_result"
    }
   ],
   "source": [
    "# Create dataframe for training columns not to scale\n",
    "X_train_not_to_scale = X_train.iloc[:, 10:]\n",
    "\n",
    "X_train_not_to_scale.head()"
   ]
  },
  {
   "cell_type": "code",
   "execution_count": 499,
   "id": "e3de142d",
   "metadata": {},
   "outputs": [
    {
     "data": {
      "text/html": [
       "<div>\n",
       "<style scoped>\n",
       "    .dataframe tbody tr th:only-of-type {\n",
       "        vertical-align: middle;\n",
       "    }\n",
       "\n",
       "    .dataframe tbody tr th {\n",
       "        vertical-align: top;\n",
       "    }\n",
       "\n",
       "    .dataframe thead th {\n",
       "        text-align: right;\n",
       "    }\n",
       "</style>\n",
       "<table border=\"1\" class=\"dataframe\">\n",
       "  <thead>\n",
       "    <tr style=\"text-align: right;\">\n",
       "      <th></th>\n",
       "      <th>Age</th>\n",
       "      <th>Weight</th>\n",
       "      <th>BodyTemperature</th>\n",
       "      <th>OxygenLevel</th>\n",
       "      <th>HeartRate</th>\n",
       "      <th>Systolic</th>\n",
       "      <th>Diastolic</th>\n",
       "      <th>StepCount</th>\n",
       "      <th>TimeInBed</th>\n",
       "      <th>RespiratoryRate</th>\n",
       "    </tr>\n",
       "  </thead>\n",
       "  <tbody>\n",
       "    <tr>\n",
       "      <th>1135</th>\n",
       "      <td>36.00</td>\n",
       "      <td>83.00</td>\n",
       "      <td>37.00</td>\n",
       "      <td>97.50</td>\n",
       "      <td>68.50</td>\n",
       "      <td>111.00</td>\n",
       "      <td>69.00</td>\n",
       "      <td>5522.63</td>\n",
       "      <td>422.57</td>\n",
       "      <td>15.00</td>\n",
       "    </tr>\n",
       "    <tr>\n",
       "      <th>785</th>\n",
       "      <td>36.00</td>\n",
       "      <td>83.00</td>\n",
       "      <td>38.41</td>\n",
       "      <td>93.71</td>\n",
       "      <td>97.43</td>\n",
       "      <td>187.43</td>\n",
       "      <td>74.43</td>\n",
       "      <td>8960.86</td>\n",
       "      <td>370.14</td>\n",
       "      <td>17.43</td>\n",
       "    </tr>\n",
       "    <tr>\n",
       "      <th>570</th>\n",
       "      <td>36.00</td>\n",
       "      <td>83.00</td>\n",
       "      <td>37.00</td>\n",
       "      <td>98.00</td>\n",
       "      <td>70.00</td>\n",
       "      <td>117.33</td>\n",
       "      <td>66.33</td>\n",
       "      <td>139.33</td>\n",
       "      <td>422.57</td>\n",
       "      <td>14.00</td>\n",
       "    </tr>\n",
       "    <tr>\n",
       "      <th>279</th>\n",
       "      <td>30.00</td>\n",
       "      <td>83.00</td>\n",
       "      <td>37.11</td>\n",
       "      <td>97.12</td>\n",
       "      <td>82.26</td>\n",
       "      <td>123.28</td>\n",
       "      <td>71.77</td>\n",
       "      <td>153.91</td>\n",
       "      <td>480.00</td>\n",
       "      <td>15.09</td>\n",
       "    </tr>\n",
       "    <tr>\n",
       "      <th>865</th>\n",
       "      <td>36.00</td>\n",
       "      <td>83.00</td>\n",
       "      <td>38.15</td>\n",
       "      <td>99.67</td>\n",
       "      <td>89.17</td>\n",
       "      <td>192.00</td>\n",
       "      <td>71.00</td>\n",
       "      <td>8755.17</td>\n",
       "      <td>363.17</td>\n",
       "      <td>11.00</td>\n",
       "    </tr>\n",
       "  </tbody>\n",
       "</table>\n",
       "</div>"
      ],
      "text/plain": [
       "       Age  Weight  BodyTemperature  OxygenLevel  HeartRate  Systolic  \\\n",
       "1135 36.00   83.00            37.00        97.50      68.50    111.00   \n",
       "785  36.00   83.00            38.41        93.71      97.43    187.43   \n",
       "570  36.00   83.00            37.00        98.00      70.00    117.33   \n",
       "279  30.00   83.00            37.11        97.12      82.26    123.28   \n",
       "865  36.00   83.00            38.15        99.67      89.17    192.00   \n",
       "\n",
       "      Diastolic  StepCount  TimeInBed  RespiratoryRate  \n",
       "1135      69.00    5522.63     422.57            15.00  \n",
       "785       74.43    8960.86     370.14            17.43  \n",
       "570       66.33     139.33     422.57            14.00  \n",
       "279       71.77     153.91     480.00            15.09  \n",
       "865       71.00    8755.17     363.17            11.00  "
      ]
     },
     "execution_count": 499,
     "metadata": {},
     "output_type": "execute_result"
    }
   ],
   "source": [
    "# Create dataframe for testing columns to scale\n",
    "X_test_to_scale = X_test.iloc[:, :10]  # Columns to scale\n",
    "\n",
    "X_test_to_scale.head()"
   ]
  },
  {
   "cell_type": "code",
   "execution_count": 500,
   "id": "2a26bf1f",
   "metadata": {
    "scrolled": true
   },
   "outputs": [
    {
     "data": {
      "text/html": [
       "<div>\n",
       "<style scoped>\n",
       "    .dataframe tbody tr th:only-of-type {\n",
       "        vertical-align: middle;\n",
       "    }\n",
       "\n",
       "    .dataframe tbody tr th {\n",
       "        vertical-align: top;\n",
       "    }\n",
       "\n",
       "    .dataframe thead th {\n",
       "        text-align: right;\n",
       "    }\n",
       "</style>\n",
       "<table border=\"1\" class=\"dataframe\">\n",
       "  <thead>\n",
       "    <tr style=\"text-align: right;\">\n",
       "      <th></th>\n",
       "      <th>StressLevel</th>\n",
       "      <th>Diseases</th>\n",
       "    </tr>\n",
       "  </thead>\n",
       "  <tbody>\n",
       "    <tr>\n",
       "      <th>1135</th>\n",
       "      <td>0.00</td>\n",
       "      <td>0</td>\n",
       "    </tr>\n",
       "    <tr>\n",
       "      <th>785</th>\n",
       "      <td>0.00</td>\n",
       "      <td>0</td>\n",
       "    </tr>\n",
       "    <tr>\n",
       "      <th>570</th>\n",
       "      <td>0.00</td>\n",
       "      <td>0</td>\n",
       "    </tr>\n",
       "    <tr>\n",
       "      <th>279</th>\n",
       "      <td>1.00</td>\n",
       "      <td>1</td>\n",
       "    </tr>\n",
       "    <tr>\n",
       "      <th>865</th>\n",
       "      <td>0.00</td>\n",
       "      <td>0</td>\n",
       "    </tr>\n",
       "  </tbody>\n",
       "</table>\n",
       "</div>"
      ],
      "text/plain": [
       "      StressLevel  Diseases\n",
       "1135         0.00         0\n",
       "785          0.00         0\n",
       "570          0.00         0\n",
       "279          1.00         1\n",
       "865          0.00         0"
      ]
     },
     "execution_count": 500,
     "metadata": {},
     "output_type": "execute_result"
    }
   ],
   "source": [
    "# Create dataframe for testing columns not to scale\n",
    "X_test_not_to_scale = X_test.iloc[:, 10:]\n",
    "\n",
    "X_test_not_to_scale.head()"
   ]
  },
  {
   "cell_type": "code",
   "execution_count": 501,
   "id": "cba5b38e",
   "metadata": {},
   "outputs": [],
   "source": [
    "from sklearn.preprocessing import StandardScaler"
   ]
  },
  {
   "cell_type": "code",
   "execution_count": 502,
   "id": "8e320506",
   "metadata": {},
   "outputs": [],
   "source": [
    "# Instantiate the scaler\n",
    "scaler = StandardScaler()"
   ]
  },
  {
   "cell_type": "code",
   "execution_count": 503,
   "id": "0572287b",
   "metadata": {},
   "outputs": [],
   "source": [
    "# Scale the columns\n",
    "X_train_scaled = scaler.fit_transform(X_train_to_scale)\n",
    "X_test_scaled = scaler.transform(X_test_to_scale)"
   ]
  },
  {
   "cell_type": "code",
   "execution_count": 504,
   "id": "cabf3d3b",
   "metadata": {},
   "outputs": [],
   "source": [
    "# Convert into a pandas dataframe\n",
    "X_train_scaled_df = pd.DataFrame(X_train_scaled, index=X_train_to_scale.index, columns=X_train_to_scale.columns)\n",
    "X_test_scaled_df = pd.DataFrame(X_test_scaled, index=X_test_to_scale.index, columns=X_test_to_scale.columns)"
   ]
  },
  {
   "cell_type": "markdown",
   "id": "a081ad03",
   "metadata": {},
   "source": [
    "#### Combine X Train Dataframe"
   ]
  },
  {
   "cell_type": "code",
   "execution_count": 505,
   "id": "52ac7912",
   "metadata": {},
   "outputs": [
    {
     "data": {
      "text/html": [
       "<div>\n",
       "<style scoped>\n",
       "    .dataframe tbody tr th:only-of-type {\n",
       "        vertical-align: middle;\n",
       "    }\n",
       "\n",
       "    .dataframe tbody tr th {\n",
       "        vertical-align: top;\n",
       "    }\n",
       "\n",
       "    .dataframe thead th {\n",
       "        text-align: right;\n",
       "    }\n",
       "</style>\n",
       "<table border=\"1\" class=\"dataframe\">\n",
       "  <thead>\n",
       "    <tr style=\"text-align: right;\">\n",
       "      <th></th>\n",
       "      <th>Age</th>\n",
       "      <th>Weight</th>\n",
       "      <th>BodyTemperature</th>\n",
       "      <th>OxygenLevel</th>\n",
       "      <th>HeartRate</th>\n",
       "      <th>Systolic</th>\n",
       "      <th>Diastolic</th>\n",
       "      <th>StepCount</th>\n",
       "      <th>TimeInBed</th>\n",
       "      <th>RespiratoryRate</th>\n",
       "    </tr>\n",
       "  </thead>\n",
       "  <tbody>\n",
       "    <tr>\n",
       "      <th>616</th>\n",
       "      <td>0.04</td>\n",
       "      <td>-0.12</td>\n",
       "      <td>-0.57</td>\n",
       "      <td>0.76</td>\n",
       "      <td>-1.07</td>\n",
       "      <td>-1.14</td>\n",
       "      <td>-1.25</td>\n",
       "      <td>-0.04</td>\n",
       "      <td>0.06</td>\n",
       "      <td>-0.95</td>\n",
       "    </tr>\n",
       "    <tr>\n",
       "      <th>843</th>\n",
       "      <td>0.04</td>\n",
       "      <td>-0.12</td>\n",
       "      <td>0.80</td>\n",
       "      <td>0.49</td>\n",
       "      <td>0.83</td>\n",
       "      <td>1.88</td>\n",
       "      <td>1.05</td>\n",
       "      <td>0.94</td>\n",
       "      <td>0.19</td>\n",
       "      <td>0.39</td>\n",
       "    </tr>\n",
       "    <tr>\n",
       "      <th>277</th>\n",
       "      <td>1.12</td>\n",
       "      <td>9.40</td>\n",
       "      <td>-0.57</td>\n",
       "      <td>-0.05</td>\n",
       "      <td>-1.58</td>\n",
       "      <td>-0.99</td>\n",
       "      <td>-0.91</td>\n",
       "      <td>-0.04</td>\n",
       "      <td>0.06</td>\n",
       "      <td>-0.86</td>\n",
       "    </tr>\n",
       "    <tr>\n",
       "      <th>630</th>\n",
       "      <td>3.94</td>\n",
       "      <td>6.34</td>\n",
       "      <td>0.10</td>\n",
       "      <td>0.03</td>\n",
       "      <td>-1.80</td>\n",
       "      <td>-0.45</td>\n",
       "      <td>-0.48</td>\n",
       "      <td>-1.00</td>\n",
       "      <td>-1.55</td>\n",
       "      <td>-0.51</td>\n",
       "    </tr>\n",
       "    <tr>\n",
       "      <th>1234</th>\n",
       "      <td>0.04</td>\n",
       "      <td>-0.12</td>\n",
       "      <td>-0.57</td>\n",
       "      <td>0.46</td>\n",
       "      <td>0.28</td>\n",
       "      <td>-0.48</td>\n",
       "      <td>-1.07</td>\n",
       "      <td>-1.91</td>\n",
       "      <td>0.06</td>\n",
       "      <td>-0.13</td>\n",
       "    </tr>\n",
       "  </tbody>\n",
       "</table>\n",
       "</div>"
      ],
      "text/plain": [
       "      Age  Weight  BodyTemperature  OxygenLevel  HeartRate  Systolic  \\\n",
       "616  0.04   -0.12            -0.57         0.76      -1.07     -1.14   \n",
       "843  0.04   -0.12             0.80         0.49       0.83      1.88   \n",
       "277  1.12    9.40            -0.57        -0.05      -1.58     -0.99   \n",
       "630  3.94    6.34             0.10         0.03      -1.80     -0.45   \n",
       "1234 0.04   -0.12            -0.57         0.46       0.28     -0.48   \n",
       "\n",
       "      Diastolic  StepCount  TimeInBed  RespiratoryRate  \n",
       "616       -1.25      -0.04       0.06            -0.95  \n",
       "843        1.05       0.94       0.19             0.39  \n",
       "277       -0.91      -0.04       0.06            -0.86  \n",
       "630       -0.48      -1.00      -1.55            -0.51  \n",
       "1234      -1.07      -1.91       0.06            -0.13  "
      ]
     },
     "execution_count": 505,
     "metadata": {},
     "output_type": "execute_result"
    }
   ],
   "source": [
    "X_train_scaled_df.head()"
   ]
  },
  {
   "cell_type": "code",
   "execution_count": 506,
   "id": "03fec600",
   "metadata": {},
   "outputs": [
    {
     "data": {
      "text/html": [
       "<div>\n",
       "<style scoped>\n",
       "    .dataframe tbody tr th:only-of-type {\n",
       "        vertical-align: middle;\n",
       "    }\n",
       "\n",
       "    .dataframe tbody tr th {\n",
       "        vertical-align: top;\n",
       "    }\n",
       "\n",
       "    .dataframe thead th {\n",
       "        text-align: right;\n",
       "    }\n",
       "</style>\n",
       "<table border=\"1\" class=\"dataframe\">\n",
       "  <thead>\n",
       "    <tr style=\"text-align: right;\">\n",
       "      <th></th>\n",
       "      <th>StressLevel</th>\n",
       "      <th>Diseases</th>\n",
       "    </tr>\n",
       "  </thead>\n",
       "  <tbody>\n",
       "    <tr>\n",
       "      <th>616</th>\n",
       "      <td>0.00</td>\n",
       "      <td>0</td>\n",
       "    </tr>\n",
       "    <tr>\n",
       "      <th>843</th>\n",
       "      <td>0.00</td>\n",
       "      <td>0</td>\n",
       "    </tr>\n",
       "    <tr>\n",
       "      <th>277</th>\n",
       "      <td>0.00</td>\n",
       "      <td>0</td>\n",
       "    </tr>\n",
       "    <tr>\n",
       "      <th>630</th>\n",
       "      <td>1.00</td>\n",
       "      <td>0</td>\n",
       "    </tr>\n",
       "    <tr>\n",
       "      <th>1234</th>\n",
       "      <td>0.00</td>\n",
       "      <td>1</td>\n",
       "    </tr>\n",
       "  </tbody>\n",
       "</table>\n",
       "</div>"
      ],
      "text/plain": [
       "      StressLevel  Diseases\n",
       "616          0.00         0\n",
       "843          0.00         0\n",
       "277          0.00         0\n",
       "630          1.00         0\n",
       "1234         0.00         1"
      ]
     },
     "execution_count": 506,
     "metadata": {},
     "output_type": "execute_result"
    }
   ],
   "source": [
    "X_train_not_to_scale.head()"
   ]
  },
  {
   "cell_type": "code",
   "execution_count": 507,
   "id": "09c1aa87",
   "metadata": {
    "scrolled": false
   },
   "outputs": [
    {
     "data": {
      "text/html": [
       "<div>\n",
       "<style scoped>\n",
       "    .dataframe tbody tr th:only-of-type {\n",
       "        vertical-align: middle;\n",
       "    }\n",
       "\n",
       "    .dataframe tbody tr th {\n",
       "        vertical-align: top;\n",
       "    }\n",
       "\n",
       "    .dataframe thead th {\n",
       "        text-align: right;\n",
       "    }\n",
       "</style>\n",
       "<table border=\"1\" class=\"dataframe\">\n",
       "  <thead>\n",
       "    <tr style=\"text-align: right;\">\n",
       "      <th></th>\n",
       "      <th>Age</th>\n",
       "      <th>Weight</th>\n",
       "      <th>BodyTemperature</th>\n",
       "      <th>OxygenLevel</th>\n",
       "      <th>HeartRate</th>\n",
       "      <th>Systolic</th>\n",
       "      <th>Diastolic</th>\n",
       "      <th>StepCount</th>\n",
       "      <th>TimeInBed</th>\n",
       "      <th>RespiratoryRate</th>\n",
       "      <th>StressLevel</th>\n",
       "      <th>Diseases</th>\n",
       "    </tr>\n",
       "  </thead>\n",
       "  <tbody>\n",
       "    <tr>\n",
       "      <th>616</th>\n",
       "      <td>0.04</td>\n",
       "      <td>-0.12</td>\n",
       "      <td>-0.57</td>\n",
       "      <td>0.76</td>\n",
       "      <td>-1.07</td>\n",
       "      <td>-1.14</td>\n",
       "      <td>-1.25</td>\n",
       "      <td>-0.04</td>\n",
       "      <td>0.06</td>\n",
       "      <td>-0.95</td>\n",
       "      <td>0.00</td>\n",
       "      <td>0</td>\n",
       "    </tr>\n",
       "    <tr>\n",
       "      <th>843</th>\n",
       "      <td>0.04</td>\n",
       "      <td>-0.12</td>\n",
       "      <td>0.80</td>\n",
       "      <td>0.49</td>\n",
       "      <td>0.83</td>\n",
       "      <td>1.88</td>\n",
       "      <td>1.05</td>\n",
       "      <td>0.94</td>\n",
       "      <td>0.19</td>\n",
       "      <td>0.39</td>\n",
       "      <td>0.00</td>\n",
       "      <td>0</td>\n",
       "    </tr>\n",
       "    <tr>\n",
       "      <th>277</th>\n",
       "      <td>1.12</td>\n",
       "      <td>9.40</td>\n",
       "      <td>-0.57</td>\n",
       "      <td>-0.05</td>\n",
       "      <td>-1.58</td>\n",
       "      <td>-0.99</td>\n",
       "      <td>-0.91</td>\n",
       "      <td>-0.04</td>\n",
       "      <td>0.06</td>\n",
       "      <td>-0.86</td>\n",
       "      <td>0.00</td>\n",
       "      <td>0</td>\n",
       "    </tr>\n",
       "    <tr>\n",
       "      <th>630</th>\n",
       "      <td>3.94</td>\n",
       "      <td>6.34</td>\n",
       "      <td>0.10</td>\n",
       "      <td>0.03</td>\n",
       "      <td>-1.80</td>\n",
       "      <td>-0.45</td>\n",
       "      <td>-0.48</td>\n",
       "      <td>-1.00</td>\n",
       "      <td>-1.55</td>\n",
       "      <td>-0.51</td>\n",
       "      <td>1.00</td>\n",
       "      <td>0</td>\n",
       "    </tr>\n",
       "    <tr>\n",
       "      <th>1234</th>\n",
       "      <td>0.04</td>\n",
       "      <td>-0.12</td>\n",
       "      <td>-0.57</td>\n",
       "      <td>0.46</td>\n",
       "      <td>0.28</td>\n",
       "      <td>-0.48</td>\n",
       "      <td>-1.07</td>\n",
       "      <td>-1.91</td>\n",
       "      <td>0.06</td>\n",
       "      <td>-0.13</td>\n",
       "      <td>0.00</td>\n",
       "      <td>1</td>\n",
       "    </tr>\n",
       "  </tbody>\n",
       "</table>\n",
       "</div>"
      ],
      "text/plain": [
       "      Age  Weight  BodyTemperature  OxygenLevel  HeartRate  Systolic  \\\n",
       "616  0.04   -0.12            -0.57         0.76      -1.07     -1.14   \n",
       "843  0.04   -0.12             0.80         0.49       0.83      1.88   \n",
       "277  1.12    9.40            -0.57        -0.05      -1.58     -0.99   \n",
       "630  3.94    6.34             0.10         0.03      -1.80     -0.45   \n",
       "1234 0.04   -0.12            -0.57         0.46       0.28     -0.48   \n",
       "\n",
       "      Diastolic  StepCount  TimeInBed  RespiratoryRate  StressLevel  Diseases  \n",
       "616       -1.25      -0.04       0.06            -0.95         0.00         0  \n",
       "843        1.05       0.94       0.19             0.39         0.00         0  \n",
       "277       -0.91      -0.04       0.06            -0.86         0.00         0  \n",
       "630       -0.48      -1.00      -1.55            -0.51         1.00         0  \n",
       "1234      -1.07      -1.91       0.06            -0.13         0.00         1  "
      ]
     },
     "execution_count": 507,
     "metadata": {},
     "output_type": "execute_result"
    }
   ],
   "source": [
    "X_train_final = pd.concat([X_train_scaled_df, X_train_not_to_scale], axis=1)\n",
    "\n",
    "X_train_final.head()"
   ]
  },
  {
   "cell_type": "code",
   "execution_count": 508,
   "id": "97651787",
   "metadata": {},
   "outputs": [
    {
     "data": {
      "text/plain": [
       "(523, 12)"
      ]
     },
     "execution_count": 508,
     "metadata": {},
     "output_type": "execute_result"
    }
   ],
   "source": [
    "X_train_final.shape"
   ]
  },
  {
   "cell_type": "markdown",
   "id": "f55fb2da",
   "metadata": {},
   "source": [
    "#### Combine X Test Dataframe"
   ]
  },
  {
   "cell_type": "code",
   "execution_count": 509,
   "id": "f6cdaa50",
   "metadata": {
    "scrolled": false
   },
   "outputs": [
    {
     "data": {
      "text/html": [
       "<div>\n",
       "<style scoped>\n",
       "    .dataframe tbody tr th:only-of-type {\n",
       "        vertical-align: middle;\n",
       "    }\n",
       "\n",
       "    .dataframe tbody tr th {\n",
       "        vertical-align: top;\n",
       "    }\n",
       "\n",
       "    .dataframe thead th {\n",
       "        text-align: right;\n",
       "    }\n",
       "</style>\n",
       "<table border=\"1\" class=\"dataframe\">\n",
       "  <thead>\n",
       "    <tr style=\"text-align: right;\">\n",
       "      <th></th>\n",
       "      <th>Age</th>\n",
       "      <th>Weight</th>\n",
       "      <th>BodyTemperature</th>\n",
       "      <th>OxygenLevel</th>\n",
       "      <th>HeartRate</th>\n",
       "      <th>Systolic</th>\n",
       "      <th>Diastolic</th>\n",
       "      <th>StepCount</th>\n",
       "      <th>TimeInBed</th>\n",
       "      <th>RespiratoryRate</th>\n",
       "    </tr>\n",
       "  </thead>\n",
       "  <tbody>\n",
       "    <tr>\n",
       "      <th>1135</th>\n",
       "      <td>0.04</td>\n",
       "      <td>-0.12</td>\n",
       "      <td>-0.57</td>\n",
       "      <td>0.00</td>\n",
       "      <td>-0.81</td>\n",
       "      <td>-0.71</td>\n",
       "      <td>-0.51</td>\n",
       "      <td>-0.04</td>\n",
       "      <td>0.06</td>\n",
       "      <td>0.42</td>\n",
       "    </tr>\n",
       "    <tr>\n",
       "      <th>785</th>\n",
       "      <td>0.04</td>\n",
       "      <td>-0.12</td>\n",
       "      <td>1.57</td>\n",
       "      <td>-1.15</td>\n",
       "      <td>1.36</td>\n",
       "      <td>1.45</td>\n",
       "      <td>-0.00</td>\n",
       "      <td>1.14</td>\n",
       "      <td>-0.91</td>\n",
       "      <td>1.09</td>\n",
       "    </tr>\n",
       "    <tr>\n",
       "      <th>570</th>\n",
       "      <td>0.04</td>\n",
       "      <td>-0.12</td>\n",
       "      <td>-0.57</td>\n",
       "      <td>0.15</td>\n",
       "      <td>-0.70</td>\n",
       "      <td>-0.53</td>\n",
       "      <td>-0.76</td>\n",
       "      <td>-1.88</td>\n",
       "      <td>0.06</td>\n",
       "      <td>0.15</td>\n",
       "    </tr>\n",
       "    <tr>\n",
       "      <th>279</th>\n",
       "      <td>-0.77</td>\n",
       "      <td>-0.12</td>\n",
       "      <td>-0.40</td>\n",
       "      <td>-0.11</td>\n",
       "      <td>0.22</td>\n",
       "      <td>-0.36</td>\n",
       "      <td>-0.25</td>\n",
       "      <td>-1.88</td>\n",
       "      <td>1.11</td>\n",
       "      <td>0.45</td>\n",
       "    </tr>\n",
       "    <tr>\n",
       "      <th>865</th>\n",
       "      <td>0.04</td>\n",
       "      <td>-0.12</td>\n",
       "      <td>1.17</td>\n",
       "      <td>0.66</td>\n",
       "      <td>0.74</td>\n",
       "      <td>1.58</td>\n",
       "      <td>-0.32</td>\n",
       "      <td>1.07</td>\n",
       "      <td>-1.04</td>\n",
       "      <td>-0.67</td>\n",
       "    </tr>\n",
       "  </tbody>\n",
       "</table>\n",
       "</div>"
      ],
      "text/plain": [
       "       Age  Weight  BodyTemperature  OxygenLevel  HeartRate  Systolic  \\\n",
       "1135  0.04   -0.12            -0.57         0.00      -0.81     -0.71   \n",
       "785   0.04   -0.12             1.57        -1.15       1.36      1.45   \n",
       "570   0.04   -0.12            -0.57         0.15      -0.70     -0.53   \n",
       "279  -0.77   -0.12            -0.40        -0.11       0.22     -0.36   \n",
       "865   0.04   -0.12             1.17         0.66       0.74      1.58   \n",
       "\n",
       "      Diastolic  StepCount  TimeInBed  RespiratoryRate  \n",
       "1135      -0.51      -0.04       0.06             0.42  \n",
       "785       -0.00       1.14      -0.91             1.09  \n",
       "570       -0.76      -1.88       0.06             0.15  \n",
       "279       -0.25      -1.88       1.11             0.45  \n",
       "865       -0.32       1.07      -1.04            -0.67  "
      ]
     },
     "execution_count": 509,
     "metadata": {},
     "output_type": "execute_result"
    }
   ],
   "source": [
    "X_test_scaled_df.head()"
   ]
  },
  {
   "cell_type": "code",
   "execution_count": 510,
   "id": "cc0868e2",
   "metadata": {},
   "outputs": [
    {
     "data": {
      "text/html": [
       "<div>\n",
       "<style scoped>\n",
       "    .dataframe tbody tr th:only-of-type {\n",
       "        vertical-align: middle;\n",
       "    }\n",
       "\n",
       "    .dataframe tbody tr th {\n",
       "        vertical-align: top;\n",
       "    }\n",
       "\n",
       "    .dataframe thead th {\n",
       "        text-align: right;\n",
       "    }\n",
       "</style>\n",
       "<table border=\"1\" class=\"dataframe\">\n",
       "  <thead>\n",
       "    <tr style=\"text-align: right;\">\n",
       "      <th></th>\n",
       "      <th>StressLevel</th>\n",
       "      <th>Diseases</th>\n",
       "    </tr>\n",
       "  </thead>\n",
       "  <tbody>\n",
       "    <tr>\n",
       "      <th>1135</th>\n",
       "      <td>0.00</td>\n",
       "      <td>0</td>\n",
       "    </tr>\n",
       "    <tr>\n",
       "      <th>785</th>\n",
       "      <td>0.00</td>\n",
       "      <td>0</td>\n",
       "    </tr>\n",
       "    <tr>\n",
       "      <th>570</th>\n",
       "      <td>0.00</td>\n",
       "      <td>0</td>\n",
       "    </tr>\n",
       "    <tr>\n",
       "      <th>279</th>\n",
       "      <td>1.00</td>\n",
       "      <td>1</td>\n",
       "    </tr>\n",
       "    <tr>\n",
       "      <th>865</th>\n",
       "      <td>0.00</td>\n",
       "      <td>0</td>\n",
       "    </tr>\n",
       "  </tbody>\n",
       "</table>\n",
       "</div>"
      ],
      "text/plain": [
       "      StressLevel  Diseases\n",
       "1135         0.00         0\n",
       "785          0.00         0\n",
       "570          0.00         0\n",
       "279          1.00         1\n",
       "865          0.00         0"
      ]
     },
     "execution_count": 510,
     "metadata": {},
     "output_type": "execute_result"
    }
   ],
   "source": [
    "X_test_not_to_scale.head()"
   ]
  },
  {
   "cell_type": "code",
   "execution_count": 511,
   "id": "5d163d82",
   "metadata": {},
   "outputs": [
    {
     "data": {
      "text/html": [
       "<div>\n",
       "<style scoped>\n",
       "    .dataframe tbody tr th:only-of-type {\n",
       "        vertical-align: middle;\n",
       "    }\n",
       "\n",
       "    .dataframe tbody tr th {\n",
       "        vertical-align: top;\n",
       "    }\n",
       "\n",
       "    .dataframe thead th {\n",
       "        text-align: right;\n",
       "    }\n",
       "</style>\n",
       "<table border=\"1\" class=\"dataframe\">\n",
       "  <thead>\n",
       "    <tr style=\"text-align: right;\">\n",
       "      <th></th>\n",
       "      <th>Age</th>\n",
       "      <th>Weight</th>\n",
       "      <th>BodyTemperature</th>\n",
       "      <th>OxygenLevel</th>\n",
       "      <th>HeartRate</th>\n",
       "      <th>Systolic</th>\n",
       "      <th>Diastolic</th>\n",
       "      <th>StepCount</th>\n",
       "      <th>TimeInBed</th>\n",
       "      <th>RespiratoryRate</th>\n",
       "      <th>StressLevel</th>\n",
       "      <th>Diseases</th>\n",
       "    </tr>\n",
       "  </thead>\n",
       "  <tbody>\n",
       "    <tr>\n",
       "      <th>1135</th>\n",
       "      <td>0.04</td>\n",
       "      <td>-0.12</td>\n",
       "      <td>-0.57</td>\n",
       "      <td>0.00</td>\n",
       "      <td>-0.81</td>\n",
       "      <td>-0.71</td>\n",
       "      <td>-0.51</td>\n",
       "      <td>-0.04</td>\n",
       "      <td>0.06</td>\n",
       "      <td>0.42</td>\n",
       "      <td>0.00</td>\n",
       "      <td>0</td>\n",
       "    </tr>\n",
       "    <tr>\n",
       "      <th>785</th>\n",
       "      <td>0.04</td>\n",
       "      <td>-0.12</td>\n",
       "      <td>1.57</td>\n",
       "      <td>-1.15</td>\n",
       "      <td>1.36</td>\n",
       "      <td>1.45</td>\n",
       "      <td>-0.00</td>\n",
       "      <td>1.14</td>\n",
       "      <td>-0.91</td>\n",
       "      <td>1.09</td>\n",
       "      <td>0.00</td>\n",
       "      <td>0</td>\n",
       "    </tr>\n",
       "    <tr>\n",
       "      <th>570</th>\n",
       "      <td>0.04</td>\n",
       "      <td>-0.12</td>\n",
       "      <td>-0.57</td>\n",
       "      <td>0.15</td>\n",
       "      <td>-0.70</td>\n",
       "      <td>-0.53</td>\n",
       "      <td>-0.76</td>\n",
       "      <td>-1.88</td>\n",
       "      <td>0.06</td>\n",
       "      <td>0.15</td>\n",
       "      <td>0.00</td>\n",
       "      <td>0</td>\n",
       "    </tr>\n",
       "    <tr>\n",
       "      <th>279</th>\n",
       "      <td>-0.77</td>\n",
       "      <td>-0.12</td>\n",
       "      <td>-0.40</td>\n",
       "      <td>-0.11</td>\n",
       "      <td>0.22</td>\n",
       "      <td>-0.36</td>\n",
       "      <td>-0.25</td>\n",
       "      <td>-1.88</td>\n",
       "      <td>1.11</td>\n",
       "      <td>0.45</td>\n",
       "      <td>1.00</td>\n",
       "      <td>1</td>\n",
       "    </tr>\n",
       "    <tr>\n",
       "      <th>865</th>\n",
       "      <td>0.04</td>\n",
       "      <td>-0.12</td>\n",
       "      <td>1.17</td>\n",
       "      <td>0.66</td>\n",
       "      <td>0.74</td>\n",
       "      <td>1.58</td>\n",
       "      <td>-0.32</td>\n",
       "      <td>1.07</td>\n",
       "      <td>-1.04</td>\n",
       "      <td>-0.67</td>\n",
       "      <td>0.00</td>\n",
       "      <td>0</td>\n",
       "    </tr>\n",
       "  </tbody>\n",
       "</table>\n",
       "</div>"
      ],
      "text/plain": [
       "       Age  Weight  BodyTemperature  OxygenLevel  HeartRate  Systolic  \\\n",
       "1135  0.04   -0.12            -0.57         0.00      -0.81     -0.71   \n",
       "785   0.04   -0.12             1.57        -1.15       1.36      1.45   \n",
       "570   0.04   -0.12            -0.57         0.15      -0.70     -0.53   \n",
       "279  -0.77   -0.12            -0.40        -0.11       0.22     -0.36   \n",
       "865   0.04   -0.12             1.17         0.66       0.74      1.58   \n",
       "\n",
       "      Diastolic  StepCount  TimeInBed  RespiratoryRate  StressLevel  Diseases  \n",
       "1135      -0.51      -0.04       0.06             0.42         0.00         0  \n",
       "785       -0.00       1.14      -0.91             1.09         0.00         0  \n",
       "570       -0.76      -1.88       0.06             0.15         0.00         0  \n",
       "279       -0.25      -1.88       1.11             0.45         1.00         1  \n",
       "865       -0.32       1.07      -1.04            -0.67         0.00         0  "
      ]
     },
     "execution_count": 511,
     "metadata": {},
     "output_type": "execute_result"
    }
   ],
   "source": [
    "X_test_final = pd.concat([X_test_scaled_df, X_test_not_to_scale], axis=1)\n",
    "\n",
    "X_test_final.head()"
   ]
  },
  {
   "cell_type": "code",
   "execution_count": 512,
   "id": "fb730653",
   "metadata": {},
   "outputs": [
    {
     "data": {
      "text/plain": [
       "(225, 12)"
      ]
     },
     "execution_count": 512,
     "metadata": {},
     "output_type": "execute_result"
    }
   ],
   "source": [
    "X_test_final.shape"
   ]
  },
  {
   "cell_type": "code",
   "execution_count": 513,
   "id": "b4d2f459",
   "metadata": {},
   "outputs": [],
   "source": [
    "# import statsmodels.api as sm"
   ]
  },
  {
   "cell_type": "code",
   "execution_count": 514,
   "id": "42e2f4c9",
   "metadata": {},
   "outputs": [],
   "source": [
    "#X_with_constant = sm.add_constant(X_scaled_all)\n",
    "\n",
    "#X_with_constant.head()"
   ]
  },
  {
   "cell_type": "markdown",
   "id": "4877614a",
   "metadata": {},
   "source": [
    "### Fit Logistic Regression Model on Training Set"
   ]
  },
  {
   "cell_type": "code",
   "execution_count": 515,
   "id": "ef36260b",
   "metadata": {},
   "outputs": [],
   "source": [
    "from sklearn.model_selection import cross_val_score, KFold\n",
    "from sklearn.linear_model import LogisticRegression"
   ]
  },
  {
   "cell_type": "code",
   "execution_count": 516,
   "id": "682ed08e",
   "metadata": {},
   "outputs": [],
   "source": [
    "# Instantiate\n",
    "logreg_model = LogisticRegression()"
   ]
  },
  {
   "cell_type": "code",
   "execution_count": 517,
   "id": "db7538f8",
   "metadata": {},
   "outputs": [],
   "source": [
    "# K-fold Cross Validation\n",
    "kf = KFold(n_splits=5, random_state=42, shuffle=True)\n",
    "cv_scores = cross_val_score(logreg_model, X_train_final, y_train, cv=kf)"
   ]
  },
  {
   "cell_type": "code",
   "execution_count": 518,
   "id": "e2b36c1a",
   "metadata": {
    "scrolled": true
   },
   "outputs": [
    {
     "name": "stdout",
     "output_type": "stream",
     "text": [
      "All Training Cross-Validation Scores: [0.81, 0.838, 0.79, 0.827, 0.817]\n",
      "Average Training Cross Validation Scores: 0.816 +- 0.016\n"
     ]
    }
   ],
   "source": [
    "print(f\"All Training Cross-Validation Scores: {[round(x, 3) for x in cv_scores]}\")\n",
    "print(f\"Average Training Cross Validation Scores: {round(np.mean(cv_scores), 3)} +- {round(np.std(cv_scores), 3)}\")"
   ]
  },
  {
   "cell_type": "markdown",
   "id": "8731d0ac",
   "metadata": {},
   "source": [
    "#### Observations\n",
    "- Average accuracy on the training set is **81.6 %** across 5 folds\n",
    "- Minimum accuracy was **79 %** and highest accuracy was **83.8 %**\n",
    "- Standard deviation was **0.016**"
   ]
  },
  {
   "cell_type": "code",
   "execution_count": null,
   "id": "f4261d7c",
   "metadata": {},
   "outputs": [],
   "source": []
  },
  {
   "cell_type": "code",
   "execution_count": 519,
   "id": "7be9645e",
   "metadata": {},
   "outputs": [],
   "source": [
    "from sklearn.model_selection import StratifiedKFold, GridSearchCV"
   ]
  },
  {
   "cell_type": "code",
   "execution_count": 520,
   "id": "19382f9c",
   "metadata": {
    "scrolled": false
   },
   "outputs": [
    {
     "name": "stdout",
     "output_type": "stream",
     "text": [
      "Fitting 5 folds for each of 15 candidates, totalling 75 fits\n",
      "Best parameters: {'C': 0.1, 'solver': 'newton-cg'}\n"
     ]
    }
   ],
   "source": [
    "# Hyperparameter tuning using Grid Search\n",
    "param_grid = {\n",
    "    'C': [0.01, 0.1, 1, 10, 100],\n",
    "    'solver': ['newton-cg', 'lbfgs', 'liblinear']\n",
    "}\n",
    "\n",
    "folds = StratifiedKFold(n_splits = 5, shuffle = True, random_state = 42)\n",
    "\n",
    "grid_search = GridSearchCV(logreg_model, param_grid, cv=folds, n_jobs=-1, verbose=1)\n",
    "grid_search.fit(X_train_final, y_train)\n",
    "\n",
    "# Best parameters\n",
    "print(\"Best parameters:\", grid_search.best_params_)"
   ]
  },
  {
   "cell_type": "markdown",
   "id": "a6bc947a",
   "metadata": {},
   "source": [
    "#### Find the best model"
   ]
  },
  {
   "cell_type": "code",
   "execution_count": 521,
   "id": "b851eaae",
   "metadata": {},
   "outputs": [
    {
     "data": {
      "text/html": [
       "<style>#sk-container-id-7 {color: black;}#sk-container-id-7 pre{padding: 0;}#sk-container-id-7 div.sk-toggleable {background-color: white;}#sk-container-id-7 label.sk-toggleable__label {cursor: pointer;display: block;width: 100%;margin-bottom: 0;padding: 0.3em;box-sizing: border-box;text-align: center;}#sk-container-id-7 label.sk-toggleable__label-arrow:before {content: \"▸\";float: left;margin-right: 0.25em;color: #696969;}#sk-container-id-7 label.sk-toggleable__label-arrow:hover:before {color: black;}#sk-container-id-7 div.sk-estimator:hover label.sk-toggleable__label-arrow:before {color: black;}#sk-container-id-7 div.sk-toggleable__content {max-height: 0;max-width: 0;overflow: hidden;text-align: left;background-color: #f0f8ff;}#sk-container-id-7 div.sk-toggleable__content pre {margin: 0.2em;color: black;border-radius: 0.25em;background-color: #f0f8ff;}#sk-container-id-7 input.sk-toggleable__control:checked~div.sk-toggleable__content {max-height: 200px;max-width: 100%;overflow: auto;}#sk-container-id-7 input.sk-toggleable__control:checked~label.sk-toggleable__label-arrow:before {content: \"▾\";}#sk-container-id-7 div.sk-estimator input.sk-toggleable__control:checked~label.sk-toggleable__label {background-color: #d4ebff;}#sk-container-id-7 div.sk-label input.sk-toggleable__control:checked~label.sk-toggleable__label {background-color: #d4ebff;}#sk-container-id-7 input.sk-hidden--visually {border: 0;clip: rect(1px 1px 1px 1px);clip: rect(1px, 1px, 1px, 1px);height: 1px;margin: -1px;overflow: hidden;padding: 0;position: absolute;width: 1px;}#sk-container-id-7 div.sk-estimator {font-family: monospace;background-color: #f0f8ff;border: 1px dotted black;border-radius: 0.25em;box-sizing: border-box;margin-bottom: 0.5em;}#sk-container-id-7 div.sk-estimator:hover {background-color: #d4ebff;}#sk-container-id-7 div.sk-parallel-item::after {content: \"\";width: 100%;border-bottom: 1px solid gray;flex-grow: 1;}#sk-container-id-7 div.sk-label:hover label.sk-toggleable__label {background-color: #d4ebff;}#sk-container-id-7 div.sk-serial::before {content: \"\";position: absolute;border-left: 1px solid gray;box-sizing: border-box;top: 0;bottom: 0;left: 50%;z-index: 0;}#sk-container-id-7 div.sk-serial {display: flex;flex-direction: column;align-items: center;background-color: white;padding-right: 0.2em;padding-left: 0.2em;position: relative;}#sk-container-id-7 div.sk-item {position: relative;z-index: 1;}#sk-container-id-7 div.sk-parallel {display: flex;align-items: stretch;justify-content: center;background-color: white;position: relative;}#sk-container-id-7 div.sk-item::before, #sk-container-id-7 div.sk-parallel-item::before {content: \"\";position: absolute;border-left: 1px solid gray;box-sizing: border-box;top: 0;bottom: 0;left: 50%;z-index: -1;}#sk-container-id-7 div.sk-parallel-item {display: flex;flex-direction: column;z-index: 1;position: relative;background-color: white;}#sk-container-id-7 div.sk-parallel-item:first-child::after {align-self: flex-end;width: 50%;}#sk-container-id-7 div.sk-parallel-item:last-child::after {align-self: flex-start;width: 50%;}#sk-container-id-7 div.sk-parallel-item:only-child::after {width: 0;}#sk-container-id-7 div.sk-dashed-wrapped {border: 1px dashed gray;margin: 0 0.4em 0.5em 0.4em;box-sizing: border-box;padding-bottom: 0.4em;background-color: white;}#sk-container-id-7 div.sk-label label {font-family: monospace;font-weight: bold;display: inline-block;line-height: 1.2em;}#sk-container-id-7 div.sk-label-container {text-align: center;}#sk-container-id-7 div.sk-container {/* jupyter's `normalize.less` sets `[hidden] { display: none; }` but bootstrap.min.css set `[hidden] { display: none !important; }` so we also need the `!important` here to be able to override the default hidden behavior on the sphinx rendered scikit-learn.org. See: https://github.com/scikit-learn/scikit-learn/issues/21755 */display: inline-block !important;position: relative;}#sk-container-id-7 div.sk-text-repr-fallback {display: none;}</style><div id=\"sk-container-id-7\" class=\"sk-top-container\"><div class=\"sk-text-repr-fallback\"><pre>LogisticRegression(C=0.1, solver=&#x27;newton-cg&#x27;)</pre><b>In a Jupyter environment, please rerun this cell to show the HTML representation or trust the notebook. <br />On GitHub, the HTML representation is unable to render, please try loading this page with nbviewer.org.</b></div><div class=\"sk-container\" hidden><div class=\"sk-item\"><div class=\"sk-estimator sk-toggleable\"><input class=\"sk-toggleable__control sk-hidden--visually\" id=\"sk-estimator-id-7\" type=\"checkbox\" checked><label for=\"sk-estimator-id-7\" class=\"sk-toggleable__label sk-toggleable__label-arrow\">LogisticRegression</label><div class=\"sk-toggleable__content\"><pre>LogisticRegression(C=0.1, solver=&#x27;newton-cg&#x27;)</pre></div></div></div></div></div>"
      ],
      "text/plain": [
       "LogisticRegression(C=0.1, solver='newton-cg')"
      ]
     },
     "execution_count": 521,
     "metadata": {},
     "output_type": "execute_result"
    }
   ],
   "source": [
    "best_model = grid_search.best_estimator_\n",
    "\n",
    "best_model"
   ]
  },
  {
   "cell_type": "markdown",
   "id": "99287b33",
   "metadata": {},
   "source": [
    "#### Fit the best model on the training data"
   ]
  },
  {
   "cell_type": "code",
   "execution_count": 522,
   "id": "9fe06f92",
   "metadata": {
    "scrolled": false
   },
   "outputs": [
    {
     "data": {
      "text/html": [
       "<style>#sk-container-id-8 {color: black;}#sk-container-id-8 pre{padding: 0;}#sk-container-id-8 div.sk-toggleable {background-color: white;}#sk-container-id-8 label.sk-toggleable__label {cursor: pointer;display: block;width: 100%;margin-bottom: 0;padding: 0.3em;box-sizing: border-box;text-align: center;}#sk-container-id-8 label.sk-toggleable__label-arrow:before {content: \"▸\";float: left;margin-right: 0.25em;color: #696969;}#sk-container-id-8 label.sk-toggleable__label-arrow:hover:before {color: black;}#sk-container-id-8 div.sk-estimator:hover label.sk-toggleable__label-arrow:before {color: black;}#sk-container-id-8 div.sk-toggleable__content {max-height: 0;max-width: 0;overflow: hidden;text-align: left;background-color: #f0f8ff;}#sk-container-id-8 div.sk-toggleable__content pre {margin: 0.2em;color: black;border-radius: 0.25em;background-color: #f0f8ff;}#sk-container-id-8 input.sk-toggleable__control:checked~div.sk-toggleable__content {max-height: 200px;max-width: 100%;overflow: auto;}#sk-container-id-8 input.sk-toggleable__control:checked~label.sk-toggleable__label-arrow:before {content: \"▾\";}#sk-container-id-8 div.sk-estimator input.sk-toggleable__control:checked~label.sk-toggleable__label {background-color: #d4ebff;}#sk-container-id-8 div.sk-label input.sk-toggleable__control:checked~label.sk-toggleable__label {background-color: #d4ebff;}#sk-container-id-8 input.sk-hidden--visually {border: 0;clip: rect(1px 1px 1px 1px);clip: rect(1px, 1px, 1px, 1px);height: 1px;margin: -1px;overflow: hidden;padding: 0;position: absolute;width: 1px;}#sk-container-id-8 div.sk-estimator {font-family: monospace;background-color: #f0f8ff;border: 1px dotted black;border-radius: 0.25em;box-sizing: border-box;margin-bottom: 0.5em;}#sk-container-id-8 div.sk-estimator:hover {background-color: #d4ebff;}#sk-container-id-8 div.sk-parallel-item::after {content: \"\";width: 100%;border-bottom: 1px solid gray;flex-grow: 1;}#sk-container-id-8 div.sk-label:hover label.sk-toggleable__label {background-color: #d4ebff;}#sk-container-id-8 div.sk-serial::before {content: \"\";position: absolute;border-left: 1px solid gray;box-sizing: border-box;top: 0;bottom: 0;left: 50%;z-index: 0;}#sk-container-id-8 div.sk-serial {display: flex;flex-direction: column;align-items: center;background-color: white;padding-right: 0.2em;padding-left: 0.2em;position: relative;}#sk-container-id-8 div.sk-item {position: relative;z-index: 1;}#sk-container-id-8 div.sk-parallel {display: flex;align-items: stretch;justify-content: center;background-color: white;position: relative;}#sk-container-id-8 div.sk-item::before, #sk-container-id-8 div.sk-parallel-item::before {content: \"\";position: absolute;border-left: 1px solid gray;box-sizing: border-box;top: 0;bottom: 0;left: 50%;z-index: -1;}#sk-container-id-8 div.sk-parallel-item {display: flex;flex-direction: column;z-index: 1;position: relative;background-color: white;}#sk-container-id-8 div.sk-parallel-item:first-child::after {align-self: flex-end;width: 50%;}#sk-container-id-8 div.sk-parallel-item:last-child::after {align-self: flex-start;width: 50%;}#sk-container-id-8 div.sk-parallel-item:only-child::after {width: 0;}#sk-container-id-8 div.sk-dashed-wrapped {border: 1px dashed gray;margin: 0 0.4em 0.5em 0.4em;box-sizing: border-box;padding-bottom: 0.4em;background-color: white;}#sk-container-id-8 div.sk-label label {font-family: monospace;font-weight: bold;display: inline-block;line-height: 1.2em;}#sk-container-id-8 div.sk-label-container {text-align: center;}#sk-container-id-8 div.sk-container {/* jupyter's `normalize.less` sets `[hidden] { display: none; }` but bootstrap.min.css set `[hidden] { display: none !important; }` so we also need the `!important` here to be able to override the default hidden behavior on the sphinx rendered scikit-learn.org. See: https://github.com/scikit-learn/scikit-learn/issues/21755 */display: inline-block !important;position: relative;}#sk-container-id-8 div.sk-text-repr-fallback {display: none;}</style><div id=\"sk-container-id-8\" class=\"sk-top-container\"><div class=\"sk-text-repr-fallback\"><pre>LogisticRegression(C=0.1, solver=&#x27;newton-cg&#x27;)</pre><b>In a Jupyter environment, please rerun this cell to show the HTML representation or trust the notebook. <br />On GitHub, the HTML representation is unable to render, please try loading this page with nbviewer.org.</b></div><div class=\"sk-container\" hidden><div class=\"sk-item\"><div class=\"sk-estimator sk-toggleable\"><input class=\"sk-toggleable__control sk-hidden--visually\" id=\"sk-estimator-id-8\" type=\"checkbox\" checked><label for=\"sk-estimator-id-8\" class=\"sk-toggleable__label sk-toggleable__label-arrow\">LogisticRegression</label><div class=\"sk-toggleable__content\"><pre>LogisticRegression(C=0.1, solver=&#x27;newton-cg&#x27;)</pre></div></div></div></div></div>"
      ],
      "text/plain": [
       "LogisticRegression(C=0.1, solver='newton-cg')"
      ]
     },
     "execution_count": 522,
     "metadata": {},
     "output_type": "execute_result"
    }
   ],
   "source": [
    "best_model.fit(X_train_final, y_train)"
   ]
  },
  {
   "cell_type": "markdown",
   "id": "530d72ec",
   "metadata": {},
   "source": [
    "#### Model Coefficients"
   ]
  },
  {
   "cell_type": "code",
   "execution_count": 523,
   "id": "1442bc63",
   "metadata": {},
   "outputs": [
    {
     "name": "stdout",
     "output_type": "stream",
     "text": [
      "classes [0 1]\n",
      "intercept  -0.807128196658666\n"
     ]
    },
    {
     "data": {
      "text/html": [
       "<div>\n",
       "<style scoped>\n",
       "    .dataframe tbody tr th:only-of-type {\n",
       "        vertical-align: middle;\n",
       "    }\n",
       "\n",
       "    .dataframe tbody tr th {\n",
       "        vertical-align: top;\n",
       "    }\n",
       "\n",
       "    .dataframe thead th {\n",
       "        text-align: right;\n",
       "    }\n",
       "</style>\n",
       "<table border=\"1\" class=\"dataframe\">\n",
       "  <thead>\n",
       "    <tr style=\"text-align: right;\">\n",
       "      <th></th>\n",
       "      <th>coeff</th>\n",
       "      <th>odds-ratio</th>\n",
       "    </tr>\n",
       "  </thead>\n",
       "  <tbody>\n",
       "    <tr>\n",
       "      <th>Age</th>\n",
       "      <td>-0.14</td>\n",
       "      <td>0.87</td>\n",
       "    </tr>\n",
       "    <tr>\n",
       "      <th>Weight</th>\n",
       "      <td>0.45</td>\n",
       "      <td>1.56</td>\n",
       "    </tr>\n",
       "    <tr>\n",
       "      <th>BodyTemperature</th>\n",
       "      <td>0.45</td>\n",
       "      <td>1.56</td>\n",
       "    </tr>\n",
       "    <tr>\n",
       "      <th>OxygenLevel</th>\n",
       "      <td>-0.08</td>\n",
       "      <td>0.92</td>\n",
       "    </tr>\n",
       "    <tr>\n",
       "      <th>HeartRate</th>\n",
       "      <td>0.19</td>\n",
       "      <td>1.20</td>\n",
       "    </tr>\n",
       "    <tr>\n",
       "      <th>Systolic</th>\n",
       "      <td>1.00</td>\n",
       "      <td>2.71</td>\n",
       "    </tr>\n",
       "    <tr>\n",
       "      <th>Diastolic</th>\n",
       "      <td>0.34</td>\n",
       "      <td>1.40</td>\n",
       "    </tr>\n",
       "    <tr>\n",
       "      <th>StepCount</th>\n",
       "      <td>-0.26</td>\n",
       "      <td>0.77</td>\n",
       "    </tr>\n",
       "    <tr>\n",
       "      <th>TimeInBed</th>\n",
       "      <td>-0.17</td>\n",
       "      <td>0.84</td>\n",
       "    </tr>\n",
       "    <tr>\n",
       "      <th>RespiratoryRate</th>\n",
       "      <td>0.35</td>\n",
       "      <td>1.42</td>\n",
       "    </tr>\n",
       "    <tr>\n",
       "      <th>StressLevel</th>\n",
       "      <td>0.19</td>\n",
       "      <td>1.21</td>\n",
       "    </tr>\n",
       "    <tr>\n",
       "      <th>Diseases</th>\n",
       "      <td>0.35</td>\n",
       "      <td>1.42</td>\n",
       "    </tr>\n",
       "  </tbody>\n",
       "</table>\n",
       "</div>"
      ],
      "text/plain": [
       "                 coeff  odds-ratio\n",
       "Age              -0.14        0.87\n",
       "Weight            0.45        1.56\n",
       "BodyTemperature   0.45        1.56\n",
       "OxygenLevel      -0.08        0.92\n",
       "HeartRate         0.19        1.20\n",
       "Systolic          1.00        2.71\n",
       "Diastolic         0.34        1.40\n",
       "StepCount        -0.26        0.77\n",
       "TimeInBed        -0.17        0.84\n",
       "RespiratoryRate   0.35        1.42\n",
       "StressLevel       0.19        1.21\n",
       "Diseases          0.35        1.42"
      ]
     },
     "execution_count": 523,
     "metadata": {},
     "output_type": "execute_result"
    }
   ],
   "source": [
    "print('classes', best_model.classes_)\n",
    "print('intercept ', best_model.intercept_[0])\n",
    "pd.DataFrame({'coeff': best_model.coef_[0],\n",
    "             'odds-ratio': np.exp(best_model.coef_[0])},\n",
    "             index=X.columns)"
   ]
  },
  {
   "cell_type": "markdown",
   "id": "6c179d88",
   "metadata": {},
   "source": [
    "#### Predict values on the training set"
   ]
  },
  {
   "cell_type": "code",
   "execution_count": 524,
   "id": "d4e54e26",
   "metadata": {},
   "outputs": [],
   "source": [
    "# Training set predictions\n",
    "y_pred_lr_train = best_model.predict(X_train_final)"
   ]
  },
  {
   "cell_type": "markdown",
   "id": "ac34ea31",
   "metadata": {},
   "source": [
    "#### Predict values on the test set"
   ]
  },
  {
   "cell_type": "code",
   "execution_count": 525,
   "id": "838b612f",
   "metadata": {},
   "outputs": [],
   "source": [
    "# Test set predictions\n",
    "y_pred_lr_test = best_model.predict(X_test_final)"
   ]
  },
  {
   "cell_type": "code",
   "execution_count": null,
   "id": "dc8bfbc6",
   "metadata": {},
   "outputs": [],
   "source": []
  },
  {
   "cell_type": "markdown",
   "id": "a0e81af2",
   "metadata": {},
   "source": [
    "### Evaluation of the Logistic Regression Model"
   ]
  },
  {
   "cell_type": "code",
   "execution_count": 526,
   "id": "dda19911",
   "metadata": {},
   "outputs": [],
   "source": [
    "from sklearn.metrics import classification_report, accuracy_score, confusion_matrix, precision_score, recall_score"
   ]
  },
  {
   "cell_type": "markdown",
   "id": "83e109e5",
   "metadata": {},
   "source": [
    "#### Accuracy"
   ]
  },
  {
   "cell_type": "code",
   "execution_count": 527,
   "id": "3d75680a",
   "metadata": {},
   "outputs": [
    {
     "name": "stdout",
     "output_type": "stream",
     "text": [
      "Accuracy of Logistic Regression Model on Training Set: 0.824\n",
      "Accuracy of Logistic Regression Model on Test Set: 0.822\n"
     ]
    }
   ],
   "source": [
    "print(\"Accuracy of Logistic Regression Model on Training Set: \" + str(round(accuracy_score(y_train, y_pred_lr_train), 3)))\n",
    "print(\"Accuracy of Logistic Regression Model on Test Set: \" + str(round(accuracy_score(y_test, y_pred_lr_test),3)))"
   ]
  },
  {
   "cell_type": "markdown",
   "id": "c3007688",
   "metadata": {},
   "source": [
    "#### Observations\n",
    "- Accuracy for the best logistic regression on the test set is **82.2 %**\n",
    "- Accuracy for the best logistic regression on the training set is 82.4 %\n",
    "- Only a .2 % difference, indicating a well fit model (not overfit, not underfit)"
   ]
  },
  {
   "cell_type": "markdown",
   "id": "9c584a59",
   "metadata": {},
   "source": [
    "#### Confusion Matrix"
   ]
  },
  {
   "cell_type": "code",
   "execution_count": 528,
   "id": "ccda2337",
   "metadata": {
    "scrolled": true
   },
   "outputs": [
    {
     "name": "stdout",
     "output_type": "stream",
     "text": [
      "[[115  15]\n",
      " [ 25  70]]\n"
     ]
    }
   ],
   "source": [
    "cm_lr = confusion_matrix(y_test, y_pred_lr_test)\n",
    "\n",
    "print(cm_lr)"
   ]
  },
  {
   "cell_type": "code",
   "execution_count": 529,
   "id": "ac9210f1",
   "metadata": {},
   "outputs": [
    {
     "name": "stdout",
     "output_type": "stream",
     "text": [
      "True Positives: 70\n",
      "False Positives: 15\n",
      "True Negatives: 115\n",
      "False Negatives: 25\n"
     ]
    }
   ],
   "source": [
    "TP_lr = cm_lr[1,1]\n",
    "FP_lr = cm_lr[0,1]\n",
    "TN_lr = cm_lr[0,0]\n",
    "FN_lr = cm_lr[1,0]\n",
    "\n",
    "print(\"True Positives: \" + str(TP_lr))\n",
    "print(\"False Positives: \" + str(FP_lr))\n",
    "print(\"True Negatives: \" + str(TN_lr))\n",
    "print(\"False Negatives: \" + str(FN_lr))"
   ]
  },
  {
   "cell_type": "markdown",
   "id": "cf72b739",
   "metadata": {},
   "source": [
    "#### Observations"
   ]
  },
  {
   "cell_type": "markdown",
   "id": "c65e091d",
   "metadata": {},
   "source": [
    "- 70 correct predictions of risk (True Positives)\n",
    "- 15 instances where risk was predicted but no risk observed (False Positives)\n",
    "- 115 correct predictions of no risk (True Negatives)\n",
    "- 25 instance where risk was not predicted but risk was observed (False Negatives)"
   ]
  },
  {
   "cell_type": "markdown",
   "id": "45e750ff",
   "metadata": {},
   "source": [
    "#### Classification Report"
   ]
  },
  {
   "cell_type": "code",
   "execution_count": 530,
   "id": "92d0ed34",
   "metadata": {
    "scrolled": true
   },
   "outputs": [
    {
     "name": "stdout",
     "output_type": "stream",
     "text": [
      "              precision    recall  f1-score   support\n",
      "\n",
      "           0       0.82      0.88      0.85       130\n",
      "           1       0.82      0.74      0.78        95\n",
      "\n",
      "    accuracy                           0.82       225\n",
      "   macro avg       0.82      0.81      0.81       225\n",
      "weighted avg       0.82      0.82      0.82       225\n",
      "\n"
     ]
    }
   ],
   "source": [
    "print(classification_report(y_test, y_pred_lr_test))"
   ]
  },
  {
   "cell_type": "markdown",
   "id": "5b411192",
   "metadata": {},
   "source": [
    "#### Precision"
   ]
  },
  {
   "cell_type": "code",
   "execution_count": 531,
   "id": "ce1557af",
   "metadata": {},
   "outputs": [
    {
     "name": "stdout",
     "output_type": "stream",
     "text": [
      "82.35\n"
     ]
    }
   ],
   "source": [
    "precision_lr = precision_score(y_test, y_pred_lr_test)\n",
    "\n",
    "print(round(precision_lr * 100, 2))"
   ]
  },
  {
   "cell_type": "markdown",
   "id": "37084527",
   "metadata": {},
   "source": [
    "#### Observations\n",
    "- 70 out of the 85 people our model predicted to be at risk were actually at risk\n",
    "- The precision therefore is 82.35 % (70 / (70 + 15))"
   ]
  },
  {
   "cell_type": "markdown",
   "id": "a08818eb",
   "metadata": {},
   "source": [
    "#### Recall (Also called Sensitivity)"
   ]
  },
  {
   "cell_type": "code",
   "execution_count": 532,
   "id": "470b19aa",
   "metadata": {},
   "outputs": [
    {
     "name": "stdout",
     "output_type": "stream",
     "text": [
      "73.68\n"
     ]
    }
   ],
   "source": [
    "recall_lr = recall_score(y_test, y_pred_lr_test)  \n",
    "\n",
    "print(round(recall_lr * 100, 2))"
   ]
  },
  {
   "cell_type": "markdown",
   "id": "d8c1e296",
   "metadata": {},
   "source": [
    "#### Observations\n",
    "* Our model correctly identified 70 out of the 95 patients who were at risk of hospitalization\n",
    "* The recall therefore is 73.68 % (70 / 95)\n",
    "* Another way: Our model was not able to identify 25 patients who were at risk or 26.31 % (25 / 95)\n"
   ]
  },
  {
   "cell_type": "markdown",
   "id": "ecbd8ef7",
   "metadata": {},
   "source": [
    "#### Specificity"
   ]
  },
  {
   "cell_type": "code",
   "execution_count": 533,
   "id": "ce46bd9c",
   "metadata": {},
   "outputs": [
    {
     "name": "stdout",
     "output_type": "stream",
     "text": [
      "88.46\n"
     ]
    }
   ],
   "source": [
    "specificity_lr = TN_lr / (TN_lr + FP_lr)\n",
    "\n",
    "print(round(specificity_lr * 100, 2))"
   ]
  },
  {
   "cell_type": "markdown",
   "id": "9c68d2d3",
   "metadata": {},
   "source": [
    "#### False Positive Rate (1 - Specificity)"
   ]
  },
  {
   "cell_type": "code",
   "execution_count": 534,
   "id": "69f33c09",
   "metadata": {},
   "outputs": [
    {
     "name": "stdout",
     "output_type": "stream",
     "text": [
      "11.54\n"
     ]
    }
   ],
   "source": [
    "false_positive_rate_lr = 1 - specificity_lr\n",
    "\n",
    "print(round(false_positive_rate_lr * 100, 2))"
   ]
  },
  {
   "cell_type": "code",
   "execution_count": null,
   "id": "0a5831ef",
   "metadata": {},
   "outputs": [],
   "source": []
  },
  {
   "cell_type": "markdown",
   "id": "65580def",
   "metadata": {},
   "source": [
    "### What is the percent chance that a person is admitted to the hospital?"
   ]
  },
  {
   "cell_type": "code",
   "execution_count": 535,
   "id": "626f70ac",
   "metadata": {},
   "outputs": [
    {
     "data": {
      "text/plain": [
       "array([0.1187548 , 0.86682717, 0.17925272, 0.41699057, 0.70575371,\n",
       "       0.25737887, 0.61103971, 0.14931696, 0.77302193, 0.042333  ])"
      ]
     },
     "execution_count": 535,
     "metadata": {},
     "output_type": "execute_result"
    }
   ],
   "source": [
    "y_pred_proba_lr = best_model.predict_proba(X_test_final)[:, 1]\n",
    "\n",
    "y_pred_proba_lr[:10]"
   ]
  },
  {
   "cell_type": "markdown",
   "id": "4307ebdb",
   "metadata": {},
   "source": [
    "### What is the AUC? (Area Under Curve)"
   ]
  },
  {
   "cell_type": "code",
   "execution_count": 536,
   "id": "770177f6",
   "metadata": {},
   "outputs": [],
   "source": [
    "from sklearn import metrics"
   ]
  },
  {
   "cell_type": "code",
   "execution_count": 537,
   "id": "4570ee47",
   "metadata": {},
   "outputs": [],
   "source": [
    "from sklearn.metrics import roc_auc_score"
   ]
  },
  {
   "cell_type": "code",
   "execution_count": 538,
   "id": "df8768bb",
   "metadata": {},
   "outputs": [],
   "source": [
    "# fpr, tpr, _ = metrics.roc_curve(y_test, y_pred_proba_lr)\n",
    "\n",
    "# auc = metrics.roc_auc_score(y_test, y_pred_proba_lr)"
   ]
  },
  {
   "cell_type": "code",
   "execution_count": 539,
   "id": "aa0d7d2f",
   "metadata": {},
   "outputs": [],
   "source": [
    "# print(round(auc, 2))"
   ]
  },
  {
   "cell_type": "code",
   "execution_count": 540,
   "id": "b90cef1c",
   "metadata": {},
   "outputs": [],
   "source": [
    "# logit_roc_auc = roc_auc_score(y_test, best_model.predict(X_test_final))\n",
    "\n",
    "# logit_roc_auc"
   ]
  },
  {
   "cell_type": "code",
   "execution_count": 541,
   "id": "8c3b16e3",
   "metadata": {},
   "outputs": [],
   "source": [
    "# plt.figure(figsize=(7,5))\n",
    "# plt.plot(fpr, tpr, label= 'Logistic Regression AUC = ' + str(round(auc, 2)))\n",
    "# plt.plot([0, 1], [0, 1],'r--', label = 'Random')\n",
    "# plt.title('Receiver Operating Characteric (ROC) Curve', size=16)\n",
    "# plt.xlabel('False Positive Rate', size=14)\n",
    "# plt.ylabel('True Positive Rate', size=14)\n",
    "# plt.legend(loc=4)\n",
    "# plt.show()"
   ]
  },
  {
   "cell_type": "code",
   "execution_count": null,
   "id": "8a7e4260",
   "metadata": {},
   "outputs": [],
   "source": []
  },
  {
   "cell_type": "markdown",
   "id": "c34f55d5",
   "metadata": {},
   "source": [
    "### Fit Random Forest Classifier on Training Set"
   ]
  },
  {
   "cell_type": "code",
   "execution_count": 542,
   "id": "afbd97ae",
   "metadata": {},
   "outputs": [],
   "source": [
    "from sklearn.ensemble import RandomForestClassifier"
   ]
  },
  {
   "cell_type": "code",
   "execution_count": 543,
   "id": "6d10c23e",
   "metadata": {},
   "outputs": [],
   "source": [
    "# Initialize the Random Forest Classifier\n",
    "rf_model = RandomForestClassifier(random_state=42)"
   ]
  },
  {
   "cell_type": "code",
   "execution_count": 544,
   "id": "5ac8dd57",
   "metadata": {},
   "outputs": [],
   "source": [
    "# K-fold Cross Validation\n",
    "kf_rf = KFold(n_splits=5, random_state=42, shuffle=True)\n",
    "\n",
    "cv_scores_rf = cross_val_score(rf_model, X_train_final, y_train, cv=kf_rf)"
   ]
  },
  {
   "cell_type": "code",
   "execution_count": 545,
   "id": "9298a7fb",
   "metadata": {
    "scrolled": true
   },
   "outputs": [
    {
     "name": "stdout",
     "output_type": "stream",
     "text": [
      "All Training Cross-Validation Scores: [0.886, 0.905, 0.838, 0.865, 0.875]\n",
      "Average Training Cross Validation Scores: 0.874 +- 0.022\n"
     ]
    }
   ],
   "source": [
    "print(f\"All Training Cross-Validation Scores: {[round(x, 3) for x in cv_scores_rf]}\")\n",
    "print(f\"Average Training Cross Validation Scores: {round(np.mean(cv_scores_rf), 3)} +- {round(np.std(cv_scores_rf), 3)}\")"
   ]
  },
  {
   "cell_type": "markdown",
   "id": "85654959",
   "metadata": {},
   "source": [
    "#### Observations\n",
    "- Average accuracy on the training set is **87.4 %** across 5 folds\n",
    "- Minimum accuracy was **83.8 %** and highest accuracy was **90.5 %**\n",
    "- Standard deviation was **0.022**"
   ]
  },
  {
   "cell_type": "code",
   "execution_count": null,
   "id": "dec15eda",
   "metadata": {},
   "outputs": [],
   "source": []
  },
  {
   "cell_type": "code",
   "execution_count": 546,
   "id": "b60eac08",
   "metadata": {},
   "outputs": [
    {
     "name": "stdout",
     "output_type": "stream",
     "text": [
      "Fitting 5 folds for each of 675 candidates, totalling 3375 fits\n",
      "Best parameters: {'max_depth': 10, 'max_features': 'sqrt', 'min_samples_leaf': 1, 'min_samples_split': 2, 'n_estimators': 100}\n"
     ]
    }
   ],
   "source": [
    "# Defining the hyperparameter grid\n",
    "param_grid_rf = {\n",
    "    'n_estimators': [100, 200, 300, 400, 500],\n",
    "    'max_depth': [None, 10, 20, 30, 40],\n",
    "    'min_samples_split': [2, 5, 10],\n",
    "    'min_samples_leaf': [1, 2, 4],\n",
    "    'max_features': ['auto', 'sqrt', 'log2']\n",
    "}\n",
    "\n",
    "folds_rf = StratifiedKFold(n_splits = 5, shuffle = True, random_state = 42)\n",
    "\n",
    "grid_search_rf = GridSearchCV(rf_model, param_grid_rf, cv=folds_rf, n_jobs=-1, verbose=2)\n",
    "grid_search_rf.fit(X_train_final, y_train)\n",
    "\n",
    "# Best parameters\n",
    "print(\"Best parameters:\", grid_search_rf.best_params_)"
   ]
  },
  {
   "cell_type": "markdown",
   "id": "3d5bbba0",
   "metadata": {},
   "source": [
    "#### Find the best Random Forest Model"
   ]
  },
  {
   "cell_type": "code",
   "execution_count": 547,
   "id": "df33fbb0",
   "metadata": {},
   "outputs": [
    {
     "data": {
      "text/html": [
       "<style>#sk-container-id-9 {color: black;}#sk-container-id-9 pre{padding: 0;}#sk-container-id-9 div.sk-toggleable {background-color: white;}#sk-container-id-9 label.sk-toggleable__label {cursor: pointer;display: block;width: 100%;margin-bottom: 0;padding: 0.3em;box-sizing: border-box;text-align: center;}#sk-container-id-9 label.sk-toggleable__label-arrow:before {content: \"▸\";float: left;margin-right: 0.25em;color: #696969;}#sk-container-id-9 label.sk-toggleable__label-arrow:hover:before {color: black;}#sk-container-id-9 div.sk-estimator:hover label.sk-toggleable__label-arrow:before {color: black;}#sk-container-id-9 div.sk-toggleable__content {max-height: 0;max-width: 0;overflow: hidden;text-align: left;background-color: #f0f8ff;}#sk-container-id-9 div.sk-toggleable__content pre {margin: 0.2em;color: black;border-radius: 0.25em;background-color: #f0f8ff;}#sk-container-id-9 input.sk-toggleable__control:checked~div.sk-toggleable__content {max-height: 200px;max-width: 100%;overflow: auto;}#sk-container-id-9 input.sk-toggleable__control:checked~label.sk-toggleable__label-arrow:before {content: \"▾\";}#sk-container-id-9 div.sk-estimator input.sk-toggleable__control:checked~label.sk-toggleable__label {background-color: #d4ebff;}#sk-container-id-9 div.sk-label input.sk-toggleable__control:checked~label.sk-toggleable__label {background-color: #d4ebff;}#sk-container-id-9 input.sk-hidden--visually {border: 0;clip: rect(1px 1px 1px 1px);clip: rect(1px, 1px, 1px, 1px);height: 1px;margin: -1px;overflow: hidden;padding: 0;position: absolute;width: 1px;}#sk-container-id-9 div.sk-estimator {font-family: monospace;background-color: #f0f8ff;border: 1px dotted black;border-radius: 0.25em;box-sizing: border-box;margin-bottom: 0.5em;}#sk-container-id-9 div.sk-estimator:hover {background-color: #d4ebff;}#sk-container-id-9 div.sk-parallel-item::after {content: \"\";width: 100%;border-bottom: 1px solid gray;flex-grow: 1;}#sk-container-id-9 div.sk-label:hover label.sk-toggleable__label {background-color: #d4ebff;}#sk-container-id-9 div.sk-serial::before {content: \"\";position: absolute;border-left: 1px solid gray;box-sizing: border-box;top: 0;bottom: 0;left: 50%;z-index: 0;}#sk-container-id-9 div.sk-serial {display: flex;flex-direction: column;align-items: center;background-color: white;padding-right: 0.2em;padding-left: 0.2em;position: relative;}#sk-container-id-9 div.sk-item {position: relative;z-index: 1;}#sk-container-id-9 div.sk-parallel {display: flex;align-items: stretch;justify-content: center;background-color: white;position: relative;}#sk-container-id-9 div.sk-item::before, #sk-container-id-9 div.sk-parallel-item::before {content: \"\";position: absolute;border-left: 1px solid gray;box-sizing: border-box;top: 0;bottom: 0;left: 50%;z-index: -1;}#sk-container-id-9 div.sk-parallel-item {display: flex;flex-direction: column;z-index: 1;position: relative;background-color: white;}#sk-container-id-9 div.sk-parallel-item:first-child::after {align-self: flex-end;width: 50%;}#sk-container-id-9 div.sk-parallel-item:last-child::after {align-self: flex-start;width: 50%;}#sk-container-id-9 div.sk-parallel-item:only-child::after {width: 0;}#sk-container-id-9 div.sk-dashed-wrapped {border: 1px dashed gray;margin: 0 0.4em 0.5em 0.4em;box-sizing: border-box;padding-bottom: 0.4em;background-color: white;}#sk-container-id-9 div.sk-label label {font-family: monospace;font-weight: bold;display: inline-block;line-height: 1.2em;}#sk-container-id-9 div.sk-label-container {text-align: center;}#sk-container-id-9 div.sk-container {/* jupyter's `normalize.less` sets `[hidden] { display: none; }` but bootstrap.min.css set `[hidden] { display: none !important; }` so we also need the `!important` here to be able to override the default hidden behavior on the sphinx rendered scikit-learn.org. See: https://github.com/scikit-learn/scikit-learn/issues/21755 */display: inline-block !important;position: relative;}#sk-container-id-9 div.sk-text-repr-fallback {display: none;}</style><div id=\"sk-container-id-9\" class=\"sk-top-container\"><div class=\"sk-text-repr-fallback\"><pre>RandomForestClassifier(max_depth=10, random_state=42)</pre><b>In a Jupyter environment, please rerun this cell to show the HTML representation or trust the notebook. <br />On GitHub, the HTML representation is unable to render, please try loading this page with nbviewer.org.</b></div><div class=\"sk-container\" hidden><div class=\"sk-item\"><div class=\"sk-estimator sk-toggleable\"><input class=\"sk-toggleable__control sk-hidden--visually\" id=\"sk-estimator-id-9\" type=\"checkbox\" checked><label for=\"sk-estimator-id-9\" class=\"sk-toggleable__label sk-toggleable__label-arrow\">RandomForestClassifier</label><div class=\"sk-toggleable__content\"><pre>RandomForestClassifier(max_depth=10, random_state=42)</pre></div></div></div></div></div>"
      ],
      "text/plain": [
       "RandomForestClassifier(max_depth=10, random_state=42)"
      ]
     },
     "execution_count": 547,
     "metadata": {},
     "output_type": "execute_result"
    }
   ],
   "source": [
    "best_model_rf = grid_search_rf.best_estimator_\n",
    "\n",
    "best_model_rf"
   ]
  },
  {
   "cell_type": "markdown",
   "id": "9d6e9e7c",
   "metadata": {},
   "source": [
    "#### Fit the best model on the training data"
   ]
  },
  {
   "cell_type": "code",
   "execution_count": 548,
   "id": "75a191fa",
   "metadata": {},
   "outputs": [
    {
     "data": {
      "text/html": [
       "<style>#sk-container-id-10 {color: black;}#sk-container-id-10 pre{padding: 0;}#sk-container-id-10 div.sk-toggleable {background-color: white;}#sk-container-id-10 label.sk-toggleable__label {cursor: pointer;display: block;width: 100%;margin-bottom: 0;padding: 0.3em;box-sizing: border-box;text-align: center;}#sk-container-id-10 label.sk-toggleable__label-arrow:before {content: \"▸\";float: left;margin-right: 0.25em;color: #696969;}#sk-container-id-10 label.sk-toggleable__label-arrow:hover:before {color: black;}#sk-container-id-10 div.sk-estimator:hover label.sk-toggleable__label-arrow:before {color: black;}#sk-container-id-10 div.sk-toggleable__content {max-height: 0;max-width: 0;overflow: hidden;text-align: left;background-color: #f0f8ff;}#sk-container-id-10 div.sk-toggleable__content pre {margin: 0.2em;color: black;border-radius: 0.25em;background-color: #f0f8ff;}#sk-container-id-10 input.sk-toggleable__control:checked~div.sk-toggleable__content {max-height: 200px;max-width: 100%;overflow: auto;}#sk-container-id-10 input.sk-toggleable__control:checked~label.sk-toggleable__label-arrow:before {content: \"▾\";}#sk-container-id-10 div.sk-estimator input.sk-toggleable__control:checked~label.sk-toggleable__label {background-color: #d4ebff;}#sk-container-id-10 div.sk-label input.sk-toggleable__control:checked~label.sk-toggleable__label {background-color: #d4ebff;}#sk-container-id-10 input.sk-hidden--visually {border: 0;clip: rect(1px 1px 1px 1px);clip: rect(1px, 1px, 1px, 1px);height: 1px;margin: -1px;overflow: hidden;padding: 0;position: absolute;width: 1px;}#sk-container-id-10 div.sk-estimator {font-family: monospace;background-color: #f0f8ff;border: 1px dotted black;border-radius: 0.25em;box-sizing: border-box;margin-bottom: 0.5em;}#sk-container-id-10 div.sk-estimator:hover {background-color: #d4ebff;}#sk-container-id-10 div.sk-parallel-item::after {content: \"\";width: 100%;border-bottom: 1px solid gray;flex-grow: 1;}#sk-container-id-10 div.sk-label:hover label.sk-toggleable__label {background-color: #d4ebff;}#sk-container-id-10 div.sk-serial::before {content: \"\";position: absolute;border-left: 1px solid gray;box-sizing: border-box;top: 0;bottom: 0;left: 50%;z-index: 0;}#sk-container-id-10 div.sk-serial {display: flex;flex-direction: column;align-items: center;background-color: white;padding-right: 0.2em;padding-left: 0.2em;position: relative;}#sk-container-id-10 div.sk-item {position: relative;z-index: 1;}#sk-container-id-10 div.sk-parallel {display: flex;align-items: stretch;justify-content: center;background-color: white;position: relative;}#sk-container-id-10 div.sk-item::before, #sk-container-id-10 div.sk-parallel-item::before {content: \"\";position: absolute;border-left: 1px solid gray;box-sizing: border-box;top: 0;bottom: 0;left: 50%;z-index: -1;}#sk-container-id-10 div.sk-parallel-item {display: flex;flex-direction: column;z-index: 1;position: relative;background-color: white;}#sk-container-id-10 div.sk-parallel-item:first-child::after {align-self: flex-end;width: 50%;}#sk-container-id-10 div.sk-parallel-item:last-child::after {align-self: flex-start;width: 50%;}#sk-container-id-10 div.sk-parallel-item:only-child::after {width: 0;}#sk-container-id-10 div.sk-dashed-wrapped {border: 1px dashed gray;margin: 0 0.4em 0.5em 0.4em;box-sizing: border-box;padding-bottom: 0.4em;background-color: white;}#sk-container-id-10 div.sk-label label {font-family: monospace;font-weight: bold;display: inline-block;line-height: 1.2em;}#sk-container-id-10 div.sk-label-container {text-align: center;}#sk-container-id-10 div.sk-container {/* jupyter's `normalize.less` sets `[hidden] { display: none; }` but bootstrap.min.css set `[hidden] { display: none !important; }` so we also need the `!important` here to be able to override the default hidden behavior on the sphinx rendered scikit-learn.org. See: https://github.com/scikit-learn/scikit-learn/issues/21755 */display: inline-block !important;position: relative;}#sk-container-id-10 div.sk-text-repr-fallback {display: none;}</style><div id=\"sk-container-id-10\" class=\"sk-top-container\"><div class=\"sk-text-repr-fallback\"><pre>RandomForestClassifier(max_depth=10, random_state=42)</pre><b>In a Jupyter environment, please rerun this cell to show the HTML representation or trust the notebook. <br />On GitHub, the HTML representation is unable to render, please try loading this page with nbviewer.org.</b></div><div class=\"sk-container\" hidden><div class=\"sk-item\"><div class=\"sk-estimator sk-toggleable\"><input class=\"sk-toggleable__control sk-hidden--visually\" id=\"sk-estimator-id-10\" type=\"checkbox\" checked><label for=\"sk-estimator-id-10\" class=\"sk-toggleable__label sk-toggleable__label-arrow\">RandomForestClassifier</label><div class=\"sk-toggleable__content\"><pre>RandomForestClassifier(max_depth=10, random_state=42)</pre></div></div></div></div></div>"
      ],
      "text/plain": [
       "RandomForestClassifier(max_depth=10, random_state=42)"
      ]
     },
     "execution_count": 548,
     "metadata": {},
     "output_type": "execute_result"
    }
   ],
   "source": [
    "best_model_rf.fit(X_train_final, y_train)"
   ]
  },
  {
   "cell_type": "markdown",
   "id": "bfdfa415",
   "metadata": {},
   "source": [
    "#### Predict values on the training set"
   ]
  },
  {
   "cell_type": "code",
   "execution_count": 549,
   "id": "12a0a516",
   "metadata": {},
   "outputs": [],
   "source": [
    "y_pred_rf_train = best_model_rf.predict(X_train_final)"
   ]
  },
  {
   "cell_type": "markdown",
   "id": "8152e09f",
   "metadata": {},
   "source": [
    "#### Predict values on the test set"
   ]
  },
  {
   "cell_type": "code",
   "execution_count": 550,
   "id": "e58eee88",
   "metadata": {},
   "outputs": [],
   "source": [
    "y_pred_rf_test = best_model_rf.predict(X_test_final)"
   ]
  },
  {
   "cell_type": "code",
   "execution_count": null,
   "id": "825939dc",
   "metadata": {},
   "outputs": [],
   "source": []
  },
  {
   "cell_type": "markdown",
   "id": "9615f33e",
   "metadata": {},
   "source": [
    "### Evaluation of the Random Forest Classifier"
   ]
  },
  {
   "cell_type": "markdown",
   "id": "8d04f554",
   "metadata": {},
   "source": [
    "#### Accuracy"
   ]
  },
  {
   "cell_type": "code",
   "execution_count": 551,
   "id": "2f01470c",
   "metadata": {
    "scrolled": true
   },
   "outputs": [
    {
     "name": "stdout",
     "output_type": "stream",
     "text": [
      "Accuracy of Random Forest Model on Training Set: 0.992\n",
      "Accuracy of Random Model on Test Set: 0.876\n"
     ]
    }
   ],
   "source": [
    "print(\"Accuracy of Random Forest Model on Training Set: \" + str(round(accuracy_score(y_train, y_pred_rf_train), 3)))\n",
    "print(\"Accuracy of Random Model on Test Set: \" + str(round(accuracy_score(y_test, y_pred_rf_test),3)))"
   ]
  },
  {
   "cell_type": "markdown",
   "id": "5ed1cf06",
   "metadata": {},
   "source": [
    "#### Observations\n",
    "- Accuracy for the best random forest classifier on the test set is **87.6 %**\n",
    "- An improvement from the 82.4 % (or a **5.2 %** increase) accuracy of the logistic regression model"
   ]
  },
  {
   "cell_type": "markdown",
   "id": "a6ab610c",
   "metadata": {},
   "source": [
    "#### Confusion Matrix"
   ]
  },
  {
   "cell_type": "code",
   "execution_count": 552,
   "id": "54cff679",
   "metadata": {},
   "outputs": [
    {
     "name": "stdout",
     "output_type": "stream",
     "text": [
      "[[116  14]\n",
      " [ 14  81]]\n"
     ]
    }
   ],
   "source": [
    "cm_rf = confusion_matrix(y_test, y_pred_rf_test)\n",
    "\n",
    "print(cm_rf)"
   ]
  },
  {
   "cell_type": "code",
   "execution_count": 553,
   "id": "1f73790e",
   "metadata": {},
   "outputs": [
    {
     "name": "stdout",
     "output_type": "stream",
     "text": [
      "True Positives: 81\n",
      "False Positives: 14\n",
      "True Negatives: 116\n",
      "False Negatives: 14\n"
     ]
    }
   ],
   "source": [
    "TP_rf = cm_rf[1,1]\n",
    "FP_rf = cm_rf[0,1]\n",
    "TN_rf = cm_rf[0,0]\n",
    "FN_rf = cm_rf[1,0]\n",
    "\n",
    "print(\"True Positives: \" + str(TP_rf))\n",
    "print(\"False Positives: \" + str(FP_rf))\n",
    "print(\"True Negatives: \" + str(TN_rf))\n",
    "print(\"False Negatives: \" + str(FN_rf))"
   ]
  },
  {
   "cell_type": "markdown",
   "id": "0afe59d4",
   "metadata": {},
   "source": [
    "#### Observations\n",
    "- 81 correct predictions of risk (True Positives)\n",
    "- 14 instances where risk was predicted but no risk observed (False Positives)\n",
    "- 116 correct predictions of no risk (True Negatives)\n",
    "- 14 instance where risk was not predicted but risk was observed (False Negatives)"
   ]
  },
  {
   "cell_type": "markdown",
   "id": "0cabe09c",
   "metadata": {},
   "source": [
    "#### Classification Report"
   ]
  },
  {
   "cell_type": "code",
   "execution_count": 554,
   "id": "e040a635",
   "metadata": {},
   "outputs": [
    {
     "name": "stdout",
     "output_type": "stream",
     "text": [
      "              precision    recall  f1-score   support\n",
      "\n",
      "           0       0.89      0.89      0.89       130\n",
      "           1       0.85      0.85      0.85        95\n",
      "\n",
      "    accuracy                           0.88       225\n",
      "   macro avg       0.87      0.87      0.87       225\n",
      "weighted avg       0.88      0.88      0.88       225\n",
      "\n"
     ]
    }
   ],
   "source": [
    "print(classification_report(y_test, y_pred_rf_test))"
   ]
  },
  {
   "cell_type": "markdown",
   "id": "c6a61a63",
   "metadata": {},
   "source": [
    "#### Precision"
   ]
  },
  {
   "cell_type": "code",
   "execution_count": 555,
   "id": "84ebfbb6",
   "metadata": {},
   "outputs": [
    {
     "name": "stdout",
     "output_type": "stream",
     "text": [
      "85.26\n"
     ]
    }
   ],
   "source": [
    "precision_rf = precision_score(y_test, y_pred_rf_test)\n",
    "\n",
    "print(round(precision_rf * 100, 2))"
   ]
  },
  {
   "cell_type": "markdown",
   "id": "dd1c9926",
   "metadata": {},
   "source": [
    "#### Observations\n",
    "- 81 out of the 95 people our model predicted to be at risk were actually at risk\n",
    "- The precision therefore is 85.26 % (81 / (81 + 14))"
   ]
  },
  {
   "cell_type": "markdown",
   "id": "7f65a556",
   "metadata": {},
   "source": [
    "#### Recall (Also called Sensitity)"
   ]
  },
  {
   "cell_type": "code",
   "execution_count": 556,
   "id": "814059d5",
   "metadata": {},
   "outputs": [
    {
     "name": "stdout",
     "output_type": "stream",
     "text": [
      "85.26\n"
     ]
    }
   ],
   "source": [
    "recall_rf = recall_score(y_test, y_pred_rf_test)  \n",
    "\n",
    "print(round(recall_rf * 100, 2))"
   ]
  },
  {
   "cell_type": "markdown",
   "id": "802dc58b",
   "metadata": {},
   "source": [
    "#### Observations\n",
    "* Our model correctly identified 81 out of the 95 patients who were at risk of hospitalization\n",
    "* The recall therefore is 85.26 % (81 / (81+14))\n",
    "* Another way: Our model was not able to identify 14 patients who were at risk of hospitalization or  14.74 % (14/95)"
   ]
  },
  {
   "cell_type": "markdown",
   "id": "24252afb",
   "metadata": {},
   "source": [
    "#### Specificity"
   ]
  },
  {
   "cell_type": "code",
   "execution_count": 557,
   "id": "15e74afc",
   "metadata": {},
   "outputs": [
    {
     "name": "stdout",
     "output_type": "stream",
     "text": [
      "89.23\n"
     ]
    }
   ],
   "source": [
    "specificity_rf = TN_rf / (TN_rf + FP_rf)\n",
    "\n",
    "print(round(specificity_rf* 100, 2))"
   ]
  },
  {
   "cell_type": "markdown",
   "id": "76043742",
   "metadata": {},
   "source": [
    "#### False Positive Rate"
   ]
  },
  {
   "cell_type": "code",
   "execution_count": 558,
   "id": "8b76b1f9",
   "metadata": {},
   "outputs": [
    {
     "name": "stdout",
     "output_type": "stream",
     "text": [
      "10.77\n"
     ]
    }
   ],
   "source": [
    "false_positive_rate_rf = 1 - specificity_rf\n",
    "\n",
    "print(round(false_positive_rate_rf * 100, 2))"
   ]
  },
  {
   "cell_type": "markdown",
   "id": "977307dd",
   "metadata": {},
   "source": [
    "### What is the percent chance that a person is admitted to the hospital?"
   ]
  },
  {
   "cell_type": "code",
   "execution_count": 559,
   "id": "f1a55c86",
   "metadata": {},
   "outputs": [
    {
     "data": {
      "text/plain": [
       "array([0.01366753, 0.98      , 0.07406456, 0.70806604, 0.93946429,\n",
       "       0.42521998, 0.43966457, 0.01462672, 0.35864599, 0.5175601 ])"
      ]
     },
     "execution_count": 559,
     "metadata": {},
     "output_type": "execute_result"
    }
   ],
   "source": [
    "y_pred_proba_rf = best_model_rf.predict_proba(X_test_final)[:, 1]\n",
    "\n",
    "y_pred_proba_rf[:10]"
   ]
  },
  {
   "cell_type": "markdown",
   "id": "90620bc5",
   "metadata": {},
   "source": [
    "### What is the AUC? (Area Under Curve)"
   ]
  },
  {
   "cell_type": "code",
   "execution_count": 560,
   "id": "a50f5169",
   "metadata": {},
   "outputs": [],
   "source": [
    "# fpr, tpr, _ = metrics.roc_curve(y_test, y_pred_proba_rf)\n",
    "\n",
    "# auc_rf = metrics.roc_auc_score(y_test, y_pred_proba_rf)\n",
    "\n",
    "# print(auc_rf)"
   ]
  },
  {
   "cell_type": "code",
   "execution_count": 561,
   "id": "313c3ec4",
   "metadata": {
    "scrolled": true
   },
   "outputs": [],
   "source": [
    "# plt.figure(figsize=(7,5))\n",
    "# plt.plot(fpr, tpr, label = 'Random Forest AUC = ' + str(round(auc_rf, 2)))\n",
    "# plt.plot([0, 1], [0, 1],'r--', label = 'Random')\n",
    "# plt.title('Receiver Operating Characteric (ROC) Curve', size=16)\n",
    "# plt.xlabel('False Positive Rate', size=14)\n",
    "# plt.ylabel('True Positive Rate', size=14)\n",
    "# plt.legend(loc=4)\n",
    "# plt.show()"
   ]
  },
  {
   "cell_type": "code",
   "execution_count": null,
   "id": "c7203da7",
   "metadata": {},
   "outputs": [],
   "source": []
  },
  {
   "cell_type": "markdown",
   "id": "8d10a75d",
   "metadata": {},
   "source": [
    "### Fit Gradient Boosting Classifier on Training Set"
   ]
  },
  {
   "cell_type": "code",
   "execution_count": 562,
   "id": "cca0fbc9",
   "metadata": {},
   "outputs": [],
   "source": [
    "from sklearn.ensemble import GradientBoostingClassifier\n",
    "from sklearn.model_selection import RandomizedSearchCV"
   ]
  },
  {
   "cell_type": "code",
   "execution_count": 563,
   "id": "c14ded80",
   "metadata": {},
   "outputs": [],
   "source": [
    "# Instantiate\n",
    "gb_model = GradientBoostingClassifier()"
   ]
  },
  {
   "cell_type": "code",
   "execution_count": 564,
   "id": "8e311f2b",
   "metadata": {},
   "outputs": [],
   "source": [
    "# K-fold Cross Validation\n",
    "kf_gb = KFold(n_splits=5, random_state=42, shuffle=True)\n",
    "\n",
    "cv_scores_gb = cross_val_score(gb_model, X_train_final, y_train, cv=kf_gb)"
   ]
  },
  {
   "cell_type": "code",
   "execution_count": 565,
   "id": "b1a81132",
   "metadata": {
    "scrolled": true
   },
   "outputs": [
    {
     "name": "stdout",
     "output_type": "stream",
     "text": [
      "All Training Cross-Validation Scores: [0.895, 0.905, 0.838, 0.875, 0.885]\n",
      "Average Training Cross Validation Scores: 0.88 +- 0.023\n"
     ]
    }
   ],
   "source": [
    "print(f\"All Training Cross-Validation Scores: {[round(x, 3) for x in cv_scores_gb]}\")\n",
    "print(f\"Average Training Cross Validation Scores: {round(np.mean(cv_scores_gb), 3)} +- {round(np.std(cv_scores_gb), 3)}\")"
   ]
  },
  {
   "cell_type": "markdown",
   "id": "1d51c14e",
   "metadata": {},
   "source": [
    "#### Observations\n",
    "- Average accuracy on the training set is **87.8 %** across 5 folds\n",
    "- Minimum accuracy was **82.9 %** (lower than Random Forest minimum) and highest accuracy was **90.5 %** (same as Random Forest)\n",
    "- Standard deviation was **0.026**\n",
    "\n",
    "- Slightly higher average accuracy compared to Random Forest but also slightly higher standard deviation"
   ]
  },
  {
   "cell_type": "code",
   "execution_count": null,
   "id": "d9a24fc7",
   "metadata": {},
   "outputs": [],
   "source": []
  },
  {
   "cell_type": "code",
   "execution_count": 566,
   "id": "fbffa444",
   "metadata": {},
   "outputs": [],
   "source": [
    "# Param Grid\n",
    "param_grid_gb = {\n",
    "    'n_estimators': np.arange(100, 1001, 100),\n",
    "    'learning_rate': np.linspace(0.01, 1, 10),\n",
    "    'max_depth': np.arange(3, 14, 2),\n",
    "    'min_samples_split': np.arange(2, 21, 2),\n",
    "    'min_samples_leaf': np.arange(1, 21, 2) }"
   ]
  },
  {
   "cell_type": "markdown",
   "id": "e15a9cc4",
   "metadata": {},
   "source": [
    "#### Grid Search"
   ]
  },
  {
   "cell_type": "code",
   "execution_count": 567,
   "id": "769ebd20",
   "metadata": {},
   "outputs": [],
   "source": [
    "folds_gb = StratifiedKFold(n_splits = 5, shuffle = True, random_state = 42)"
   ]
  },
  {
   "cell_type": "code",
   "execution_count": 568,
   "id": "5d94a932",
   "metadata": {},
   "outputs": [],
   "source": [
    "# grid_search_gb = GridSearchCV(gb_model, param_grid_gb, cv=folds_gb, n_jobs=-1, verbose=2)\n",
    "# grid_search_gb.fit(X_train_final, y_train)\n",
    "\n",
    "# Best parameters\n",
    "# print(\"Best parameters:\", grid_search_gb.best_params_)"
   ]
  },
  {
   "cell_type": "markdown",
   "id": "64c231e5",
   "metadata": {},
   "source": [
    "#### Randomized Search"
   ]
  },
  {
   "cell_type": "code",
   "execution_count": 569,
   "id": "e11d98a9",
   "metadata": {},
   "outputs": [
    {
     "name": "stdout",
     "output_type": "stream",
     "text": [
      "Fitting 5 folds for each of 100 candidates, totalling 500 fits\n",
      "Best parameters: {'n_estimators': 1000, 'min_samples_split': 12, 'min_samples_leaf': 3, 'max_depth': 13, 'learning_rate': 0.23}\n"
     ]
    }
   ],
   "source": [
    "# Hyperparameter tuning\n",
    "random_search_gb = RandomizedSearchCV(gb_model, param_distributions=param_grid_gb, n_iter=100, cv=folds_gb, \n",
    "                                      verbose=1, random_state=42, n_jobs=-1)\n",
    "\n",
    "random_search_gb.fit(X_train_final, y_train)\n",
    "\n",
    "# Best parameters\n",
    "print(\"Best parameters:\", random_search_gb.best_params_)"
   ]
  },
  {
   "cell_type": "markdown",
   "id": "d246a52a",
   "metadata": {},
   "source": [
    "#### Find the best Gradient Boosting model"
   ]
  },
  {
   "cell_type": "code",
   "execution_count": 570,
   "id": "aaa797a6",
   "metadata": {},
   "outputs": [
    {
     "data": {
      "text/html": [
       "<style>#sk-container-id-11 {color: black;}#sk-container-id-11 pre{padding: 0;}#sk-container-id-11 div.sk-toggleable {background-color: white;}#sk-container-id-11 label.sk-toggleable__label {cursor: pointer;display: block;width: 100%;margin-bottom: 0;padding: 0.3em;box-sizing: border-box;text-align: center;}#sk-container-id-11 label.sk-toggleable__label-arrow:before {content: \"▸\";float: left;margin-right: 0.25em;color: #696969;}#sk-container-id-11 label.sk-toggleable__label-arrow:hover:before {color: black;}#sk-container-id-11 div.sk-estimator:hover label.sk-toggleable__label-arrow:before {color: black;}#sk-container-id-11 div.sk-toggleable__content {max-height: 0;max-width: 0;overflow: hidden;text-align: left;background-color: #f0f8ff;}#sk-container-id-11 div.sk-toggleable__content pre {margin: 0.2em;color: black;border-radius: 0.25em;background-color: #f0f8ff;}#sk-container-id-11 input.sk-toggleable__control:checked~div.sk-toggleable__content {max-height: 200px;max-width: 100%;overflow: auto;}#sk-container-id-11 input.sk-toggleable__control:checked~label.sk-toggleable__label-arrow:before {content: \"▾\";}#sk-container-id-11 div.sk-estimator input.sk-toggleable__control:checked~label.sk-toggleable__label {background-color: #d4ebff;}#sk-container-id-11 div.sk-label input.sk-toggleable__control:checked~label.sk-toggleable__label {background-color: #d4ebff;}#sk-container-id-11 input.sk-hidden--visually {border: 0;clip: rect(1px 1px 1px 1px);clip: rect(1px, 1px, 1px, 1px);height: 1px;margin: -1px;overflow: hidden;padding: 0;position: absolute;width: 1px;}#sk-container-id-11 div.sk-estimator {font-family: monospace;background-color: #f0f8ff;border: 1px dotted black;border-radius: 0.25em;box-sizing: border-box;margin-bottom: 0.5em;}#sk-container-id-11 div.sk-estimator:hover {background-color: #d4ebff;}#sk-container-id-11 div.sk-parallel-item::after {content: \"\";width: 100%;border-bottom: 1px solid gray;flex-grow: 1;}#sk-container-id-11 div.sk-label:hover label.sk-toggleable__label {background-color: #d4ebff;}#sk-container-id-11 div.sk-serial::before {content: \"\";position: absolute;border-left: 1px solid gray;box-sizing: border-box;top: 0;bottom: 0;left: 50%;z-index: 0;}#sk-container-id-11 div.sk-serial {display: flex;flex-direction: column;align-items: center;background-color: white;padding-right: 0.2em;padding-left: 0.2em;position: relative;}#sk-container-id-11 div.sk-item {position: relative;z-index: 1;}#sk-container-id-11 div.sk-parallel {display: flex;align-items: stretch;justify-content: center;background-color: white;position: relative;}#sk-container-id-11 div.sk-item::before, #sk-container-id-11 div.sk-parallel-item::before {content: \"\";position: absolute;border-left: 1px solid gray;box-sizing: border-box;top: 0;bottom: 0;left: 50%;z-index: -1;}#sk-container-id-11 div.sk-parallel-item {display: flex;flex-direction: column;z-index: 1;position: relative;background-color: white;}#sk-container-id-11 div.sk-parallel-item:first-child::after {align-self: flex-end;width: 50%;}#sk-container-id-11 div.sk-parallel-item:last-child::after {align-self: flex-start;width: 50%;}#sk-container-id-11 div.sk-parallel-item:only-child::after {width: 0;}#sk-container-id-11 div.sk-dashed-wrapped {border: 1px dashed gray;margin: 0 0.4em 0.5em 0.4em;box-sizing: border-box;padding-bottom: 0.4em;background-color: white;}#sk-container-id-11 div.sk-label label {font-family: monospace;font-weight: bold;display: inline-block;line-height: 1.2em;}#sk-container-id-11 div.sk-label-container {text-align: center;}#sk-container-id-11 div.sk-container {/* jupyter's `normalize.less` sets `[hidden] { display: none; }` but bootstrap.min.css set `[hidden] { display: none !important; }` so we also need the `!important` here to be able to override the default hidden behavior on the sphinx rendered scikit-learn.org. See: https://github.com/scikit-learn/scikit-learn/issues/21755 */display: inline-block !important;position: relative;}#sk-container-id-11 div.sk-text-repr-fallback {display: none;}</style><div id=\"sk-container-id-11\" class=\"sk-top-container\"><div class=\"sk-text-repr-fallback\"><pre>GradientBoostingClassifier(learning_rate=0.23, max_depth=13, min_samples_leaf=3,\n",
       "                           min_samples_split=12, n_estimators=1000)</pre><b>In a Jupyter environment, please rerun this cell to show the HTML representation or trust the notebook. <br />On GitHub, the HTML representation is unable to render, please try loading this page with nbviewer.org.</b></div><div class=\"sk-container\" hidden><div class=\"sk-item\"><div class=\"sk-estimator sk-toggleable\"><input class=\"sk-toggleable__control sk-hidden--visually\" id=\"sk-estimator-id-11\" type=\"checkbox\" checked><label for=\"sk-estimator-id-11\" class=\"sk-toggleable__label sk-toggleable__label-arrow\">GradientBoostingClassifier</label><div class=\"sk-toggleable__content\"><pre>GradientBoostingClassifier(learning_rate=0.23, max_depth=13, min_samples_leaf=3,\n",
       "                           min_samples_split=12, n_estimators=1000)</pre></div></div></div></div></div>"
      ],
      "text/plain": [
       "GradientBoostingClassifier(learning_rate=0.23, max_depth=13, min_samples_leaf=3,\n",
       "                           min_samples_split=12, n_estimators=1000)"
      ]
     },
     "execution_count": 570,
     "metadata": {},
     "output_type": "execute_result"
    }
   ],
   "source": [
    "best_model_gb = random_search_gb.best_estimator_\n",
    "\n",
    "best_model_gb"
   ]
  },
  {
   "cell_type": "markdown",
   "id": "6124203e",
   "metadata": {},
   "source": [
    "####  Fit the best model on the training data"
   ]
  },
  {
   "cell_type": "code",
   "execution_count": 571,
   "id": "fcfd32bd",
   "metadata": {
    "scrolled": true
   },
   "outputs": [
    {
     "data": {
      "text/html": [
       "<style>#sk-container-id-12 {color: black;}#sk-container-id-12 pre{padding: 0;}#sk-container-id-12 div.sk-toggleable {background-color: white;}#sk-container-id-12 label.sk-toggleable__label {cursor: pointer;display: block;width: 100%;margin-bottom: 0;padding: 0.3em;box-sizing: border-box;text-align: center;}#sk-container-id-12 label.sk-toggleable__label-arrow:before {content: \"▸\";float: left;margin-right: 0.25em;color: #696969;}#sk-container-id-12 label.sk-toggleable__label-arrow:hover:before {color: black;}#sk-container-id-12 div.sk-estimator:hover label.sk-toggleable__label-arrow:before {color: black;}#sk-container-id-12 div.sk-toggleable__content {max-height: 0;max-width: 0;overflow: hidden;text-align: left;background-color: #f0f8ff;}#sk-container-id-12 div.sk-toggleable__content pre {margin: 0.2em;color: black;border-radius: 0.25em;background-color: #f0f8ff;}#sk-container-id-12 input.sk-toggleable__control:checked~div.sk-toggleable__content {max-height: 200px;max-width: 100%;overflow: auto;}#sk-container-id-12 input.sk-toggleable__control:checked~label.sk-toggleable__label-arrow:before {content: \"▾\";}#sk-container-id-12 div.sk-estimator input.sk-toggleable__control:checked~label.sk-toggleable__label {background-color: #d4ebff;}#sk-container-id-12 div.sk-label input.sk-toggleable__control:checked~label.sk-toggleable__label {background-color: #d4ebff;}#sk-container-id-12 input.sk-hidden--visually {border: 0;clip: rect(1px 1px 1px 1px);clip: rect(1px, 1px, 1px, 1px);height: 1px;margin: -1px;overflow: hidden;padding: 0;position: absolute;width: 1px;}#sk-container-id-12 div.sk-estimator {font-family: monospace;background-color: #f0f8ff;border: 1px dotted black;border-radius: 0.25em;box-sizing: border-box;margin-bottom: 0.5em;}#sk-container-id-12 div.sk-estimator:hover {background-color: #d4ebff;}#sk-container-id-12 div.sk-parallel-item::after {content: \"\";width: 100%;border-bottom: 1px solid gray;flex-grow: 1;}#sk-container-id-12 div.sk-label:hover label.sk-toggleable__label {background-color: #d4ebff;}#sk-container-id-12 div.sk-serial::before {content: \"\";position: absolute;border-left: 1px solid gray;box-sizing: border-box;top: 0;bottom: 0;left: 50%;z-index: 0;}#sk-container-id-12 div.sk-serial {display: flex;flex-direction: column;align-items: center;background-color: white;padding-right: 0.2em;padding-left: 0.2em;position: relative;}#sk-container-id-12 div.sk-item {position: relative;z-index: 1;}#sk-container-id-12 div.sk-parallel {display: flex;align-items: stretch;justify-content: center;background-color: white;position: relative;}#sk-container-id-12 div.sk-item::before, #sk-container-id-12 div.sk-parallel-item::before {content: \"\";position: absolute;border-left: 1px solid gray;box-sizing: border-box;top: 0;bottom: 0;left: 50%;z-index: -1;}#sk-container-id-12 div.sk-parallel-item {display: flex;flex-direction: column;z-index: 1;position: relative;background-color: white;}#sk-container-id-12 div.sk-parallel-item:first-child::after {align-self: flex-end;width: 50%;}#sk-container-id-12 div.sk-parallel-item:last-child::after {align-self: flex-start;width: 50%;}#sk-container-id-12 div.sk-parallel-item:only-child::after {width: 0;}#sk-container-id-12 div.sk-dashed-wrapped {border: 1px dashed gray;margin: 0 0.4em 0.5em 0.4em;box-sizing: border-box;padding-bottom: 0.4em;background-color: white;}#sk-container-id-12 div.sk-label label {font-family: monospace;font-weight: bold;display: inline-block;line-height: 1.2em;}#sk-container-id-12 div.sk-label-container {text-align: center;}#sk-container-id-12 div.sk-container {/* jupyter's `normalize.less` sets `[hidden] { display: none; }` but bootstrap.min.css set `[hidden] { display: none !important; }` so we also need the `!important` here to be able to override the default hidden behavior on the sphinx rendered scikit-learn.org. See: https://github.com/scikit-learn/scikit-learn/issues/21755 */display: inline-block !important;position: relative;}#sk-container-id-12 div.sk-text-repr-fallback {display: none;}</style><div id=\"sk-container-id-12\" class=\"sk-top-container\"><div class=\"sk-text-repr-fallback\"><pre>GradientBoostingClassifier(learning_rate=0.23, max_depth=13, min_samples_leaf=3,\n",
       "                           min_samples_split=12, n_estimators=1000)</pre><b>In a Jupyter environment, please rerun this cell to show the HTML representation or trust the notebook. <br />On GitHub, the HTML representation is unable to render, please try loading this page with nbviewer.org.</b></div><div class=\"sk-container\" hidden><div class=\"sk-item\"><div class=\"sk-estimator sk-toggleable\"><input class=\"sk-toggleable__control sk-hidden--visually\" id=\"sk-estimator-id-12\" type=\"checkbox\" checked><label for=\"sk-estimator-id-12\" class=\"sk-toggleable__label sk-toggleable__label-arrow\">GradientBoostingClassifier</label><div class=\"sk-toggleable__content\"><pre>GradientBoostingClassifier(learning_rate=0.23, max_depth=13, min_samples_leaf=3,\n",
       "                           min_samples_split=12, n_estimators=1000)</pre></div></div></div></div></div>"
      ],
      "text/plain": [
       "GradientBoostingClassifier(learning_rate=0.23, max_depth=13, min_samples_leaf=3,\n",
       "                           min_samples_split=12, n_estimators=1000)"
      ]
     },
     "execution_count": 571,
     "metadata": {},
     "output_type": "execute_result"
    }
   ],
   "source": [
    "best_model_gb.fit(X_train_final, y_train)"
   ]
  },
  {
   "cell_type": "markdown",
   "id": "62a0d595",
   "metadata": {},
   "source": [
    "#### Predict values on the training data "
   ]
  },
  {
   "cell_type": "code",
   "execution_count": 572,
   "id": "383d6df6",
   "metadata": {},
   "outputs": [],
   "source": [
    "y_pred_gb_train = best_model_gb.predict(X_train_final)"
   ]
  },
  {
   "cell_type": "markdown",
   "id": "597cba38",
   "metadata": {},
   "source": [
    "#### Predict values on the test data "
   ]
  },
  {
   "cell_type": "code",
   "execution_count": 573,
   "id": "7e2b3393",
   "metadata": {},
   "outputs": [],
   "source": [
    "y_pred_gb_test = best_model_gb.predict(X_test_final)"
   ]
  },
  {
   "cell_type": "code",
   "execution_count": null,
   "id": "94ac95ba",
   "metadata": {},
   "outputs": [],
   "source": []
  },
  {
   "cell_type": "markdown",
   "id": "850d6df8",
   "metadata": {},
   "source": [
    "### Evaluation of the Gradient Boosting Classifier"
   ]
  },
  {
   "cell_type": "markdown",
   "id": "debef3db",
   "metadata": {},
   "source": [
    "#### Accuracy"
   ]
  },
  {
   "cell_type": "code",
   "execution_count": 574,
   "id": "3dd714a1",
   "metadata": {
    "scrolled": false
   },
   "outputs": [
    {
     "name": "stdout",
     "output_type": "stream",
     "text": [
      "Accuracy of Gradient Boosting Model on Training Set: 1.0\n",
      "Accuracy of Gradient Boosting Model on Test Set: 0.8889\n"
     ]
    }
   ],
   "source": [
    "print(\"Accuracy of Gradient Boosting Model on Training Set: \" + str(round(accuracy_score(y_train, y_pred_gb_train), 4)))\n",
    "print(\"Accuracy of Gradient Boosting Model on Test Set: \" + str(round(accuracy_score(y_test, y_pred_gb_test),4)))"
   ]
  },
  {
   "cell_type": "markdown",
   "id": "d3ed32e0",
   "metadata": {},
   "source": [
    "#### Observations\n",
    "- Accuracy for the best Gradient Boosting classifier on the test set is **88.89 %**\n",
    "- An improvement from the 87.6 % (or a **1.3 %** increase) accuracy of the random forest model"
   ]
  },
  {
   "cell_type": "markdown",
   "id": "824d32d6",
   "metadata": {},
   "source": [
    "#### Confusion Matrix"
   ]
  },
  {
   "cell_type": "code",
   "execution_count": 575,
   "id": "1dafa437",
   "metadata": {
    "scrolled": false
   },
   "outputs": [
    {
     "name": "stdout",
     "output_type": "stream",
     "text": [
      "[[118  12]\n",
      " [ 13  82]]\n"
     ]
    }
   ],
   "source": [
    "cm_gb = confusion_matrix(y_test, y_pred_gb_test)\n",
    "\n",
    "print(cm_gb)"
   ]
  },
  {
   "cell_type": "code",
   "execution_count": 576,
   "id": "eb7f527b",
   "metadata": {},
   "outputs": [
    {
     "name": "stdout",
     "output_type": "stream",
     "text": [
      "True Positives: 82\n",
      "False Positives: 12\n",
      "True Negatives: 118\n",
      "False Negatives: 13\n"
     ]
    }
   ],
   "source": [
    "TP_gb = cm_gb[1,1]\n",
    "FP_gb = cm_gb[0,1]\n",
    "TN_gb = cm_gb[0,0]\n",
    "FN_gb = cm_gb[1,0]\n",
    "\n",
    "print(\"True Positives: \" + str(TP_gb))\n",
    "print(\"False Positives: \" + str(FP_gb))\n",
    "print(\"True Negatives: \" + str(TN_gb))\n",
    "print(\"False Negatives: \" + str(FN_gb))"
   ]
  },
  {
   "cell_type": "markdown",
   "id": "f35429a4",
   "metadata": {},
   "source": [
    "#### Observations\n",
    "- 82 correct predictions of risk (True Positives)\n",
    "- 12 instances where risk was predicted but no risk observed (False Positives)\n",
    "- 118 correct predictions of no risk (True Negatives)\n",
    "- 13 instance where risk was not predicted but risk was observed (False Negatives)"
   ]
  },
  {
   "cell_type": "markdown",
   "id": "437f52f2",
   "metadata": {},
   "source": [
    "#### Classification Report"
   ]
  },
  {
   "cell_type": "code",
   "execution_count": 577,
   "id": "b56f9fa2",
   "metadata": {
    "scrolled": true
   },
   "outputs": [
    {
     "name": "stdout",
     "output_type": "stream",
     "text": [
      "              precision    recall  f1-score   support\n",
      "\n",
      "           0       0.90      0.91      0.90       130\n",
      "           1       0.87      0.86      0.87        95\n",
      "\n",
      "    accuracy                           0.89       225\n",
      "   macro avg       0.89      0.89      0.89       225\n",
      "weighted avg       0.89      0.89      0.89       225\n",
      "\n"
     ]
    }
   ],
   "source": [
    "print(classification_report(y_test, y_pred_gb_test))"
   ]
  },
  {
   "cell_type": "markdown",
   "id": "ddd0ce11",
   "metadata": {},
   "source": [
    "#### Precision"
   ]
  },
  {
   "cell_type": "code",
   "execution_count": 578,
   "id": "ac3d1c22",
   "metadata": {
    "scrolled": true
   },
   "outputs": [
    {
     "name": "stdout",
     "output_type": "stream",
     "text": [
      "87.23\n"
     ]
    }
   ],
   "source": [
    "precision_gb = precision_score(y_test, y_pred_gb_test)\n",
    "\n",
    "print(round(precision_gb * 100, 2))"
   ]
  },
  {
   "cell_type": "markdown",
   "id": "7832be41",
   "metadata": {},
   "source": [
    "#### Observations\n",
    "- 82 out of the 94 people our model predicted to be at risk were actually at risk\n",
    "- The precision therefore is **87.23 %** (82 / (82 + 12))"
   ]
  },
  {
   "cell_type": "markdown",
   "id": "2b198db2",
   "metadata": {},
   "source": [
    "#### Recall"
   ]
  },
  {
   "cell_type": "code",
   "execution_count": 579,
   "id": "d9224a93",
   "metadata": {
    "scrolled": true
   },
   "outputs": [
    {
     "name": "stdout",
     "output_type": "stream",
     "text": [
      "86.32\n"
     ]
    }
   ],
   "source": [
    "recall_gb = recall_score(y_test, y_pred_gb_test)  \n",
    "\n",
    "print(round(recall_gb * 100, 2))"
   ]
  },
  {
   "cell_type": "markdown",
   "id": "33060b63",
   "metadata": {},
   "source": [
    "#### Observations\n",
    "* Our model correctly identified 82 out of the 95 patients who were at risk of hospitalization\n",
    "* The recall therefore is **86.32 %** (82 / (82+13))\n",
    "* Another way: Our model was not able to identify 13 patients who were at risk of hospitalization or  13.68 % (13/95)"
   ]
  },
  {
   "cell_type": "markdown",
   "id": "ce462da1",
   "metadata": {},
   "source": [
    "#### Specificity"
   ]
  },
  {
   "cell_type": "code",
   "execution_count": 580,
   "id": "73a83582",
   "metadata": {},
   "outputs": [
    {
     "name": "stdout",
     "output_type": "stream",
     "text": [
      "90.77\n"
     ]
    }
   ],
   "source": [
    "specificity_gb = TN_gb / (TN_gb + FP_gb)\n",
    "\n",
    "print(round(specificity_gb * 100, 2))"
   ]
  },
  {
   "cell_type": "markdown",
   "id": "c6013ec6",
   "metadata": {},
   "source": [
    "#### False Positive Rate"
   ]
  },
  {
   "cell_type": "code",
   "execution_count": 581,
   "id": "1e1776fd",
   "metadata": {},
   "outputs": [
    {
     "name": "stdout",
     "output_type": "stream",
     "text": [
      "9.23\n"
     ]
    }
   ],
   "source": [
    "false_positive_rate_gb = 1 - specificity_gb\n",
    "\n",
    "print(round(false_positive_rate_gb * 100, 2))"
   ]
  },
  {
   "cell_type": "code",
   "execution_count": null,
   "id": "4cd846a0",
   "metadata": {},
   "outputs": [],
   "source": []
  },
  {
   "cell_type": "markdown",
   "id": "3db317cd",
   "metadata": {},
   "source": [
    "### What is the percent chance that a person is admitted to the hospital?"
   ]
  },
  {
   "cell_type": "code",
   "execution_count": 582,
   "id": "cf43b37b",
   "metadata": {},
   "outputs": [],
   "source": [
    "# Calculate probabilities \n",
    "y_pred_proba_gb = best_model_rf.predict_proba(X_test_final)[:, 1]"
   ]
  },
  {
   "cell_type": "code",
   "execution_count": 583,
   "id": "a66d1529",
   "metadata": {},
   "outputs": [
    {
     "data": {
      "text/plain": [
       "array([0.01366753, 0.98      , 0.07406456, 0.70806604, 0.93946429,\n",
       "       0.42521998, 0.43966457, 0.01462672, 0.35864599, 0.5175601 ])"
      ]
     },
     "execution_count": 583,
     "metadata": {},
     "output_type": "execute_result"
    }
   ],
   "source": [
    "y_pred_proba_gb[:10]"
   ]
  },
  {
   "cell_type": "code",
   "execution_count": 584,
   "id": "a8e3f701",
   "metadata": {},
   "outputs": [],
   "source": [
    "# Rounded the probabilities\n",
    "rounded_probabilities = np.round(y_pred_proba_gb, 2)"
   ]
  },
  {
   "cell_type": "code",
   "execution_count": null,
   "id": "cff1e2cc",
   "metadata": {},
   "outputs": [],
   "source": []
  },
  {
   "cell_type": "code",
   "execution_count": 585,
   "id": "e1449ccf",
   "metadata": {},
   "outputs": [],
   "source": [
    "# Create a copy of the test datframe so we can see the risk level and category for each patient\n",
    "X_test_with_risk_categories = X_test.copy()"
   ]
  },
  {
   "cell_type": "code",
   "execution_count": 586,
   "id": "96cfc959",
   "metadata": {},
   "outputs": [],
   "source": [
    "# Create a new column with the probability of risk for each patient\n",
    "X_test_with_risk_categories['Risk Probability'] = rounded_probabilities"
   ]
  },
  {
   "cell_type": "code",
   "execution_count": 587,
   "id": "d2da0676",
   "metadata": {},
   "outputs": [],
   "source": [
    "# Create a low and high risk level threshold\n",
    "low_risk_threshold = 0.1\n",
    "high_risk_threshold = 0.5"
   ]
  },
  {
   "cell_type": "code",
   "execution_count": 588,
   "id": "d16513dd",
   "metadata": {},
   "outputs": [],
   "source": [
    "# Create the risk category columns\n",
    "risk_categories = []\n",
    "for probability in y_pred_proba_gb:\n",
    "    if probability < low_risk_threshold:\n",
    "        risk_categories.append(\"Low Risk\")\n",
    "    elif low_risk_threshold <= probability <= high_risk_threshold:\n",
    "        risk_categories.append(\"Medium Risk\")\n",
    "    else:\n",
    "        risk_categories.append(\"High Risk\")"
   ]
  },
  {
   "cell_type": "code",
   "execution_count": 589,
   "id": "fc3cee7f",
   "metadata": {},
   "outputs": [],
   "source": [
    "# Create a new column with the category of Risk that each patient falls into\n",
    "X_test_with_risk_categories['Risk Category'] = risk_categories"
   ]
  },
  {
   "cell_type": "code",
   "execution_count": 590,
   "id": "f55dc83a",
   "metadata": {},
   "outputs": [
    {
     "data": {
      "text/html": [
       "<div>\n",
       "<style scoped>\n",
       "    .dataframe tbody tr th:only-of-type {\n",
       "        vertical-align: middle;\n",
       "    }\n",
       "\n",
       "    .dataframe tbody tr th {\n",
       "        vertical-align: top;\n",
       "    }\n",
       "\n",
       "    .dataframe thead th {\n",
       "        text-align: right;\n",
       "    }\n",
       "</style>\n",
       "<table border=\"1\" class=\"dataframe\">\n",
       "  <thead>\n",
       "    <tr style=\"text-align: right;\">\n",
       "      <th></th>\n",
       "      <th>Age</th>\n",
       "      <th>Weight</th>\n",
       "      <th>BodyTemperature</th>\n",
       "      <th>OxygenLevel</th>\n",
       "      <th>HeartRate</th>\n",
       "      <th>Systolic</th>\n",
       "      <th>Diastolic</th>\n",
       "      <th>StepCount</th>\n",
       "      <th>TimeInBed</th>\n",
       "      <th>RespiratoryRate</th>\n",
       "      <th>StressLevel</th>\n",
       "      <th>Diseases</th>\n",
       "      <th>Risk Probability</th>\n",
       "      <th>Risk Category</th>\n",
       "    </tr>\n",
       "  </thead>\n",
       "  <tbody>\n",
       "    <tr>\n",
       "      <th>1135</th>\n",
       "      <td>36.00</td>\n",
       "      <td>83.00</td>\n",
       "      <td>37.00</td>\n",
       "      <td>97.50</td>\n",
       "      <td>68.50</td>\n",
       "      <td>111.00</td>\n",
       "      <td>69.00</td>\n",
       "      <td>5522.63</td>\n",
       "      <td>422.57</td>\n",
       "      <td>15.00</td>\n",
       "      <td>0.00</td>\n",
       "      <td>0</td>\n",
       "      <td>0.01</td>\n",
       "      <td>Low Risk</td>\n",
       "    </tr>\n",
       "    <tr>\n",
       "      <th>785</th>\n",
       "      <td>36.00</td>\n",
       "      <td>83.00</td>\n",
       "      <td>38.41</td>\n",
       "      <td>93.71</td>\n",
       "      <td>97.43</td>\n",
       "      <td>187.43</td>\n",
       "      <td>74.43</td>\n",
       "      <td>8960.86</td>\n",
       "      <td>370.14</td>\n",
       "      <td>17.43</td>\n",
       "      <td>0.00</td>\n",
       "      <td>0</td>\n",
       "      <td>0.98</td>\n",
       "      <td>High Risk</td>\n",
       "    </tr>\n",
       "    <tr>\n",
       "      <th>570</th>\n",
       "      <td>36.00</td>\n",
       "      <td>83.00</td>\n",
       "      <td>37.00</td>\n",
       "      <td>98.00</td>\n",
       "      <td>70.00</td>\n",
       "      <td>117.33</td>\n",
       "      <td>66.33</td>\n",
       "      <td>139.33</td>\n",
       "      <td>422.57</td>\n",
       "      <td>14.00</td>\n",
       "      <td>0.00</td>\n",
       "      <td>0</td>\n",
       "      <td>0.07</td>\n",
       "      <td>Low Risk</td>\n",
       "    </tr>\n",
       "    <tr>\n",
       "      <th>279</th>\n",
       "      <td>30.00</td>\n",
       "      <td>83.00</td>\n",
       "      <td>37.11</td>\n",
       "      <td>97.12</td>\n",
       "      <td>82.26</td>\n",
       "      <td>123.28</td>\n",
       "      <td>71.77</td>\n",
       "      <td>153.91</td>\n",
       "      <td>480.00</td>\n",
       "      <td>15.09</td>\n",
       "      <td>1.00</td>\n",
       "      <td>1</td>\n",
       "      <td>0.71</td>\n",
       "      <td>High Risk</td>\n",
       "    </tr>\n",
       "    <tr>\n",
       "      <th>865</th>\n",
       "      <td>36.00</td>\n",
       "      <td>83.00</td>\n",
       "      <td>38.15</td>\n",
       "      <td>99.67</td>\n",
       "      <td>89.17</td>\n",
       "      <td>192.00</td>\n",
       "      <td>71.00</td>\n",
       "      <td>8755.17</td>\n",
       "      <td>363.17</td>\n",
       "      <td>11.00</td>\n",
       "      <td>0.00</td>\n",
       "      <td>0</td>\n",
       "      <td>0.94</td>\n",
       "      <td>High Risk</td>\n",
       "    </tr>\n",
       "    <tr>\n",
       "      <th>748</th>\n",
       "      <td>36.00</td>\n",
       "      <td>83.00</td>\n",
       "      <td>37.00</td>\n",
       "      <td>100.75</td>\n",
       "      <td>94.33</td>\n",
       "      <td>149.50</td>\n",
       "      <td>77.50</td>\n",
       "      <td>10158.33</td>\n",
       "      <td>540.00</td>\n",
       "      <td>16.00</td>\n",
       "      <td>0.00</td>\n",
       "      <td>0</td>\n",
       "      <td>0.43</td>\n",
       "      <td>Medium Risk</td>\n",
       "    </tr>\n",
       "    <tr>\n",
       "      <th>925</th>\n",
       "      <td>36.00</td>\n",
       "      <td>83.00</td>\n",
       "      <td>37.72</td>\n",
       "      <td>95.89</td>\n",
       "      <td>90.78</td>\n",
       "      <td>161.78</td>\n",
       "      <td>77.78</td>\n",
       "      <td>8086.00</td>\n",
       "      <td>378.89</td>\n",
       "      <td>15.00</td>\n",
       "      <td>0.00</td>\n",
       "      <td>0</td>\n",
       "      <td>0.44</td>\n",
       "      <td>Medium Risk</td>\n",
       "    </tr>\n",
       "    <tr>\n",
       "      <th>1064</th>\n",
       "      <td>36.00</td>\n",
       "      <td>83.00</td>\n",
       "      <td>37.00</td>\n",
       "      <td>97.33</td>\n",
       "      <td>80.67</td>\n",
       "      <td>111.33</td>\n",
       "      <td>68.67</td>\n",
       "      <td>5522.63</td>\n",
       "      <td>422.57</td>\n",
       "      <td>12.00</td>\n",
       "      <td>2.00</td>\n",
       "      <td>0</td>\n",
       "      <td>0.01</td>\n",
       "      <td>Low Risk</td>\n",
       "    </tr>\n",
       "    <tr>\n",
       "      <th>558</th>\n",
       "      <td>36.00</td>\n",
       "      <td>83.00</td>\n",
       "      <td>37.00</td>\n",
       "      <td>97.00</td>\n",
       "      <td>52.04</td>\n",
       "      <td>121.00</td>\n",
       "      <td>74.72</td>\n",
       "      <td>51.27</td>\n",
       "      <td>428.57</td>\n",
       "      <td>35.33</td>\n",
       "      <td>3.00</td>\n",
       "      <td>0</td>\n",
       "      <td>0.36</td>\n",
       "      <td>Medium Risk</td>\n",
       "    </tr>\n",
       "    <tr>\n",
       "      <th>694</th>\n",
       "      <td>36.00</td>\n",
       "      <td>83.00</td>\n",
       "      <td>37.00</td>\n",
       "      <td>98.00</td>\n",
       "      <td>58.00</td>\n",
       "      <td>102.00</td>\n",
       "      <td>65.00</td>\n",
       "      <td>5522.63</td>\n",
       "      <td>422.57</td>\n",
       "      <td>9.00</td>\n",
       "      <td>0.00</td>\n",
       "      <td>0</td>\n",
       "      <td>0.52</td>\n",
       "      <td>High Risk</td>\n",
       "    </tr>\n",
       "  </tbody>\n",
       "</table>\n",
       "</div>"
      ],
      "text/plain": [
       "       Age  Weight  BodyTemperature  OxygenLevel  HeartRate  Systolic  \\\n",
       "1135 36.00   83.00            37.00        97.50      68.50    111.00   \n",
       "785  36.00   83.00            38.41        93.71      97.43    187.43   \n",
       "570  36.00   83.00            37.00        98.00      70.00    117.33   \n",
       "279  30.00   83.00            37.11        97.12      82.26    123.28   \n",
       "865  36.00   83.00            38.15        99.67      89.17    192.00   \n",
       "748  36.00   83.00            37.00       100.75      94.33    149.50   \n",
       "925  36.00   83.00            37.72        95.89      90.78    161.78   \n",
       "1064 36.00   83.00            37.00        97.33      80.67    111.33   \n",
       "558  36.00   83.00            37.00        97.00      52.04    121.00   \n",
       "694  36.00   83.00            37.00        98.00      58.00    102.00   \n",
       "\n",
       "      Diastolic  StepCount  TimeInBed  RespiratoryRate  StressLevel  Diseases  \\\n",
       "1135      69.00    5522.63     422.57            15.00         0.00         0   \n",
       "785       74.43    8960.86     370.14            17.43         0.00         0   \n",
       "570       66.33     139.33     422.57            14.00         0.00         0   \n",
       "279       71.77     153.91     480.00            15.09         1.00         1   \n",
       "865       71.00    8755.17     363.17            11.00         0.00         0   \n",
       "748       77.50   10158.33     540.00            16.00         0.00         0   \n",
       "925       77.78    8086.00     378.89            15.00         0.00         0   \n",
       "1064      68.67    5522.63     422.57            12.00         2.00         0   \n",
       "558       74.72      51.27     428.57            35.33         3.00         0   \n",
       "694       65.00    5522.63     422.57             9.00         0.00         0   \n",
       "\n",
       "      Risk Probability Risk Category  \n",
       "1135              0.01      Low Risk  \n",
       "785               0.98     High Risk  \n",
       "570               0.07      Low Risk  \n",
       "279               0.71     High Risk  \n",
       "865               0.94     High Risk  \n",
       "748               0.43   Medium Risk  \n",
       "925               0.44   Medium Risk  \n",
       "1064              0.01      Low Risk  \n",
       "558               0.36   Medium Risk  \n",
       "694               0.52     High Risk  "
      ]
     },
     "execution_count": 590,
     "metadata": {},
     "output_type": "execute_result"
    }
   ],
   "source": [
    "# See the first 10 rows of the test dataframe\n",
    "X_test_with_risk_categories.head(10)"
   ]
  },
  {
   "cell_type": "code",
   "execution_count": 591,
   "id": "b330353f",
   "metadata": {},
   "outputs": [
    {
     "data": {
      "text/plain": [
       "High Risk      95\n",
       "Low Risk       93\n",
       "Medium Risk    37\n",
       "Name: Risk Category, dtype: int64"
      ]
     },
     "execution_count": 591,
     "metadata": {},
     "output_type": "execute_result"
    }
   ],
   "source": [
    "# Check the number of patients that our model classifies as High Risk, Medium Risk and Low Risk\n",
    "X_test_with_risk_categories['Risk Category'].value_counts()"
   ]
  },
  {
   "cell_type": "code",
   "execution_count": null,
   "id": "c3fbc179",
   "metadata": {},
   "outputs": [],
   "source": []
  },
  {
   "cell_type": "markdown",
   "id": "34c8460c",
   "metadata": {},
   "source": [
    "### What is the AUC? (Area Under Curve)"
   ]
  },
  {
   "cell_type": "code",
   "execution_count": 592,
   "id": "7be9bd4d",
   "metadata": {},
   "outputs": [
    {
     "name": "stdout",
     "output_type": "stream",
     "text": [
      "0.9615\n"
     ]
    }
   ],
   "source": [
    "fpr, tpr, _ = metrics.roc_curve(y_test, y_pred_proba_gb)\n",
    "\n",
    "auc_gb = metrics.roc_auc_score(y_test, y_pred_proba_gb)\n",
    "\n",
    "print(round(auc_gb, 4))"
   ]
  },
  {
   "cell_type": "code",
   "execution_count": 596,
   "id": "c5eac2ee",
   "metadata": {},
   "outputs": [
    {
     "data": {
      "image/png": "[encoded data removed]",
      "text/plain": [
       "<Figure size 504x360 with 1 Axes>"
      ]
     },
     "metadata": {
      "needs_background": "light"
     },
     "output_type": "display_data"
    }
   ],
   "source": [
    "plt.figure(figsize=(7,5))\n",
    "plt.plot(fpr, tpr, label = 'Gradient Boosting AUC = ' + str(round(auc_gb, 4)))\n",
    "plt.plot([0, 1], [0, 1],'r--', label = 'Random')\n",
    "plt.title('Receiver Operating Characteric (ROC) Curve', size=16)\n",
    "plt.xlabel('False Positive Rate', size=14)\n",
    "plt.ylabel('True Positive Rate', size=14)\n",
    "plt.legend(loc=4)\n",
    "plt.show()"
   ]
  },
  {
   "cell_type": "code",
   "execution_count": null,
   "id": "ebbb3d46",
   "metadata": {},
   "outputs": [],
   "source": []
  },
  {
   "cell_type": "code",
   "execution_count": null,
   "id": "00f33993",
   "metadata": {},
   "outputs": [],
   "source": []
  },
  {
   "cell_type": "code",
   "execution_count": null,
   "id": "20a72e34",
   "metadata": {},
   "outputs": [],
   "source": []
  },
  {
   "cell_type": "code",
   "execution_count": null,
   "id": "4cb73288",
   "metadata": {},
   "outputs": [],
   "source": [
    "# bin_edges = [float('-inf'), 60, 75, 100, 120, float('inf')]\n",
    "# bin_labels = ['Very Low', 'Low', 'Normal', 'High', 'Very High']"
   ]
  },
  {
   "cell_type": "code",
   "execution_count": null,
   "id": "5d13d496",
   "metadata": {
    "scrolled": true
   },
   "outputs": [],
   "source": [
    "# filtered_df['Oxygen_Level_Binned'] = pd.cut(filtered_df['OxygenLevel'], bins=bin_edges, labels=bin_labels, right=False)"
   ]
  },
  {
   "cell_type": "code",
   "execution_count": null,
   "id": "ade6df2d",
   "metadata": {},
   "outputs": [],
   "source": [
    "# filtered_df.Oxygen_Level_Binned.value_counts()"
   ]
  },
  {
   "cell_type": "code",
   "execution_count": null,
   "id": "c3b54485",
   "metadata": {},
   "outputs": [],
   "source": []
  },
  {
   "cell_type": "code",
   "execution_count": null,
   "id": "3722afd4",
   "metadata": {},
   "outputs": [],
   "source": []
  }
 ],
 "metadata": {
  "kernelspec": {
   "display_name": "Python 3 (ipykernel)",
   "language": "python",
   "name": "python3"
  },
  "language_info": {
   "codemirror_mode": {
    "name": "ipython",
    "version": 3
   },
   "file_extension": ".py",
   "mimetype": "text/x-python",
   "name": "python",
   "nbconvert_exporter": "python",
   "pygments_lexer": "ipython3",
   "version": "3.9.7"
  }
 },
 "nbformat": 4,
 "nbformat_minor": 5
}
